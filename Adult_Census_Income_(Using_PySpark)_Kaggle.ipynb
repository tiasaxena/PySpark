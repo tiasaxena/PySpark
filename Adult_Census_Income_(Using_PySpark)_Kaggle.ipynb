{
  "nbformat": 4,
  "nbformat_minor": 0,
  "metadata": {
    "colab": {
      "provenance": [],
      "authorship_tag": "ABX9TyMaV9r/kwjjUkeLjlgeN/Uw",
      "include_colab_link": true
    },
    "kernelspec": {
      "name": "python3",
      "display_name": "Python 3"
    },
    "language_info": {
      "name": "python"
    }
  },
  "cells": [
    {
      "cell_type": "markdown",
      "metadata": {
        "id": "view-in-github",
        "colab_type": "text"
      },
      "source": [
        "<a href=\"https://colab.research.google.com/github/tiasaxena/PySpark/blob/main/Adult_Census_Income_(Using_PySpark)_Kaggle.ipynb\" target=\"_parent\"><img src=\"https://colab.research.google.com/assets/colab-badge.svg\" alt=\"Open In Colab\"/></a>"
      ]
    },
    {
      "cell_type": "markdown",
      "source": [
        "#### **Predict whether income exceeds $50K/yr based on census data**\n",
        "\n",
        "Competition Link: [https://www.kaggle.com/datasets/uciml/adult-census-income](https://www.kaggle.com/datasets/uciml/adult-census-income)\n",
        "\n"
      ],
      "metadata": {
        "id": "e-4OZVBlCJKr"
      }
    },
    {
      "cell_type": "code",
      "execution_count": 87,
      "metadata": {
        "colab": {
          "base_uri": "https://localhost:8080/"
        },
        "id": "-l5xq_p5_uIo",
        "outputId": "a2b8b170-d4ec-4f7e-bb3b-658ef429518c"
      },
      "outputs": [
        {
          "output_type": "stream",
          "name": "stdout",
          "text": [
            "kaggle.json already exists!\n"
          ]
        }
      ],
      "source": [
        "import os\n",
        "from google.colab import files\n",
        "\n",
        "# Check if kaggle.json already exists\n",
        "if not os.path.exists('kaggle.json'):\n",
        "  # Upload the kaggle.json file\n",
        "  uploaded = files.upload()\n",
        "\n",
        "  # Confirm the upload\n",
        "  if 'kaggle.json' in uploaded:\n",
        "    print(\"kaggle.json has been successfully uploaded!\")\n",
        "  else:\n",
        "    print(\"Something went wrong while uploading kaggle.json\")\n",
        "else:\n",
        "  print(\"kaggle.json already exists!\")"
      ]
    },
    {
      "cell_type": "code",
      "source": [
        "! pip install -q kaggle\n",
        "! kaggle datasets download uciml/adult-census-income\n",
        "! unzip adult-census-income.zip"
      ],
      "metadata": {
        "colab": {
          "base_uri": "https://localhost:8080/"
        },
        "id": "OxaiRHo5BsG5",
        "outputId": "6549fdf5-9bae-4477-e721-fbfe59963e04"
      },
      "execution_count": 71,
      "outputs": [
        {
          "output_type": "stream",
          "name": "stdout",
          "text": [
            "Dataset URL: https://www.kaggle.com/datasets/uciml/adult-census-income\n",
            "License(s): CC0-1.0\n",
            "adult-census-income.zip: Skipping, found more recently modified local copy (use --force to force download)\n",
            "Archive:  adult-census-income.zip\n",
            "replace adult.csv? [y]es, [n]o, [A]ll, [N]one, [r]ename: n\n"
          ]
        }
      ]
    },
    {
      "cell_type": "markdown",
      "source": [
        "### 1. Start the Spark Session"
      ],
      "metadata": {
        "id": "ARdfD1d-GM7R"
      }
    },
    {
      "cell_type": "code",
      "source": [
        "import pyspark\n",
        "from pyspark.sql import SparkSession\n",
        "\n",
        "spark = SparkSession.builder.appName(\"adult_income_prediction\").getOrCreate()\n",
        "spark"
      ],
      "metadata": {
        "colab": {
          "base_uri": "https://localhost:8080/",
          "height": 219
        },
        "id": "6VzTggBKFkcX",
        "outputId": "3eb88c30-2e65-4bfc-c251-f3f3aa8dbef2"
      },
      "execution_count": 72,
      "outputs": [
        {
          "output_type": "execute_result",
          "data": {
            "text/plain": [
              "<pyspark.sql.session.SparkSession at 0x7cc7de8dc340>"
            ],
            "text/html": [
              "\n",
              "            <div>\n",
              "                <p><b>SparkSession - in-memory</b></p>\n",
              "                \n",
              "        <div>\n",
              "            <p><b>SparkContext</b></p>\n",
              "\n",
              "            <p><a href=\"http://08a726c4d310:4040\">Spark UI</a></p>\n",
              "\n",
              "            <dl>\n",
              "              <dt>Version</dt>\n",
              "                <dd><code>v3.5.3</code></dd>\n",
              "              <dt>Master</dt>\n",
              "                <dd><code>local[*]</code></dd>\n",
              "              <dt>AppName</dt>\n",
              "                <dd><code>adult_income_prediction</code></dd>\n",
              "            </dl>\n",
              "        </div>\n",
              "        \n",
              "            </div>\n",
              "        "
            ]
          },
          "metadata": {},
          "execution_count": 72
        }
      ]
    },
    {
      "cell_type": "markdown",
      "source": [
        "### 2. Read the CSV Data"
      ],
      "metadata": {
        "id": "Xmc84sZWGP0x"
      }
    },
    {
      "cell_type": "code",
      "source": [
        "df = spark.read.csv('adult.csv', header=True, inferSchema=True)\n",
        "\n",
        "df.printSchema()"
      ],
      "metadata": {
        "colab": {
          "base_uri": "https://localhost:8080/"
        },
        "id": "gaFhPQtcGrFk",
        "outputId": "204e65b2-6a5b-4efa-bbbf-f3f43c221627"
      },
      "execution_count": 73,
      "outputs": [
        {
          "output_type": "stream",
          "name": "stdout",
          "text": [
            "root\n",
            " |-- age: integer (nullable = true)\n",
            " |-- workclass: string (nullable = true)\n",
            " |-- fnlwgt: integer (nullable = true)\n",
            " |-- education: string (nullable = true)\n",
            " |-- education.num: integer (nullable = true)\n",
            " |-- marital.status: string (nullable = true)\n",
            " |-- occupation: string (nullable = true)\n",
            " |-- relationship: string (nullable = true)\n",
            " |-- race: string (nullable = true)\n",
            " |-- sex: string (nullable = true)\n",
            " |-- capital.gain: integer (nullable = true)\n",
            " |-- capital.loss: integer (nullable = true)\n",
            " |-- hours.per.week: integer (nullable = true)\n",
            " |-- native.country: string (nullable = true)\n",
            " |-- income: string (nullable = true)\n",
            "\n"
          ]
        }
      ]
    },
    {
      "cell_type": "code",
      "source": [
        "# Rename the column name of `income` to `label`\n",
        "\n",
        "# Method - 1\n",
        "df = df.withColumnRenamed('income', 'label')\n",
        "\n",
        "# Method - 2\n",
        "new_cols = ['age','workclass','fnlwgt','education','education_num','marital','occupation','relationship','race','sex','capital_gain','capital_loss','hours_week','native_country','label']\n",
        "df=df.toDF(*new_cols)\n",
        "\n",
        "df.printSchema()"
      ],
      "metadata": {
        "colab": {
          "base_uri": "https://localhost:8080/"
        },
        "id": "B5Z7mn2kHKQt",
        "outputId": "cace3b3c-48fc-4d28-ee3c-ef7c1b59b94f"
      },
      "execution_count": 74,
      "outputs": [
        {
          "output_type": "stream",
          "name": "stdout",
          "text": [
            "root\n",
            " |-- age: integer (nullable = true)\n",
            " |-- workclass: string (nullable = true)\n",
            " |-- fnlwgt: integer (nullable = true)\n",
            " |-- education: string (nullable = true)\n",
            " |-- education_num: integer (nullable = true)\n",
            " |-- marital: string (nullable = true)\n",
            " |-- occupation: string (nullable = true)\n",
            " |-- relationship: string (nullable = true)\n",
            " |-- race: string (nullable = true)\n",
            " |-- sex: string (nullable = true)\n",
            " |-- capital_gain: integer (nullable = true)\n",
            " |-- capital_loss: integer (nullable = true)\n",
            " |-- hours_week: integer (nullable = true)\n",
            " |-- native_country: string (nullable = true)\n",
            " |-- label: string (nullable = true)\n",
            "\n"
          ]
        }
      ]
    },
    {
      "cell_type": "code",
      "source": [
        "df.show(5)"
      ],
      "metadata": {
        "colab": {
          "base_uri": "https://localhost:8080/"
        },
        "id": "ztg4cjiZH6JA",
        "outputId": "9442ccb8-c531-4cde-f976-0087b1bdf541"
      },
      "execution_count": 75,
      "outputs": [
        {
          "output_type": "stream",
          "name": "stdout",
          "text": [
            "+---+---------+------+------------+-------------+---------+-----------------+-------------+-----+------+------------+------------+----------+--------------+-----+\n",
            "|age|workclass|fnlwgt|   education|education_num|  marital|       occupation| relationship| race|   sex|capital_gain|capital_loss|hours_week|native_country|label|\n",
            "+---+---------+------+------------+-------------+---------+-----------------+-------------+-----+------+------------+------------+----------+--------------+-----+\n",
            "| 90|        ?| 77053|     HS-grad|            9|  Widowed|                ?|Not-in-family|White|Female|           0|        4356|        40| United-States|<=50K|\n",
            "| 82|  Private|132870|     HS-grad|            9|  Widowed|  Exec-managerial|Not-in-family|White|Female|           0|        4356|        18| United-States|<=50K|\n",
            "| 66|        ?|186061|Some-college|           10|  Widowed|                ?|    Unmarried|Black|Female|           0|        4356|        40| United-States|<=50K|\n",
            "| 54|  Private|140359|     7th-8th|            4| Divorced|Machine-op-inspct|    Unmarried|White|Female|           0|        3900|        40| United-States|<=50K|\n",
            "| 41|  Private|264663|Some-college|           10|Separated|   Prof-specialty|    Own-child|White|Female|           0|        3900|        40| United-States|<=50K|\n",
            "+---+---------+------+------------+-------------+---------+-----------------+-------------+-----+------+------------+------------+----------+--------------+-----+\n",
            "only showing top 5 rows\n",
            "\n"
          ]
        }
      ]
    },
    {
      "cell_type": "code",
      "source": [
        "df.describe().show()"
      ],
      "metadata": {
        "colab": {
          "base_uri": "https://localhost:8080/"
        },
        "id": "G4BYpswsLANJ",
        "outputId": "43c0f98f-b4e4-478a-805b-c08eb66e5ea8"
      },
      "execution_count": 76,
      "outputs": [
        {
          "output_type": "stream",
          "name": "stdout",
          "text": [
            "+-------+------------------+-----------+------------------+------------+-----------------+--------+----------------+------------+------------------+------+------------------+-----------------+------------------+--------------+-----+\n",
            "|summary|               age|  workclass|            fnlwgt|   education|    education_num| marital|      occupation|relationship|              race|   sex|      capital_gain|     capital_loss|        hours_week|native_country|label|\n",
            "+-------+------------------+-----------+------------------+------------+-----------------+--------+----------------+------------+------------------+------+------------------+-----------------+------------------+--------------+-----+\n",
            "|  count|             32561|      32561|             32561|       32561|            32561|   32561|           32561|       32561|             32561| 32561|             32561|            32561|             32561|         32561|32561|\n",
            "|   mean| 38.58164675532078|       NULL|189778.36651208502|        NULL| 10.0806793403151|    NULL|            NULL|        NULL|              NULL|  NULL|1077.6488437087312|  87.303829734959|40.437455852092995|          NULL| NULL|\n",
            "| stddev|13.640432553581295|       NULL|105549.97769702264|        NULL|2.572720332067391|    NULL|            NULL|        NULL|              NULL|  NULL| 7385.292084840311|402.9602186489979|12.347428681731857|          NULL| NULL|\n",
            "|    min|                17|          ?|             12285|        10th|                1|Divorced|               ?|     Husband|Amer-Indian-Eskimo|Female|                 0|                0|                 1|             ?|<=50K|\n",
            "|    max|                90|Without-pay|           1484705|Some-college|               16| Widowed|Transport-moving|        Wife|             White|  Male|             99999|             4356|                99|    Yugoslavia| >50K|\n",
            "+-------+------------------+-----------+------------------+------------+-----------------+--------+----------------+------------+------------------+------+------------------+-----------------+------------------+--------------+-----+\n",
            "\n"
          ]
        }
      ]
    },
    {
      "cell_type": "markdown",
      "source": [
        "#### Crosstab computation\n",
        "\n",
        "A **crosstab** table shows how two variables are related by counting how often different combinations of their values occur. It helps you see the distribution of one variable across the categories of another."
      ],
      "metadata": {
        "id": "huMUPeORMfby"
      }
    },
    {
      "cell_type": "code",
      "source": [
        "df.crosstab('age', 'label').sort('age_label').show()"
      ],
      "metadata": {
        "colab": {
          "base_uri": "https://localhost:8080/"
        },
        "id": "ntSjWax_Mjza",
        "outputId": "44c5250e-4122-457c-b3a7-c8675b822bc5"
      },
      "execution_count": 77,
      "outputs": [
        {
          "output_type": "stream",
          "name": "stdout",
          "text": [
            "+---------+-----+----+\n",
            "|age_label|<=50K|>50K|\n",
            "+---------+-----+----+\n",
            "|       17|  395|   0|\n",
            "|       18|  550|   0|\n",
            "|       19|  710|   2|\n",
            "|       20|  753|   0|\n",
            "|       21|  717|   3|\n",
            "|       22|  752|  13|\n",
            "|       23|  865|  12|\n",
            "|       24|  767|  31|\n",
            "|       25|  788|  53|\n",
            "|       26|  722|  63|\n",
            "|       27|  754|  81|\n",
            "|       28|  748| 119|\n",
            "|       29|  679| 134|\n",
            "|       30|  690| 171|\n",
            "|       31|  705| 183|\n",
            "|       32|  639| 189|\n",
            "|       33|  684| 191|\n",
            "|       34|  643| 243|\n",
            "|       35|  659| 217|\n",
            "|       36|  635| 263|\n",
            "+---------+-----+----+\n",
            "only showing top 20 rows\n",
            "\n"
          ]
        }
      ]
    },
    {
      "cell_type": "markdown",
      "source": [
        "#### Drop columns\n",
        "\n",
        "* `.drop()` - Drop a column\n",
        "* `.dropna()` or `.na.drop()` - Drops rows with NULL values"
      ],
      "metadata": {
        "id": "kvGkjzBpM6f-"
      }
    },
    {
      "cell_type": "code",
      "source": [
        "df.show(5)"
      ],
      "metadata": {
        "colab": {
          "base_uri": "https://localhost:8080/"
        },
        "id": "8DYAwSRJQMQx",
        "outputId": "8e648d73-df3e-4a8a-b3f9-4349aa3eb2fa"
      },
      "execution_count": 78,
      "outputs": [
        {
          "output_type": "stream",
          "name": "stdout",
          "text": [
            "+---+---------+------+------------+-------------+---------+-----------------+-------------+-----+------+------------+------------+----------+--------------+-----+\n",
            "|age|workclass|fnlwgt|   education|education_num|  marital|       occupation| relationship| race|   sex|capital_gain|capital_loss|hours_week|native_country|label|\n",
            "+---+---------+------+------------+-------------+---------+-----------------+-------------+-----+------+------------+------------+----------+--------------+-----+\n",
            "| 90|        ?| 77053|     HS-grad|            9|  Widowed|                ?|Not-in-family|White|Female|           0|        4356|        40| United-States|<=50K|\n",
            "| 82|  Private|132870|     HS-grad|            9|  Widowed|  Exec-managerial|Not-in-family|White|Female|           0|        4356|        18| United-States|<=50K|\n",
            "| 66|        ?|186061|Some-college|           10|  Widowed|                ?|    Unmarried|Black|Female|           0|        4356|        40| United-States|<=50K|\n",
            "| 54|  Private|140359|     7th-8th|            4| Divorced|Machine-op-inspct|    Unmarried|White|Female|           0|        3900|        40| United-States|<=50K|\n",
            "| 41|  Private|264663|Some-college|           10|Separated|   Prof-specialty|    Own-child|White|Female|           0|        3900|        40| United-States|<=50K|\n",
            "+---+---------+------+------------+-------------+---------+-----------------+-------------+-----+------+------------+------------+----------+--------------+-----+\n",
            "only showing top 5 rows\n",
            "\n"
          ]
        }
      ]
    },
    {
      "cell_type": "code",
      "source": [
        "df = df.replace({\"?\": None})\n",
        "df = df.dropna()\n",
        "df.show(5)"
      ],
      "metadata": {
        "colab": {
          "base_uri": "https://localhost:8080/"
        },
        "id": "4AlHGJBWMpzj",
        "outputId": "a47068cb-be45-4541-fe1b-f6179677792a"
      },
      "execution_count": 79,
      "outputs": [
        {
          "output_type": "stream",
          "name": "stdout",
          "text": [
            "+---+---------+------+------------+-------------+---------+-----------------+-------------+-----+------+------------+------------+----------+--------------+-----+\n",
            "|age|workclass|fnlwgt|   education|education_num|  marital|       occupation| relationship| race|   sex|capital_gain|capital_loss|hours_week|native_country|label|\n",
            "+---+---------+------+------------+-------------+---------+-----------------+-------------+-----+------+------------+------------+----------+--------------+-----+\n",
            "| 82|  Private|132870|     HS-grad|            9|  Widowed|  Exec-managerial|Not-in-family|White|Female|           0|        4356|        18| United-States|<=50K|\n",
            "| 54|  Private|140359|     7th-8th|            4| Divorced|Machine-op-inspct|    Unmarried|White|Female|           0|        3900|        40| United-States|<=50K|\n",
            "| 41|  Private|264663|Some-college|           10|Separated|   Prof-specialty|    Own-child|White|Female|           0|        3900|        40| United-States|<=50K|\n",
            "| 34|  Private|216864|     HS-grad|            9| Divorced|    Other-service|    Unmarried|White|Female|           0|        3770|        45| United-States|<=50K|\n",
            "| 38|  Private|150601|        10th|            6|Separated|     Adm-clerical|    Unmarried|White|  Male|           0|        3770|        40| United-States|<=50K|\n",
            "+---+---------+------+------------+-------------+---------+-----------------+-------------+-----+------+------------+------------+----------+--------------+-----+\n",
            "only showing top 5 rows\n",
            "\n"
          ]
        }
      ]
    },
    {
      "cell_type": "markdown",
      "source": [
        "### 3. Data Processing\n",
        "\n",
        "`age` is not in a linear relation with the `label`. Thus, the preictions wil come out to be wrong if we try to bit a linear line along the feature `age`.\n",
        "\n",
        "So, we introduce non-linearity, by adding a column of age<sup>2</sup> to the dataset with will make the equation to a quadriatic instead of linear. Thus, we can achieve a best-fitting curve."
      ],
      "metadata": {
        "id": "n8eqBd-hYsc1"
      }
    },
    {
      "cell_type": "code",
      "source": [
        "# Add age_square column to the df\n",
        "df = df.withColumn('age_square', df.age**2)\n",
        "\n",
        "df.show(5)"
      ],
      "metadata": {
        "colab": {
          "base_uri": "https://localhost:8080/"
        },
        "id": "WV134_XeZzIl",
        "outputId": "2401b1f9-3087-496f-c7f3-a55d99b5fb8f"
      },
      "execution_count": 80,
      "outputs": [
        {
          "output_type": "stream",
          "name": "stdout",
          "text": [
            "+---+---------+------+------------+-------------+---------+-----------------+-------------+-----+------+------------+------------+----------+--------------+-----+----------+\n",
            "|age|workclass|fnlwgt|   education|education_num|  marital|       occupation| relationship| race|   sex|capital_gain|capital_loss|hours_week|native_country|label|age_square|\n",
            "+---+---------+------+------------+-------------+---------+-----------------+-------------+-----+------+------------+------------+----------+--------------+-----+----------+\n",
            "| 82|  Private|132870|     HS-grad|            9|  Widowed|  Exec-managerial|Not-in-family|White|Female|           0|        4356|        18| United-States|<=50K|    6724.0|\n",
            "| 54|  Private|140359|     7th-8th|            4| Divorced|Machine-op-inspct|    Unmarried|White|Female|           0|        3900|        40| United-States|<=50K|    2916.0|\n",
            "| 41|  Private|264663|Some-college|           10|Separated|   Prof-specialty|    Own-child|White|Female|           0|        3900|        40| United-States|<=50K|    1681.0|\n",
            "| 34|  Private|216864|     HS-grad|            9| Divorced|    Other-service|    Unmarried|White|Female|           0|        3770|        45| United-States|<=50K|    1156.0|\n",
            "| 38|  Private|150601|        10th|            6|Separated|     Adm-clerical|    Unmarried|White|  Male|           0|        3770|        40| United-States|<=50K|    1444.0|\n",
            "+---+---------+------+------------+-------------+---------+-----------------+-------------+-----+------+------------+------------+----------+--------------+-----+----------+\n",
            "only showing top 5 rows\n",
            "\n"
          ]
        }
      ]
    },
    {
      "cell_type": "markdown",
      "source": [
        "It is important to check that if for any group, the count is 1, the model will not have very much of a learning and it can instead lead to an error during the cross-validation. So, we must remove such feature."
      ],
      "metadata": {
        "id": "DpQIyf1MaTVG"
      }
    },
    {
      "cell_type": "code",
      "source": [
        "df.filter(df.native_country == 'Holand-Netherlands').count()\n",
        "\n",
        "# ---------- OR ------------\n",
        "\n",
        "df.groupby('native_country').count().orderBy('count', ascending=True).show()"
      ],
      "metadata": {
        "colab": {
          "base_uri": "https://localhost:8080/"
        },
        "id": "pk0E3YcdZ86D",
        "outputId": "663fec74-1387-4bb2-c260-36ace06f888f"
      },
      "execution_count": 81,
      "outputs": [
        {
          "output_type": "stream",
          "name": "stdout",
          "text": [
            "+--------------------+-----+\n",
            "|      native_country|count|\n",
            "+--------------------+-----+\n",
            "|  Holand-Netherlands|    1|\n",
            "|            Scotland|   11|\n",
            "|            Honduras|   12|\n",
            "|             Hungary|   13|\n",
            "|Outlying-US(Guam-...|   14|\n",
            "|          Yugoslavia|   16|\n",
            "|                Laos|   17|\n",
            "|            Thailand|   17|\n",
            "|            Cambodia|   18|\n",
            "|     Trinadad&Tobago|   18|\n",
            "|                Hong|   19|\n",
            "|             Ireland|   24|\n",
            "|              France|   27|\n",
            "|             Ecuador|   27|\n",
            "|              Greece|   29|\n",
            "|                Peru|   30|\n",
            "|           Nicaragua|   33|\n",
            "|            Portugal|   34|\n",
            "|              Taiwan|   42|\n",
            "|                Iran|   42|\n",
            "+--------------------+-----+\n",
            "only showing top 20 rows\n",
            "\n"
          ]
        }
      ]
    },
    {
      "cell_type": "markdown",
      "source": [
        "**Note:** So, let us drop Holand-Netherlands."
      ],
      "metadata": {
        "id": "wcfh3zXSbfIT"
      }
    },
    {
      "cell_type": "code",
      "source": [
        "df = df.filter(df.native_country != 'Holand-Netherlands')\n",
        "\n",
        "df.filter(df.native_country == 'Holand-Netherlands').count()"
      ],
      "metadata": {
        "colab": {
          "base_uri": "https://localhost:8080/"
        },
        "id": "wAHNh-0obkD7",
        "outputId": "2d955d70-6703-43ae-e71f-c4f7e3931a42"
      },
      "execution_count": 82,
      "outputs": [
        {
          "output_type": "execute_result",
          "data": {
            "text/plain": [
              "0"
            ]
          },
          "metadata": {},
          "execution_count": 82
        }
      ]
    },
    {
      "cell_type": "markdown",
      "source": [
        "### 4. Data Processing Pipeline\n",
        "\n",
        "Following steps will be performed in teh pipeline for data processing:\n",
        "* Encode the categorical data(education, marital, workclass, etc.)\n",
        "* Index the `label` feature -> in form of 0/1.\n",
        "* Convert continuous variables in the right format and add them.\n",
        "* Assemble the steps."
      ],
      "metadata": {
        "id": "W3Do_Wu8b3i9"
      }
    },
    {
      "cell_type": "code",
      "source": [
        "from pyspark.ml import Pipeline\n",
        "from pyspark.ml.feature import StringIndexer, OneHotEncoder, VectorAssembler\n",
        "# Import all from `sql.types`\n",
        "from pyspark.sql.types import *"
      ],
      "metadata": {
        "id": "LPweOVn0eGF-"
      },
      "execution_count": 83,
      "outputs": []
    },
    {
      "cell_type": "code",
      "source": [
        "categorical_features = ['workclass', 'education', 'marital', 'occupation', 'relationship', 'race', 'sex', 'native_country']\n",
        "\n",
        "# pipeline stages\n",
        "stages = []\n",
        "\n",
        "# 1. Encode the categorical data into one-hot encoded vector\n",
        "for category in categorical_features:\n",
        "  # StringIndexer converts categorical string values into numerical indices\n",
        "  stringIndexer = StringIndexer(inputCol=category, outputCol=category+\"_Indexed\")\n",
        "\n",
        "  # OneHotEncoderEstimator converts the numerical indices (from StringIndexer) into a one-hot encoded vector\n",
        "  encoder = OneHotEncoder(inputCols=[stringIndexer.getOutputCol()], outputCols=[category + \"classVec\"])\n",
        "\n",
        "  stages += [stringIndexer, encoder]\n",
        "\n",
        "# 2. Index the label feature\n",
        "label_stringIndexer = StringIndexer(inputCol='label', outputCol='label_Indexed')\n",
        "stages += [label_stringIndexer]\n",
        "\n",
        "# 3. Add continuous values\n",
        "def convertColumn(df, names, newType):\n",
        "  \"\"\"\n",
        "  A custom function to convert the data type of DataFrame columns.This is done to ensure that all the numerical values are converted to the Float Datatype which can also lead to more precised calculations.\n",
        "  \"\"\"\n",
        "  for name in names:\n",
        "    df = df.withColumn(name, df[name].cast(newType))\n",
        "  return df\n",
        "\n",
        "# List of continuous features\n",
        "continuous_features  = ['age', 'fnlwgt','capital_gain', 'education_num', 'capital_loss', 'hours_week']\n",
        "\n",
        "# Convert the type\n",
        "df = convertColumn(df, continuous_features, FloatType())\n",
        "\n",
        "assemblerInputs = [c + \"classVec\" for c in categorical_features] + continuous_features\n",
        "\n",
        "print(f\"Assembler Inputs: {assemblerInputs}\")\n",
        "\n",
        "# 4. Assemble the steps\n",
        "# Vector Assembler - All one-hot encoded categorical columns and continuous features are combined into a single features column\n",
        "assembler = VectorAssembler(inputCols=assemblerInputs, outputCol=\"features\")\n",
        "stages += [assembler]\n",
        "\n",
        "stages"
      ],
      "metadata": {
        "colab": {
          "base_uri": "https://localhost:8080/"
        },
        "id": "tTk4Dkm_iOxo",
        "outputId": "52f5bbd3-100a-4563-e5d2-6308356f3a23"
      },
      "execution_count": 84,
      "outputs": [
        {
          "output_type": "stream",
          "name": "stdout",
          "text": [
            "Assembler Inputs: ['workclassclassVec', 'educationclassVec', 'maritalclassVec', 'occupationclassVec', 'relationshipclassVec', 'raceclassVec', 'sexclassVec', 'native_countryclassVec', 'age', 'fnlwgt', 'capital_gain', 'education_num', 'capital_loss', 'hours_week']\n"
          ]
        },
        {
          "output_type": "execute_result",
          "data": {
            "text/plain": [
              "[StringIndexer_4d9497cf0b27,\n",
              " OneHotEncoder_10a48ba17e54,\n",
              " StringIndexer_1b7b5c3d7352,\n",
              " OneHotEncoder_927608e24eee,\n",
              " StringIndexer_eb7d599a9c02,\n",
              " OneHotEncoder_aa0277272085,\n",
              " StringIndexer_a827a4742f2c,\n",
              " OneHotEncoder_7cb8cb4a8b67,\n",
              " StringIndexer_6a1ba361657d,\n",
              " OneHotEncoder_350cac765aca,\n",
              " StringIndexer_760f0d5a4270,\n",
              " OneHotEncoder_8cc89d01cb8c,\n",
              " StringIndexer_2f6ff47f8663,\n",
              " OneHotEncoder_8e11ec8ef36f,\n",
              " StringIndexer_c9132ac482c9,\n",
              " OneHotEncoder_e3cd0ade5a28,\n",
              " StringIndexer_037ad6731af2,\n",
              " VectorAssembler_79a287c432ac]"
            ]
          },
          "metadata": {},
          "execution_count": 84
        }
      ]
    },
    {
      "cell_type": "code",
      "source": [
        "# Create the pipeline\n",
        "pipeline = Pipeline(stages=stages)\n",
        "# Process the input data (df) according to the defined stages.\n",
        "pipelineModel = pipeline.fit(df)\n",
        "# After fitting(learning), the data is tranformed(implementation of the learning)\n",
        "model = pipelineModel.transform(df)\n",
        "\n",
        "model"
      ],
      "metadata": {
        "colab": {
          "base_uri": "https://localhost:8080/"
        },
        "id": "FciEGYvNxcIE",
        "outputId": "688048ac-3cdf-456b-bb1d-3879262f0b7c"
      },
      "execution_count": 86,
      "outputs": [
        {
          "output_type": "execute_result",
          "data": {
            "text/plain": [
              "DataFrame[age: float, workclass: string, fnlwgt: float, education: string, education_num: float, marital: string, occupation: string, relationship: string, race: string, sex: string, capital_gain: float, capital_loss: float, hours_week: float, native_country: string, label: string, age_square: double, workclass_Indexed: double, workclassclassVec: vector, education_Indexed: double, educationclassVec: vector, marital_Indexed: double, maritalclassVec: vector, occupation_Indexed: double, occupationclassVec: vector, relationship_Indexed: double, relationshipclassVec: vector, race_Indexed: double, raceclassVec: vector, sex_Indexed: double, sexclassVec: vector, native_country_Indexed: double, native_countryclassVec: vector, label_Indexed: double, features: vector]"
            ]
          },
          "metadata": {},
          "execution_count": 86
        }
      ]
    },
    {
      "cell_type": "markdown",
      "source": [
        "### 5. Build the Classifier: Logistic\n",
        "\n",
        "The `features` is now a DenseVector. A **dense vector** is a way of representing data as a list or array of numbers where all elements are **explicitly** stored."
      ],
      "metadata": {
        "id": "ARM_Mt-AzO43"
      }
    },
    {
      "cell_type": "code",
      "source": [
        "from pyspark.ml.linalg import DenseVector\n",
        "\n",
        "print(model.rdd.take(5))\n",
        "\n",
        "# Map the RDD to the required format\n",
        "try:\n",
        "  input_data = model.rdd.map(lambda x: (x['label_Indexed'], DenseVector(x['features'])))\n",
        "except KeyError as e:\n",
        "  print(f\"KeyError: {e} - Check if the RDD contains the 'newlabel' and 'features' keys.\")\n",
        "  raise"
      ],
      "metadata": {
        "colab": {
          "base_uri": "https://localhost:8080/"
        },
        "id": "6FgUTeVQxrsI",
        "outputId": "522c6c28-0779-4e75-eb51-14c97821bd71"
      },
      "execution_count": 98,
      "outputs": [
        {
          "output_type": "stream",
          "name": "stdout",
          "text": [
            "[Row(age=82.0, workclass='Private', fnlwgt=132870.0, education='HS-grad', education_num=9.0, marital='Widowed', occupation='Exec-managerial', relationship='Not-in-family', race='White', sex='Female', capital_gain=0.0, capital_loss=4356.0, hours_week=18.0, native_country='United-States', label='<=50K', age_square=6724.0, workclass_Indexed=0.0, workclassclassVec=SparseVector(6, {0: 1.0}), education_Indexed=0.0, educationclassVec=SparseVector(15, {0: 1.0}), marital_Indexed=4.0, maritalclassVec=SparseVector(6, {4: 1.0}), occupation_Indexed=2.0, occupationclassVec=SparseVector(13, {2: 1.0}), relationship_Indexed=1.0, relationshipclassVec=SparseVector(5, {1: 1.0}), race_Indexed=0.0, raceclassVec=SparseVector(4, {0: 1.0}), sex_Indexed=1.0, sexclassVec=SparseVector(1, {}), native_country_Indexed=0.0, native_countryclassVec=SparseVector(39, {0: 1.0}), label_Indexed=0.0, features=SparseVector(95, {0: 1.0, 6: 1.0, 25: 1.0, 29: 1.0, 41: 1.0, 45: 1.0, 50: 1.0, 89: 82.0, 90: 132870.0, 92: 9.0, 93: 4356.0, 94: 18.0})), Row(age=54.0, workclass='Private', fnlwgt=140359.0, education='7th-8th', education_num=4.0, marital='Divorced', occupation='Machine-op-inspct', relationship='Unmarried', race='White', sex='Female', capital_gain=0.0, capital_loss=3900.0, hours_week=40.0, native_country='United-States', label='<=50K', age_square=2916.0, workclass_Indexed=0.0, workclassclassVec=SparseVector(6, {0: 1.0}), education_Indexed=8.0, educationclassVec=SparseVector(15, {8: 1.0}), marital_Indexed=2.0, maritalclassVec=SparseVector(6, {2: 1.0}), occupation_Indexed=6.0, occupationclassVec=SparseVector(13, {6: 1.0}), relationship_Indexed=3.0, relationshipclassVec=SparseVector(5, {3: 1.0}), race_Indexed=0.0, raceclassVec=SparseVector(4, {0: 1.0}), sex_Indexed=1.0, sexclassVec=SparseVector(1, {}), native_country_Indexed=0.0, native_countryclassVec=SparseVector(39, {0: 1.0}), label_Indexed=0.0, features=SparseVector(95, {0: 1.0, 14: 1.0, 23: 1.0, 33: 1.0, 43: 1.0, 45: 1.0, 50: 1.0, 89: 54.0, 90: 140359.0, 92: 4.0, 93: 3900.0, 94: 40.0})), Row(age=41.0, workclass='Private', fnlwgt=264663.0, education='Some-college', education_num=10.0, marital='Separated', occupation='Prof-specialty', relationship='Own-child', race='White', sex='Female', capital_gain=0.0, capital_loss=3900.0, hours_week=40.0, native_country='United-States', label='<=50K', age_square=1681.0, workclass_Indexed=0.0, workclassclassVec=SparseVector(6, {0: 1.0}), education_Indexed=1.0, educationclassVec=SparseVector(15, {1: 1.0}), marital_Indexed=3.0, maritalclassVec=SparseVector(6, {3: 1.0}), occupation_Indexed=0.0, occupationclassVec=SparseVector(13, {0: 1.0}), relationship_Indexed=2.0, relationshipclassVec=SparseVector(5, {2: 1.0}), race_Indexed=0.0, raceclassVec=SparseVector(4, {0: 1.0}), sex_Indexed=1.0, sexclassVec=SparseVector(1, {}), native_country_Indexed=0.0, native_countryclassVec=SparseVector(39, {0: 1.0}), label_Indexed=0.0, features=SparseVector(95, {0: 1.0, 7: 1.0, 24: 1.0, 27: 1.0, 42: 1.0, 45: 1.0, 50: 1.0, 89: 41.0, 90: 264663.0, 92: 10.0, 93: 3900.0, 94: 40.0})), Row(age=34.0, workclass='Private', fnlwgt=216864.0, education='HS-grad', education_num=9.0, marital='Divorced', occupation='Other-service', relationship='Unmarried', race='White', sex='Female', capital_gain=0.0, capital_loss=3770.0, hours_week=45.0, native_country='United-States', label='<=50K', age_square=1156.0, workclass_Indexed=0.0, workclassclassVec=SparseVector(6, {0: 1.0}), education_Indexed=0.0, educationclassVec=SparseVector(15, {0: 1.0}), marital_Indexed=2.0, maritalclassVec=SparseVector(6, {2: 1.0}), occupation_Indexed=5.0, occupationclassVec=SparseVector(13, {5: 1.0}), relationship_Indexed=3.0, relationshipclassVec=SparseVector(5, {3: 1.0}), race_Indexed=0.0, raceclassVec=SparseVector(4, {0: 1.0}), sex_Indexed=1.0, sexclassVec=SparseVector(1, {}), native_country_Indexed=0.0, native_countryclassVec=SparseVector(39, {0: 1.0}), label_Indexed=0.0, features=SparseVector(95, {0: 1.0, 6: 1.0, 23: 1.0, 32: 1.0, 43: 1.0, 45: 1.0, 50: 1.0, 89: 34.0, 90: 216864.0, 92: 9.0, 93: 3770.0, 94: 45.0})), Row(age=38.0, workclass='Private', fnlwgt=150601.0, education='10th', education_num=6.0, marital='Separated', occupation='Adm-clerical', relationship='Unmarried', race='White', sex='Male', capital_gain=0.0, capital_loss=3770.0, hours_week=40.0, native_country='United-States', label='<=50K', age_square=1444.0, workclass_Indexed=0.0, workclassclassVec=SparseVector(6, {0: 1.0}), education_Indexed=7.0, educationclassVec=SparseVector(15, {7: 1.0}), marital_Indexed=3.0, maritalclassVec=SparseVector(6, {3: 1.0}), occupation_Indexed=3.0, occupationclassVec=SparseVector(13, {3: 1.0}), relationship_Indexed=3.0, relationshipclassVec=SparseVector(5, {3: 1.0}), race_Indexed=0.0, raceclassVec=SparseVector(4, {0: 1.0}), sex_Indexed=0.0, sexclassVec=SparseVector(1, {0: 1.0}), native_country_Indexed=0.0, native_countryclassVec=SparseVector(39, {0: 1.0}), label_Indexed=0.0, features=SparseVector(95, {0: 1.0, 13: 1.0, 24: 1.0, 30: 1.0, 43: 1.0, 45: 1.0, 49: 1.0, 50: 1.0, 89: 38.0, 90: 150601.0, 92: 6.0, 93: 3770.0, 94: 40.0}))]\n"
          ]
        }
      ]
    },
    {
      "cell_type": "code",
      "source": [
        "# Create DataFrame from the transformed RDD\n",
        "df_train = spark.createDataFrame(input_data, ['label', 'features'])\n",
        "\n",
        "# Show the resulting DataFrame\n",
        "df_train.show(5)"
      ],
      "metadata": {
        "colab": {
          "base_uri": "https://localhost:8080/"
        },
        "id": "rX3yahzsDtMk",
        "outputId": "670c8432-28b0-48c0-91f2-576ac559cef4"
      },
      "execution_count": 99,
      "outputs": [
        {
          "output_type": "stream",
          "name": "stdout",
          "text": [
            "+-----+--------------------+\n",
            "|label|            features|\n",
            "+-----+--------------------+\n",
            "|  0.0|[1.0,0.0,0.0,0.0,...|\n",
            "|  0.0|[1.0,0.0,0.0,0.0,...|\n",
            "|  0.0|[1.0,0.0,0.0,0.0,...|\n",
            "|  0.0|[1.0,0.0,0.0,0.0,...|\n",
            "|  0.0|[1.0,0.0,0.0,0.0,...|\n",
            "+-----+--------------------+\n",
            "only showing top 5 rows\n",
            "\n"
          ]
        }
      ]
    },
    {
      "cell_type": "markdown",
      "source": [
        "### 6. Create a train/test split"
      ],
      "metadata": {
        "id": "Cr5pZoHOGOmD"
      }
    },
    {
      "cell_type": "code",
      "source": [
        "train_data, test_data = df_train.randomSplit([0.8, 0.2], seed=1234)"
      ],
      "metadata": {
        "id": "lT4qjXtXEM1x"
      },
      "execution_count": 101,
      "outputs": []
    },
    {
      "cell_type": "code",
      "source": [
        "train_data.groupby('label').agg({'label': 'count'}).show()"
      ],
      "metadata": {
        "colab": {
          "base_uri": "https://localhost:8080/"
        },
        "id": "Xi2t7RzDGfGh",
        "outputId": "24b06514-9ee0-446c-e1c7-38f27f9bcd82"
      },
      "execution_count": 104,
      "outputs": [
        {
          "output_type": "stream",
          "name": "stdout",
          "text": [
            "+-----+------------+\n",
            "|label|count(label)|\n",
            "+-----+------------+\n",
            "|  0.0|       18148|\n",
            "|  1.0|        5995|\n",
            "+-----+------------+\n",
            "\n"
          ]
        }
      ]
    },
    {
      "cell_type": "code",
      "source": [
        "test_data.groupby('label').agg({'label': 'count'}).show()"
      ],
      "metadata": {
        "colab": {
          "base_uri": "https://localhost:8080/"
        },
        "id": "PUHfTeotGl_w",
        "outputId": "21308d49-8540-42d4-ba1f-7ddecc7f79d5"
      },
      "execution_count": 105,
      "outputs": [
        {
          "output_type": "stream",
          "name": "stdout",
          "text": [
            "+-----+------------+\n",
            "|label|count(label)|\n",
            "+-----+------------+\n",
            "|  0.0|        4505|\n",
            "|  1.0|        1513|\n",
            "+-----+------------+\n",
            "\n"
          ]
        }
      ]
    },
    {
      "cell_type": "markdown",
      "source": [
        "### 7. Logistic Regression Model"
      ],
      "metadata": {
        "id": "VNk4mMBrHhJ5"
      }
    },
    {
      "cell_type": "code",
      "source": [
        "from pyspark.ml.classification import LogisticRegression\n",
        "\n",
        "lr = LogisticRegression(\n",
        "    labelCol=\"label\",\n",
        "    featuresCol=\"features\",\n",
        "    maxIter=10,\n",
        "    regParam=0.01\n",
        ")\n",
        "\n",
        "lrModel = lr.fit(train_data)"
      ],
      "metadata": {
        "id": "m6Bf6HJNGoJJ"
      },
      "execution_count": 106,
      "outputs": []
    },
    {
      "cell_type": "code",
      "source": [
        "# Print the coefficients and intercept for logistic regression\n",
        "print(f\"Cofficients: {str(lrModel.coefficients)}\")\n",
        "print(f\"Intercept: {str(lrModel.intercept)}\")"
      ],
      "metadata": {
        "colab": {
          "base_uri": "https://localhost:8080/"
        },
        "id": "9jemfIsIHzJh",
        "outputId": "24d25b91-5093-4381-d4bd-72b404f2c2d4"
      },
      "execution_count": 109,
      "outputs": [
        {
          "output_type": "stream",
          "name": "stdout",
          "text": [
            "Cofficients: [0.09101634409615882,-0.3076456696313937,-0.11410322061773778,-0.21228286732936735,0.24998018548992554,0.5871464481380892,-0.2278909389604252,0.018891039657095016,0.3617872616070221,0.6146346711775287,0.0233525804676015,-0.4458636603060742,0.004935191642457577,-0.5470463251904182,-0.7484567342055787,1.0590967625496734,-0.4445223469799122,-0.3799207213348473,0.9845214078731364,-0.5681373296175183,-0.42608583656379784,0.7705968940736075,-0.6925166117226711,-0.2907412398589956,-0.3855129606845306,-0.04717841721244779,-0.26114206913611254,0.3721642580873677,-0.00868455011001916,0.6787909765126494,-0.1110378387683327,0.22435682212922511,-0.7283004480467764,-0.2745954078578791,-0.06807804756350536,-0.6243339708159834,-1.0052893125041196,0.5302803077845539,0.505259845514715,-1.40877118213896,0.527741335427786,-0.09632853161893945,-0.8385372794989355,-0.20097276940617143,1.4970830257224557,0.09623195036713898,-0.06457282228310895,0.20987828639264514,-0.28457425999732594,0.6100584410134214,0.2710335220227122,-0.47009889142653366,0.1538781550147528,0.4589295624685085,-0.384257822799921,0.2829677210459816,-0.4236613743023286,-0.3016325292994389,0.3329353238032002,0.49569147895613,0.10360526489103039,-1.0977939841249957,-0.6244593565772498,0.6377046594488884,-1.7830374441649757,-0.7432758631474138,-0.6609881629345197,0.3419793869773645,-1.5337766679640639,0.2564357459706389,-0.3847616670366476,0.19977339961426882,-0.16992343658553918,0.29699302705993635,-0.48140706671582434,-0.5248062289222928,-0.32353468070608143,-0.057119033322022755,0.790584809034466,0.3019231319145615,-0.08756758328266045,0.8403795297896632,-0.22651408675235868,-1.2601330967629896,-0.4955803747561514,0.6301438233469073,-2.0083082045864153,-0.06993160479029185,-0.7192993865749657,0.022961905541846128,7.338890559755555e-07,0.00014081575109814988,0.12531034835793722,0.0005522031302307101,0.02721928781527162]\n",
            "Intercept: -6.443571674163456\n"
          ]
        }
      ]
    },
    {
      "cell_type": "markdown",
      "source": [
        "### 8. Train and evaluate the model"
      ],
      "metadata": {
        "id": "OCDGOctFH_n0"
      }
    },
    {
      "cell_type": "code",
      "source": [
        "predictions = lrModel.transform(test_data)\n",
        "\n",
        "predictions.printSchema()"
      ],
      "metadata": {
        "colab": {
          "base_uri": "https://localhost:8080/"
        },
        "id": "V-Ac4mIiIBuc",
        "outputId": "92df9d78-4458-41e3-c201-7e4c4e8bddf9"
      },
      "execution_count": 110,
      "outputs": [
        {
          "output_type": "stream",
          "name": "stdout",
          "text": [
            "root\n",
            " |-- label: double (nullable = true)\n",
            " |-- features: vector (nullable = true)\n",
            " |-- rawPrediction: vector (nullable = true)\n",
            " |-- probability: vector (nullable = true)\n",
            " |-- prediction: double (nullable = false)\n",
            "\n"
          ]
        }
      ]
    },
    {
      "cell_type": "code",
      "source": [
        "result = predictions.select('label', 'prediction', 'probability')\n",
        "result.show(5)"
      ],
      "metadata": {
        "colab": {
          "base_uri": "https://localhost:8080/"
        },
        "id": "5UTKPVYrISxw",
        "outputId": "f5f14c3c-8208-4c33-c7d6-ee062ee9299a"
      },
      "execution_count": 113,
      "outputs": [
        {
          "output_type": "stream",
          "name": "stdout",
          "text": [
            "+-----+----------+--------------------+\n",
            "|label|prediction|         probability|\n",
            "+-----+----------+--------------------+\n",
            "|  0.0|       0.0|[0.68028723598545...|\n",
            "|  0.0|       0.0|[0.66176467093464...|\n",
            "|  0.0|       0.0|[0.72160480855499...|\n",
            "|  0.0|       0.0|[0.68439278901977...|\n",
            "|  0.0|       1.0|[0.42374648158736...|\n",
            "+-----+----------+--------------------+\n",
            "only showing top 5 rows\n",
            "\n"
          ]
        }
      ]
    },
    {
      "cell_type": "markdown",
      "source": [
        "### 9. Evaluate the model"
      ],
      "metadata": {
        "id": "S6SVRkQoI25x"
      }
    },
    {
      "cell_type": "code",
      "source": [
        "def accuracy(model):\n",
        "  predictions = model.transform(test_data)\n",
        "  confusion_matrix = predictions.select('label', 'prediction')\n",
        "  acc = confusion_matrix.filter(confusion_matrix.label == confusion_matrix.prediction).count() / confusion_matrix.count()\n",
        "  print(f\"Accuracy of the Logistic Regression Model is: {acc*100:.3f}%\")\n",
        "\n",
        "accuracy(lrModel)"
      ],
      "metadata": {
        "colab": {
          "base_uri": "https://localhost:8080/"
        },
        "id": "QrXMTgEkIZZh",
        "outputId": "ae2d9683-0e76-4160-fcc5-6ed30b9f373c"
      },
      "execution_count": 116,
      "outputs": [
        {
          "output_type": "stream",
          "name": "stdout",
          "text": [
            "Accuracy of the Logistic Regression Model is: 84.812%\n"
          ]
        }
      ]
    },
    {
      "cell_type": "markdown",
      "source": [
        "### 10. ROC metrics"
      ],
      "metadata": {
        "id": "mcej8LIUJj2C"
      }
    },
    {
      "cell_type": "code",
      "source": [
        "from pyspark.ml.evaluation import BinaryClassificationEvaluator\n",
        "\n",
        "evaluator = BinaryClassificationEvaluator(rawPredictionCol=\"rawPrediction\", labelCol=\"label\")\n",
        "print(evaluator.getMetricName(), evaluator.evaluate(predictions))\n"
      ],
      "metadata": {
        "colab": {
          "base_uri": "https://localhost:8080/"
        },
        "id": "pn63JBPrJuaT",
        "outputId": "948a1871-bc03-40dd-a569-dc1e05c02a0b"
      },
      "execution_count": 117,
      "outputs": [
        {
          "output_type": "stream",
          "name": "stdout",
          "text": [
            "areaUnderROC 0.9035533698695667\n"
          ]
        }
      ]
    },
    {
      "cell_type": "markdown",
      "source": [
        "### 11. Tune the hyperparameter"
      ],
      "metadata": {
        "id": "yn1yaR7EKTZH"
      }
    },
    {
      "cell_type": "code",
      "source": [
        "from pyspark.ml.tuning import ParamGridBuilder, CrossValidator\n",
        "\n",
        "# Add the paramateres you want to tune\n",
        "paramGrid = (ParamGridBuilder()\n",
        "             .addGrid(lr.regParam, [0.01, 0.5])\n",
        "             .build())\n",
        "\n",
        "paramGrid"
      ],
      "metadata": {
        "colab": {
          "base_uri": "https://localhost:8080/"
        },
        "id": "i3N6al4uKRR5",
        "outputId": "e62eab40-d6bb-4ad1-b09e-405ca90073fd"
      },
      "execution_count": 121,
      "outputs": [
        {
          "output_type": "execute_result",
          "data": {
            "text/plain": [
              "[{Param(parent='LogisticRegression_255150048b5d', name='regParam', doc='regularization parameter (>= 0).'): 0.01},\n",
              " {Param(parent='LogisticRegression_255150048b5d', name='regParam', doc='regularization parameter (>= 0).'): 0.5}]"
            ]
          },
          "metadata": {},
          "execution_count": 121
        }
      ]
    },
    {
      "cell_type": "code",
      "source": [
        "from time import *\n",
        "start_time = time()\n",
        "\n",
        "# Create 5-fold CrossValidator\n",
        "cv = CrossValidator(estimator=lr, estimatorParamMaps=paramGrid, evaluator=evaluator, numFolds=5)\n",
        "\n",
        "# Run cross validations\n",
        "cvModel = cv.fit(train_data)\n",
        "\n",
        "end_time = time()\n",
        "elapsed_time = end_time - start_time\n",
        "print(f\"Time taken to train the model: {elapsed_time:.3f} seconds\")\n",
        "accuracy(model = cvModel)"
      ],
      "metadata": {
        "colab": {
          "base_uri": "https://localhost:8080/"
        },
        "id": "98mjyxJkK51G",
        "outputId": "8cc6656c-f052-4bc7-8caa-19078f98b122"
      },
      "execution_count": 123,
      "outputs": [
        {
          "output_type": "stream",
          "name": "stdout",
          "text": [
            "Time taken to train the model: 450.879 seconds\n",
            "Accuracy of the Logistic Regression Model is: 84.812%\n"
          ]
        }
      ]
    },
    {
      "cell_type": "markdown",
      "source": [
        "**Note:** We exctract the recommended parameter by chaining `cvModel.bestModel` with `extractParamMap()`"
      ],
      "metadata": {
        "id": "kI4M6hBjLm4z"
      }
    },
    {
      "cell_type": "code",
      "source": [
        "# Get the best hyperparams\n",
        "bestModel = cvModel.bestModel\n",
        "print(f\"Best hyperparameters: {bestModel.extractParamMap()}\")"
      ],
      "metadata": {
        "colab": {
          "base_uri": "https://localhost:8080/"
        },
        "id": "N0s9hDkLLjbD",
        "outputId": "c2c6a91c-e206-42b6-dd8b-f7ab820f046c"
      },
      "execution_count": 125,
      "outputs": [
        {
          "output_type": "stream",
          "name": "stdout",
          "text": [
            "Best hyperparameters: {Param(parent='LogisticRegression_255150048b5d', name='aggregationDepth', doc='suggested depth for treeAggregate (>= 2).'): 2, Param(parent='LogisticRegression_255150048b5d', name='elasticNetParam', doc='the ElasticNet mixing parameter, in range [0, 1]. For alpha = 0, the penalty is an L2 penalty. For alpha = 1, it is an L1 penalty.'): 0.0, Param(parent='LogisticRegression_255150048b5d', name='family', doc='The name of family which is a description of the label distribution to be used in the model. Supported options: auto, binomial, multinomial'): 'auto', Param(parent='LogisticRegression_255150048b5d', name='featuresCol', doc='features column name.'): 'features', Param(parent='LogisticRegression_255150048b5d', name='fitIntercept', doc='whether to fit an intercept term.'): True, Param(parent='LogisticRegression_255150048b5d', name='labelCol', doc='label column name.'): 'label', Param(parent='LogisticRegression_255150048b5d', name='maxBlockSizeInMB', doc='maximum memory in MB for stacking input data into blocks. Data is stacked within partitions. If more than remaining data size in a partition then it is adjusted to the data size. Default 0.0 represents choosing optimal value, depends on specific algorithm. Must be >= 0.'): 0.0, Param(parent='LogisticRegression_255150048b5d', name='maxIter', doc='max number of iterations (>= 0).'): 10, Param(parent='LogisticRegression_255150048b5d', name='predictionCol', doc='prediction column name.'): 'prediction', Param(parent='LogisticRegression_255150048b5d', name='probabilityCol', doc='Column name for predicted class conditional probabilities. Note: Not all models output well-calibrated probability estimates! These probabilities should be treated as confidences, not precise probabilities.'): 'probability', Param(parent='LogisticRegression_255150048b5d', name='rawPredictionCol', doc='raw prediction (a.k.a. confidence) column name.'): 'rawPrediction', Param(parent='LogisticRegression_255150048b5d', name='regParam', doc='regularization parameter (>= 0).'): 0.01, Param(parent='LogisticRegression_255150048b5d', name='standardization', doc='whether to standardize the training features before fitting the model.'): True, Param(parent='LogisticRegression_255150048b5d', name='threshold', doc='Threshold in binary classification prediction, in range [0, 1]. If threshold and thresholds are both set, they must match.e.g. if threshold is p, then thresholds must be equal to [1-p, p].'): 0.5, Param(parent='LogisticRegression_255150048b5d', name='tol', doc='the convergence tolerance for iterative algorithms (>= 0).'): 1e-06}\n"
          ]
        }
      ]
    }
  ]
}