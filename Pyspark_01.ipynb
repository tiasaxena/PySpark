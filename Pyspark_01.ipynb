{
  "cells": [
    {
      "cell_type": "markdown",
      "metadata": {
        "id": "view-in-github",
        "colab_type": "text"
      },
      "source": [
        "<a href=\"https://colab.research.google.com/github/tiasaxena/PySpark/blob/main/Pyspark_01.ipynb\" target=\"_parent\"><img src=\"https://colab.research.google.com/assets/colab-badge.svg\" alt=\"Open In Colab\"/></a>"
      ]
    },
    {
      "cell_type": "markdown",
      "source": [
        "Databricks notebook - [notebook link](https://community.cloud.databricks.com/?o=18716907705525#notebook/2636093781425835/command/2636093781425838  )"
      ],
      "metadata": {
        "id": "zf8QwOpY1eW_"
      }
    },
    {
      "cell_type": "markdown",
      "metadata": {
        "application/vnd.databricks.v1+cell": {
          "cellMetadata": {
            "byteLimit": 2048000,
            "rowLimit": 10000
          },
          "inputWidgets": {},
          "nuid": "c2e7837c-56cd-4ca5-8e84-52897ab484b7",
          "showTitle": false,
          "tableResultSettingsMap": {},
          "title": ""
        },
        "id": "UT0-CkXLyV1D"
      },
      "source": [
        "## 1. Reading CSV in Spark"
      ]
    },
    {
      "cell_type": "markdown",
      "metadata": {
        "application/vnd.databricks.v1+cell": {
          "cellMetadata": {
            "byteLimit": 2048000,
            "rowLimit": 10000
          },
          "inputWidgets": {},
          "nuid": "295f8fe9-0836-485d-8d9d-6caaab0c79c2",
          "showTitle": false,
          "tableResultSettingsMap": {},
          "title": ""
        },
        "id": "Fp-Zs0-lyV1M"
      },
      "source": [
        "### DataFrame reader API\n",
        "The API used for reading the files in spark is `.read()`. The files can be CSV, JSON, Parquet, ODBC/JDBC. Parquet is the format by default.\n",
        "\n",
        "**Syntax**\n",
        "`spark.read.format(\"__file format__\").option(\"key\": \"value\").load(\"__path location__\").schema()`\n",
        "\n",
        "3 modes `mode()`\n",
        "* Failfast - If there is any corrupted record in our data, fail execution.\n",
        "* Dropmalformed - Drop the corrupted record.\n",
        "* Permissive - By default. Set null value to all corrupted fields."
      ]
    },
    {
      "cell_type": "code",
      "execution_count": null,
      "metadata": {
        "application/vnd.databricks.v1+cell": {
          "cellMetadata": {
            "byteLimit": 2048000,
            "rowLimit": 10000
          },
          "inputWidgets": {},
          "nuid": "fa673156-6649-45b0-b805-b33db45e0d6a",
          "showTitle": false,
          "tableResultSettingsMap": {},
          "title": ""
        },
        "id": "gJkmsfzqyV1O",
        "outputId": "49e70e86-d454-4bb8-a827-1c26c23928b2"
      },
      "outputs": [
        {
          "output_type": "display_data",
          "data": {
            "text/html": [
              "\n",
              "            <div>\n",
              "                <p><b>SparkSession - hive</b></p>\n",
              "                \n",
              "        <div>\n",
              "            <p><b>SparkContext</b></p>\n",
              "\n",
              "            <p><a href=\"/?o=18716907705525#setting/sparkui/1210-132857-v8qlllv8/driver-5277203379433852241\">Spark UI</a></p>\n",
              "\n",
              "            <dl>\n",
              "              <dt>Version</dt>\n",
              "                <dd><code>v3.3.2</code></dd>\n",
              "              <dt>Master</dt>\n",
              "                <dd><code>local[8]</code></dd>\n",
              "              <dt>AppName</dt>\n",
              "                <dd><code>Databricks Shell</code></dd>\n",
              "            </dl>\n",
              "        </div>\n",
              "        \n",
              "            </div>\n",
              "        "
            ]
          },
          "metadata": {
            "application/vnd.databricks.v1+output": {
              "addedWidgets": {},
              "arguments": {},
              "data": "\n            <div>\n                <p><b>SparkSession - hive</b></p>\n                \n        <div>\n            <p><b>SparkContext</b></p>\n\n            <p><a href=\"/?o=18716907705525#setting/sparkui/1210-132857-v8qlllv8/driver-5277203379433852241\">Spark UI</a></p>\n\n            <dl>\n              <dt>Version</dt>\n                <dd><code>v3.3.2</code></dd>\n              <dt>Master</dt>\n                <dd><code>local[8]</code></dd>\n              <dt>AppName</dt>\n                <dd><code>Databricks Shell</code></dd>\n            </dl>\n        </div>\n        \n            </div>\n        ",
              "datasetInfos": [],
              "metadata": {},
              "removedWidgets": [],
              "textData": null,
              "type": "htmlSandbox"
            }
          }
        }
      ],
      "source": [
        "spark"
      ]
    },
    {
      "cell_type": "code",
      "execution_count": null,
      "metadata": {
        "application/vnd.databricks.v1+cell": {
          "cellMetadata": {
            "byteLimit": 2048000,
            "rowLimit": 10000
          },
          "inputWidgets": {},
          "nuid": "0bc118bb-b811-490d-a25e-d24941f403cd",
          "showTitle": false,
          "tableResultSettingsMap": {},
          "title": ""
        },
        "id": "uqzf-wD4yV1S",
        "outputId": "9474c1cf-e2be-4f44-9fe8-c0b8e38a95f8"
      },
      "outputs": [
        {
          "output_type": "display_data",
          "data": {
            "text/html": [
              "<style scoped>\n",
              "  .ansiout {\n",
              "    display: block;\n",
              "    unicode-bidi: embed;\n",
              "    white-space: pre-wrap;\n",
              "    word-wrap: break-word;\n",
              "    word-break: break-all;\n",
              "    font-family: \"Menlo\", \"Monaco\", \"Consolas\", \"Ubuntu Mono\", \"Source Code Pro\", monospace;\n",
              "    font-size: 13px;\n",
              "    color: #555;\n",
              "    margin-left: 4px;\n",
              "    line-height: 19px;\n",
              "  }\n",
              "</style>"
            ]
          },
          "metadata": {
            "application/vnd.databricks.v1+output": {
              "arguments": {},
              "data": "",
              "errorSummary": "Cancelled",
              "errorTraceType": "html",
              "metadata": {},
              "type": "ipynbError"
            }
          }
        }
      ],
      "source": [
        "flight_df = (\n",
        "    spark.read.format(\"csv\")\n",
        "    .option(\"header\", \"false\")\n",
        "    .option(\"inferschema\", \"false\")\n",
        "    .option(\"mode\", \"FAILFAST\")\n",
        "    .load(\"/FileStore/tables/flight_data_pyspark.csv\")\n",
        ")\n",
        "\n",
        "flight_df.show(5)"
      ]
    },
    {
      "cell_type": "code",
      "execution_count": null,
      "metadata": {
        "application/vnd.databricks.v1+cell": {
          "cellMetadata": {
            "byteLimit": 2048000,
            "rowLimit": 10000
          },
          "inputWidgets": {},
          "nuid": "57254026-be2a-4cda-82a4-a885a38a42cf",
          "showTitle": false,
          "tableResultSettingsMap": {},
          "title": ""
        },
        "id": "fAl8AvaayV1T",
        "outputId": "d98504eb-1d7d-443b-d847-5d8d925070ae"
      },
      "outputs": [
        {
          "output_type": "display_data",
          "data": {
            "text/html": [
              "<style scoped>\n",
              "  .ansiout {\n",
              "    display: block;\n",
              "    unicode-bidi: embed;\n",
              "    white-space: pre-wrap;\n",
              "    word-wrap: break-word;\n",
              "    word-break: break-all;\n",
              "    font-family: \"Menlo\", \"Monaco\", \"Consolas\", \"Ubuntu Mono\", \"Source Code Pro\", monospace;\n",
              "    font-size: 13px;\n",
              "    color: #555;\n",
              "    margin-left: 4px;\n",
              "    line-height: 19px;\n",
              "  }\n",
              "</style>"
            ]
          },
          "metadata": {
            "application/vnd.databricks.v1+output": {
              "arguments": {},
              "data": "",
              "errorSummary": "Command skipped",
              "errorTraceType": "html",
              "metadata": {},
              "type": "ipynbError"
            }
          }
        }
      ],
      "source": [
        "flight_df_header = (\n",
        "    spark.read.format(\"csv\")\n",
        "    .option(\"header\", \"true\")\n",
        "    .option(\"inferschema\", \"false\")\n",
        "    .option(\"mode\", \"FAILFAST\")\n",
        "    .load(\"/FileStore/tables/flight_data_pyspark.csv\")\n",
        ")\n",
        "\n",
        "flight_df_header.show(5)"
      ]
    },
    {
      "cell_type": "code",
      "execution_count": null,
      "metadata": {
        "application/vnd.databricks.v1+cell": {
          "cellMetadata": {
            "byteLimit": 2048000,
            "rowLimit": 10000
          },
          "inputWidgets": {},
          "nuid": "f7993c32-6f5c-4276-9803-f5c7ba962ef8",
          "showTitle": false,
          "tableResultSettingsMap": {},
          "title": ""
        },
        "id": "6gdc0530yV1U",
        "outputId": "13e38985-f390-4da3-8180-2331a1813758"
      },
      "outputs": [
        {
          "output_type": "display_data",
          "data": {
            "text/html": [
              "<style scoped>\n",
              "  .ansiout {\n",
              "    display: block;\n",
              "    unicode-bidi: embed;\n",
              "    white-space: pre-wrap;\n",
              "    word-wrap: break-word;\n",
              "    word-break: break-all;\n",
              "    font-family: \"Menlo\", \"Monaco\", \"Consolas\", \"Ubuntu Mono\", \"Source Code Pro\", monospace;\n",
              "    font-size: 13px;\n",
              "    color: #555;\n",
              "    margin-left: 4px;\n",
              "    line-height: 19px;\n",
              "  }\n",
              "</style>"
            ]
          },
          "metadata": {
            "application/vnd.databricks.v1+output": {
              "arguments": {},
              "data": "",
              "errorSummary": "Command skipped",
              "errorTraceType": "html",
              "metadata": {},
              "type": "ipynbError"
            }
          }
        }
      ],
      "source": [
        "flight_df_header.printSchema()"
      ]
    },
    {
      "cell_type": "code",
      "execution_count": null,
      "metadata": {
        "application/vnd.databricks.v1+cell": {
          "cellMetadata": {
            "byteLimit": 2048000,
            "rowLimit": 10000
          },
          "inputWidgets": {},
          "nuid": "cbe773f5-0e7a-4b96-bc86-0bdfeaf8ede8",
          "showTitle": false,
          "tableResultSettingsMap": {},
          "title": ""
        },
        "id": "yA7iyodwyV1V",
        "outputId": "d7e1f305-60cd-4424-ceed-226be474a30a"
      },
      "outputs": [
        {
          "output_type": "display_data",
          "data": {
            "text/html": [
              "<style scoped>\n",
              "  .ansiout {\n",
              "    display: block;\n",
              "    unicode-bidi: embed;\n",
              "    white-space: pre-wrap;\n",
              "    word-wrap: break-word;\n",
              "    word-break: break-all;\n",
              "    font-family: \"Menlo\", \"Monaco\", \"Consolas\", \"Ubuntu Mono\", \"Source Code Pro\", monospace;\n",
              "    font-size: 13px;\n",
              "    color: #555;\n",
              "    margin-left: 4px;\n",
              "    line-height: 19px;\n",
              "  }\n",
              "</style>"
            ]
          },
          "metadata": {
            "application/vnd.databricks.v1+output": {
              "arguments": {},
              "data": "",
              "errorSummary": "Command skipped",
              "errorTraceType": "html",
              "metadata": {},
              "type": "ipynbError"
            }
          }
        }
      ],
      "source": [
        "flight_df_schema = (\n",
        "    spark.read.format(\"csv\")\n",
        "    .option(\"header\", \"true\")\n",
        "    .option(\"inferschema\", \"true\")\n",
        "    .option(\"mode\", \"FAILFAST\")\n",
        "    .load(\"/FileStore/tables/flight_data_pyspark.csv\")\n",
        ")\n",
        "\n",
        "flight_df_schema.printSchema()"
      ]
    },
    {
      "cell_type": "markdown",
      "metadata": {
        "application/vnd.databricks.v1+cell": {
          "cellMetadata": {
            "byteLimit": 2048000,
            "rowLimit": 10000
          },
          "inputWidgets": {},
          "nuid": "16d5c63a-cd15-4bc2-af1e-03acd41c7467",
          "showTitle": true,
          "tableResultSettingsMap": {},
          "title": ""
        },
        "id": "TFu0TD-YyV1W"
      },
      "source": [
        "## 2. Creating Manual Schema\n",
        "\n",
        "\n",
        "There are two ways to create schema:\n",
        "1. Struct Type - Struct Field\n",
        "2. DDL\n",
        "\n",
        "\n",
        "Task - We will explicity provide the Schema(which has the header of the data), with PERMISSIVE mode.\n",
        "\n",
        "\n",
        "**skipRows:** this is done to remove the first row, which includes all the column names, since we have provided the schema explicitly\\"
      ]
    },
    {
      "cell_type": "code",
      "execution_count": null,
      "metadata": {
        "application/vnd.databricks.v1+cell": {
          "cellMetadata": {
            "byteLimit": 2048000,
            "rowLimit": 10000
          },
          "inputWidgets": {},
          "nuid": "c113f2b0-ec4a-4776-821d-bcef07492c7d",
          "showTitle": false,
          "tableResultSettingsMap": {},
          "title": ""
        },
        "id": "kFodNWrxyV1X",
        "outputId": "8f033d14-0ae4-4ead-e442-bb3b6232dd1a"
      },
      "outputs": [
        {
          "output_type": "display_data",
          "data": {
            "text/html": [
              "<style scoped>\n",
              "  .ansiout {\n",
              "    display: block;\n",
              "    unicode-bidi: embed;\n",
              "    white-space: pre-wrap;\n",
              "    word-wrap: break-word;\n",
              "    word-break: break-all;\n",
              "    font-family: \"Menlo\", \"Monaco\", \"Consolas\", \"Ubuntu Mono\", \"Source Code Pro\", monospace;\n",
              "    font-size: 13px;\n",
              "    color: #555;\n",
              "    margin-left: 4px;\n",
              "    line-height: 19px;\n",
              "  }\n",
              "</style>"
            ]
          },
          "metadata": {
            "application/vnd.databricks.v1+output": {
              "arguments": {},
              "data": "",
              "errorSummary": "Command skipped",
              "errorTraceType": "html",
              "metadata": {},
              "type": "ipynbError"
            }
          }
        }
      ],
      "source": [
        "from pyspark.sql.types import StructField, StructType, IntegerType, StringType\n",
        "\n",
        "my_schema = StructType([\n",
        "  StructField(\"DEST_COUNTRY_NAME\", StringType(), True),\n",
        "  StructField(\"ORIGIN_COUNTRY_NAME\", StringType(), True),\n",
        "  StructField(\"count\", IntegerType(), True)\n",
        "])\n",
        "\n",
        "flight_db = spark.read.format(\"csv\")\\\n",
        "                      .option(\"inferschema\", \"false\")\\\n",
        "                      .option(\"skipRows\", 1)\\\n",
        "                      .option(\"header\", \"false\")\\\n",
        "                      .option(\"mode\", \"PERMISSIVE\")\\\n",
        "                      .schema(my_schema)\\\n",
        "                      .load(\"/FileStore/tables/flight_data_pyspark.csv\")\n",
        "\n",
        "flight_db.show(5)"
      ]
    },
    {
      "cell_type": "markdown",
      "metadata": {
        "application/vnd.databricks.v1+cell": {
          "cellMetadata": {
            "byteLimit": 2048000,
            "rowLimit": 10000
          },
          "inputWidgets": {},
          "nuid": "2bb52bc8-48e9-4a35-ac64-b85d5762dcee",
          "showTitle": false,
          "tableResultSettingsMap": {},
          "title": ""
        },
        "id": "UFmaGawNyV1Y"
      },
      "source": [
        "## 3. Handling Corrupted Record in Spark\n",
        "\n",
        "When do we say our record is corrupted?\n",
        "1. JSON - the {, } braces are not closed properly.\n",
        "2. CSV - There are 5 fields expected, so we must have 5 comma separated values. But one of the fields(e.g., address) may have commas in itself.\n",
        "\n",
        "Thus, in different modes, following will the behaivor be:\n",
        "1. PERMISSIVE - all the records will be there, and all the corrupted values will be replaced with NULL.\n",
        "2. FAILFAST - will drop the entire record even if one of the fields have a corrupted value.\n",
        "3. DROPMALFOMRED - only the corrupted rows will be dropped."
      ]
    },
    {
      "cell_type": "code",
      "execution_count": null,
      "metadata": {
        "application/vnd.databricks.v1+cell": {
          "cellMetadata": {
            "byteLimit": 2048000,
            "rowLimit": 10000
          },
          "inputWidgets": {},
          "nuid": "dbe35a3e-164a-468a-962d-dd416a0399b9",
          "showTitle": false,
          "tableResultSettingsMap": {},
          "title": ""
        },
        "id": "Aw4TcI4kyV1Y",
        "outputId": "34ad2f93-caae-4e12-e213-3de9a302b3da"
      },
      "outputs": [
        {
          "output_type": "display_data",
          "data": {
            "text/html": [
              "<style scoped>\n",
              "  .ansiout {\n",
              "    display: block;\n",
              "    unicode-bidi: embed;\n",
              "    white-space: pre-wrap;\n",
              "    word-wrap: break-word;\n",
              "    word-break: break-all;\n",
              "    font-family: \"Menlo\", \"Monaco\", \"Consolas\", \"Ubuntu Mono\", \"Source Code Pro\", monospace;\n",
              "    font-size: 13px;\n",
              "    color: #555;\n",
              "    margin-left: 4px;\n",
              "    line-height: 19px;\n",
              "  }\n",
              "</style>"
            ]
          },
          "metadata": {
            "application/vnd.databricks.v1+output": {
              "arguments": {},
              "data": "",
              "errorSummary": "Command skipped",
              "errorTraceType": "html",
              "metadata": {},
              "type": "ipynbError"
            }
          }
        }
      ],
      "source": [
        "employee_df1 = spark.read.format(\"csv\")\\\n",
        "                        .option(\"inferschema\", \"true\")\\\n",
        "                        .option(\"header\", \"true\")\\\n",
        "                        .option(\"mode\", \"PERMISSIVE\")\\\n",
        "                        .load(\"/FileStore/tables/employee.csv\")\n",
        "\n",
        "employee_df1.show()"
      ]
    },
    {
      "cell_type": "code",
      "execution_count": null,
      "metadata": {
        "application/vnd.databricks.v1+cell": {
          "cellMetadata": {
            "byteLimit": 2048000,
            "rowLimit": 10000
          },
          "inputWidgets": {},
          "nuid": "19bfa43a-aaed-47c6-90de-e8214bf0deb4",
          "showTitle": false,
          "tableResultSettingsMap": {},
          "title": ""
        },
        "id": "CxXAJd4fyV1Z",
        "outputId": "bcd39247-d627-401d-8d95-46aa51c6498a"
      },
      "outputs": [
        {
          "output_type": "display_data",
          "data": {
            "text/html": [
              "<style scoped>\n",
              "  .ansiout {\n",
              "    display: block;\n",
              "    unicode-bidi: embed;\n",
              "    white-space: pre-wrap;\n",
              "    word-wrap: break-word;\n",
              "    word-break: break-all;\n",
              "    font-family: \"Menlo\", \"Monaco\", \"Consolas\", \"Ubuntu Mono\", \"Source Code Pro\", monospace;\n",
              "    font-size: 13px;\n",
              "    color: #555;\n",
              "    margin-left: 4px;\n",
              "    line-height: 19px;\n",
              "  }\n",
              "</style>"
            ]
          },
          "metadata": {
            "application/vnd.databricks.v1+output": {
              "arguments": {},
              "data": "",
              "errorSummary": "Command skipped",
              "errorTraceType": "html",
              "metadata": {},
              "type": "ipynbError"
            }
          }
        }
      ],
      "source": [
        "employee_df2 = spark.read.format(\"csv\")\\\n",
        "                        .option(\"inferschema\", \"true\")\\\n",
        "                        .option(\"header\", \"true\")\\\n",
        "                        .option(\"mode\", \"FAILFAST\")\\\n",
        "                        .load(\"/FileStore/tables/employee.csv\")\n",
        "\n",
        "employee_df2.show()"
      ]
    },
    {
      "cell_type": "code",
      "execution_count": null,
      "metadata": {
        "application/vnd.databricks.v1+cell": {
          "cellMetadata": {
            "byteLimit": 2048000,
            "rowLimit": 10000
          },
          "inputWidgets": {},
          "nuid": "7b72c657-f3fd-4477-a20a-f8f496d32394",
          "showTitle": false,
          "tableResultSettingsMap": {},
          "title": ""
        },
        "id": "JRDvc7FDyV1a",
        "outputId": "29bd568c-71a1-4100-b696-02bb78ed5a61"
      },
      "outputs": [
        {
          "output_type": "display_data",
          "data": {
            "text/html": [
              "<style scoped>\n",
              "  .ansiout {\n",
              "    display: block;\n",
              "    unicode-bidi: embed;\n",
              "    white-space: pre-wrap;\n",
              "    word-wrap: break-word;\n",
              "    word-break: break-all;\n",
              "    font-family: \"Menlo\", \"Monaco\", \"Consolas\", \"Ubuntu Mono\", \"Source Code Pro\", monospace;\n",
              "    font-size: 13px;\n",
              "    color: #555;\n",
              "    margin-left: 4px;\n",
              "    line-height: 19px;\n",
              "  }\n",
              "</style>"
            ]
          },
          "metadata": {
            "application/vnd.databricks.v1+output": {
              "arguments": {},
              "data": "",
              "errorSummary": "Command skipped",
              "errorTraceType": "html",
              "metadata": {},
              "type": "ipynbError"
            }
          }
        }
      ],
      "source": [
        "employee_df3 = spark.read.format(\"csv\")\\\n",
        "                        .option(\"inferschema\", \"true\")\\\n",
        "                        .option(\"header\", \"true\")\\\n",
        "                        .option(\"mode\", \"DROPMALFORMED\")\\\n",
        "                        .load(\"/FileStore/tables/employee.csv\")"
      ]
    },
    {
      "cell_type": "markdown",
      "metadata": {
        "application/vnd.databricks.v1+cell": {
          "cellMetadata": {
            "byteLimit": 2048000,
            "rowLimit": 10000
          },
          "inputWidgets": {},
          "nuid": "ff229810-2265-461b-bdb6-039cd2c7e29a",
          "showTitle": false,
          "tableResultSettingsMap": {},
          "title": ""
        },
        "id": "_TiD-8uKyV1b"
      },
      "source": [
        "Thus, we observe:\n",
        "1. PERMISSIVE will replace corrupt values with null.\n",
        "2. FAILFAST will show error if any corrupt value is there.\n",
        "3. DROPMALFORMED will show only the non-corrupt rows."
      ]
    },
    {
      "cell_type": "code",
      "execution_count": null,
      "metadata": {
        "application/vnd.databricks.v1+cell": {
          "cellMetadata": {
            "byteLimit": 2048000,
            "rowLimit": 10000
          },
          "inputWidgets": {},
          "nuid": "92d4a9e5-4212-4ea0-bdda-8683f59e0759",
          "showTitle": false,
          "tableResultSettingsMap": {},
          "title": ""
        },
        "id": "uoUyFnFdyV1b",
        "outputId": "94bfa714-f7cc-4eb2-ef11-8e9e6c3e9d2e"
      },
      "outputs": [
        {
          "output_type": "display_data",
          "data": {
            "text/html": [
              "<style scoped>\n",
              "  .ansiout {\n",
              "    display: block;\n",
              "    unicode-bidi: embed;\n",
              "    white-space: pre-wrap;\n",
              "    word-wrap: break-word;\n",
              "    word-break: break-all;\n",
              "    font-family: \"Menlo\", \"Monaco\", \"Consolas\", \"Ubuntu Mono\", \"Source Code Pro\", monospace;\n",
              "    font-size: 13px;\n",
              "    color: #555;\n",
              "    margin-left: 4px;\n",
              "    line-height: 19px;\n",
              "  }\n",
              "</style>"
            ]
          },
          "metadata": {
            "application/vnd.databricks.v1+output": {
              "arguments": {},
              "data": "",
              "errorSummary": "Command skipped",
              "errorTraceType": "html",
              "metadata": {},
              "type": "ipynbError"
            }
          }
        }
      ],
      "source": [
        "\n",
        "# Printing the corrupted records\n",
        "from pyspark.sql.types import *\n",
        "\n",
        "emp_schema = StructType(\n",
        "  [\n",
        "    StructField(\"id\", IntegerType(), True),\n",
        "    StructField(\"name\", StringType(), True),\n",
        "    StructField(\"age\", IntegerType(), True),\n",
        "    StructField(\"salary\", IntegerType(), True),\n",
        "    StructField(\"address\", StringType(), True),\n",
        "    StructField(\"nominee\", StringType(), True),\n",
        "    StructField(\"_corrupt_record\", StringType(), True)\n",
        "  ]\n",
        ")\n",
        "\n",
        "employee_df = spark.read.format(\"csv\")\\\n",
        "                        .option(\"inferschema\", \"true\")\\\n",
        "                        .option(\"header\", \"true\")\\\n",
        "                        .option(\"mode\", \"PERMISSIVE\")\\\n",
        "                        .schema(emp_schema)\\\n",
        "                        .load(\"/FileStore/tables/employee.csv\")\n",
        "\n",
        "employee_df.show(truncate=False)"
      ]
    },
    {
      "cell_type": "code",
      "execution_count": null,
      "metadata": {
        "application/vnd.databricks.v1+cell": {
          "cellMetadata": {
            "byteLimit": 2048000,
            "rowLimit": 10000
          },
          "inputWidgets": {},
          "nuid": "012ac720-2c9d-45f1-9f74-07253c41ed5b",
          "showTitle": false,
          "tableResultSettingsMap": {},
          "title": ""
        },
        "id": "fT-f28xSyV1c",
        "outputId": "e436f5e1-d187-4c23-841b-19df330d5fea"
      },
      "outputs": [
        {
          "output_type": "display_data",
          "data": {
            "text/html": [
              "<style scoped>\n",
              "  .ansiout {\n",
              "    display: block;\n",
              "    unicode-bidi: embed;\n",
              "    white-space: pre-wrap;\n",
              "    word-wrap: break-word;\n",
              "    word-break: break-all;\n",
              "    font-family: \"Menlo\", \"Monaco\", \"Consolas\", \"Ubuntu Mono\", \"Source Code Pro\", monospace;\n",
              "    font-size: 13px;\n",
              "    color: #555;\n",
              "    margin-left: 4px;\n",
              "    line-height: 19px;\n",
              "  }\n",
              "</style>"
            ]
          },
          "metadata": {
            "application/vnd.databricks.v1+output": {
              "arguments": {},
              "data": "",
              "errorSummary": "Command skipped",
              "errorTraceType": "html",
              "metadata": {},
              "type": "ipynbError"
            }
          }
        }
      ],
      "source": [
        "# Storing all the corrupt records in a file\n",
        "employee_df = spark.read.format(\"csv\")\\\n",
        "                        .option(\"inferschema\", \"true\")\\\n",
        "                        .option(\"header\", \"true\")\\\n",
        "                        .option(\"badRecordsPath\", \"/FileStore/tables/corrupt_records_employee\")\\\n",
        "                        .load(\"/FileStore/tables/employee.csv\")\n",
        "\n",
        "employee_df.show(truncate=False)"
      ]
    },
    {
      "cell_type": "code",
      "execution_count": null,
      "metadata": {
        "application/vnd.databricks.v1+cell": {
          "cellMetadata": {
            "byteLimit": 2048000,
            "rowLimit": 10000
          },
          "inputWidgets": {},
          "nuid": "4b132ed6-0898-4ac8-9844-5c9a1896afe2",
          "showTitle": false,
          "tableResultSettingsMap": {},
          "title": ""
        },
        "id": "TixNW_M6yV1e",
        "outputId": "3b5b6968-d5fa-42c7-a6e4-313ab009b7f1"
      },
      "outputs": [
        {
          "output_type": "display_data",
          "data": {
            "text/html": [
              "<style scoped>\n",
              "  .ansiout {\n",
              "    display: block;\n",
              "    unicode-bidi: embed;\n",
              "    white-space: pre-wrap;\n",
              "    word-wrap: break-word;\n",
              "    word-break: break-all;\n",
              "    font-family: \"Menlo\", \"Monaco\", \"Consolas\", \"Ubuntu Mono\", \"Source Code Pro\", monospace;\n",
              "    font-size: 13px;\n",
              "    color: #555;\n",
              "    margin-left: 4px;\n",
              "    line-height: 19px;\n",
              "  }\n",
              "</style>"
            ]
          },
          "metadata": {
            "application/vnd.databricks.v1+output": {
              "arguments": {},
              "data": "",
              "errorSummary": "Command skipped",
              "errorTraceType": "html",
              "metadata": {},
              "type": "ipynbError"
            }
          }
        }
      ],
      "source": [
        "corrupt_data_df = spark.read.format(\"json\").load(\"/FileStore/tables/corrupt_records_employee//20241208T153124/bad_records\")\n",
        "corrupt_data_df.show(truncate=False)"
      ]
    },
    {
      "cell_type": "markdown",
      "metadata": {
        "application/vnd.databricks.v1+cell": {
          "cellMetadata": {
            "byteLimit": 2048000,
            "rowLimit": 10000
          },
          "inputWidgets": {},
          "nuid": "315d6812-65ed-4858-a0c4-8c1667bc9628",
          "showTitle": false,
          "tableResultSettingsMap": {},
          "title": ""
        },
        "id": "O34HxHJmyV1f"
      },
      "source": [
        "## 4. Reading JSON file in Spark\n",
        "\n",
        "1. File uploaded to /FileStore/tables/multiline_correct.json\n",
        "2. File uploaded to /FileStore/tables/multiline_incorrect.json\n",
        "3. File uploaded to /FileStore/tables/line_deliminated_json.json\n",
        "4. File uploaded to /FileStore/tables/line_deliminated_json_extrafield.json\n",
        "5. File uploaded to /FileStore/tables/corrupted.json\n",
        "\n",
        "**Note:** Line-deliminated works faster than Multiline\n"
      ]
    },
    {
      "cell_type": "code",
      "execution_count": null,
      "metadata": {
        "application/vnd.databricks.v1+cell": {
          "cellMetadata": {
            "byteLimit": 2048000,
            "rowLimit": 10000
          },
          "inputWidgets": {},
          "nuid": "10828c68-e564-4289-9ff0-f977cf2536fb",
          "showTitle": false,
          "tableResultSettingsMap": {},
          "title": ""
        },
        "id": "saT8rzMiyV1f",
        "outputId": "c6d010bf-5989-4779-9fe0-3b6daf7696de"
      },
      "outputs": [
        {
          "output_type": "display_data",
          "data": {
            "text/html": [
              "<style scoped>\n",
              "  .ansiout {\n",
              "    display: block;\n",
              "    unicode-bidi: embed;\n",
              "    white-space: pre-wrap;\n",
              "    word-wrap: break-word;\n",
              "    word-break: break-all;\n",
              "    font-family: \"Menlo\", \"Monaco\", \"Consolas\", \"Ubuntu Mono\", \"Source Code Pro\", monospace;\n",
              "    font-size: 13px;\n",
              "    color: #555;\n",
              "    margin-left: 4px;\n",
              "    line-height: 19px;\n",
              "  }\n",
              "</style>"
            ]
          },
          "metadata": {
            "application/vnd.databricks.v1+output": {
              "arguments": {},
              "data": "",
              "errorSummary": "Command skipped",
              "errorTraceType": "html",
              "metadata": {},
              "type": "ipynbError"
            }
          }
        }
      ],
      "source": [
        "spark.read.format(\"json\")\\\n",
        "          .option(\"inferschema\", \"true\")\\\n",
        "          .option(\"mode\", \"PERMISSIVE\")\\\n",
        "          .load(\"/FileStore/tables/line_deliminated_json.json\").show(truncate=False)\n"
      ]
    },
    {
      "cell_type": "code",
      "execution_count": null,
      "metadata": {
        "application/vnd.databricks.v1+cell": {
          "cellMetadata": {
            "byteLimit": 2048000,
            "rowLimit": 10000
          },
          "inputWidgets": {},
          "nuid": "168884ba-3c51-4932-9f31-9d366b673f31",
          "showTitle": false,
          "tableResultSettingsMap": {},
          "title": ""
        },
        "id": "PdEAeHIdyV1f",
        "outputId": "0c7105f7-4bda-4bb4-d671-9baefd9e7db6"
      },
      "outputs": [
        {
          "output_type": "display_data",
          "data": {
            "text/html": [
              "<style scoped>\n",
              "  .ansiout {\n",
              "    display: block;\n",
              "    unicode-bidi: embed;\n",
              "    white-space: pre-wrap;\n",
              "    word-wrap: break-word;\n",
              "    word-break: break-all;\n",
              "    font-family: \"Menlo\", \"Monaco\", \"Consolas\", \"Ubuntu Mono\", \"Source Code Pro\", monospace;\n",
              "    font-size: 13px;\n",
              "    color: #555;\n",
              "    margin-left: 4px;\n",
              "    line-height: 19px;\n",
              "  }\n",
              "</style>"
            ]
          },
          "metadata": {
            "application/vnd.databricks.v1+output": {
              "arguments": {},
              "data": "",
              "errorSummary": "Command skipped",
              "errorTraceType": "html",
              "metadata": {},
              "type": "ipynbError"
            }
          }
        }
      ],
      "source": [
        "spark.read.format(\"json\")\\\n",
        "          .option(\"inferschema\", \"true\")\\\n",
        "          .option(\"mode\", \"PERMISSIVE\")\\\n",
        "          .load(\"/FileStore/tables/line_deliminated_json_extrafield.json\").show(truncate=False)"
      ]
    },
    {
      "cell_type": "markdown",
      "metadata": {
        "application/vnd.databricks.v1+cell": {
          "cellMetadata": {
            "byteLimit": 2048000,
            "rowLimit": 10000
          },
          "inputWidgets": {},
          "nuid": "d52e1782-52ae-4967-890e-c39ba7186308",
          "showTitle": false,
          "tableResultSettingsMap": {},
          "title": ""
        },
        "id": "4XkXEL3oyV1g"
      },
      "source": [
        "**Note:** If our data is multiline, we must specify it in the option, else we will be getting an error.\n",
        "`.option(\"multiline\", \"true\")`"
      ]
    },
    {
      "cell_type": "code",
      "execution_count": null,
      "metadata": {
        "application/vnd.databricks.v1+cell": {
          "cellMetadata": {
            "byteLimit": 2048000,
            "rowLimit": 10000
          },
          "inputWidgets": {},
          "nuid": "5e179fcb-ba7b-4004-8d6f-8c28fcf8f512",
          "showTitle": false,
          "tableResultSettingsMap": {},
          "title": ""
        },
        "id": "xmjg6g9dyV1g",
        "outputId": "ff8eb762-8a82-4aae-ba1a-f6eee00e73f9"
      },
      "outputs": [
        {
          "output_type": "display_data",
          "data": {
            "text/html": [
              "<style scoped>\n",
              "  .ansiout {\n",
              "    display: block;\n",
              "    unicode-bidi: embed;\n",
              "    white-space: pre-wrap;\n",
              "    word-wrap: break-word;\n",
              "    word-break: break-all;\n",
              "    font-family: \"Menlo\", \"Monaco\", \"Consolas\", \"Ubuntu Mono\", \"Source Code Pro\", monospace;\n",
              "    font-size: 13px;\n",
              "    color: #555;\n",
              "    margin-left: 4px;\n",
              "    line-height: 19px;\n",
              "  }\n",
              "</style>"
            ]
          },
          "metadata": {
            "application/vnd.databricks.v1+output": {
              "arguments": {},
              "data": "",
              "errorSummary": "Command skipped",
              "errorTraceType": "html",
              "metadata": {},
              "type": "ipynbError"
            }
          }
        }
      ],
      "source": [
        "spark.read.format(\"json\")\\\n",
        "          .option(\"inferschema\", \"true\")\\\n",
        "          .option(\"mode\", \"PERMISSIVE\")\\\n",
        "          .option(\"multiline\", \"true\")\\\n",
        "          .load(\"/FileStore/tables/multiline_correct.json\").show(truncate=False)"
      ]
    },
    {
      "cell_type": "markdown",
      "metadata": {
        "application/vnd.databricks.v1+cell": {
          "cellMetadata": {
            "byteLimit": 2048000,
            "rowLimit": 10000
          },
          "inputWidgets": {},
          "nuid": "888393f8-cd31-4796-a629-e215e40dd543",
          "showTitle": false,
          "tableResultSettingsMap": {},
          "title": ""
        },
        "id": "7RLgp3K3yV1g"
      },
      "source": [
        "**Note:** Multiline JSON must always be passed as a list. Else, only the first element(like below) will be printed."
      ]
    },
    {
      "cell_type": "code",
      "execution_count": null,
      "metadata": {
        "application/vnd.databricks.v1+cell": {
          "cellMetadata": {
            "byteLimit": 2048000,
            "rowLimit": 10000
          },
          "inputWidgets": {},
          "nuid": "eebaad73-9d69-47e4-88e8-ed82beb62303",
          "showTitle": false,
          "tableResultSettingsMap": {},
          "title": ""
        },
        "id": "mDDwqN7cyV1h",
        "outputId": "84652fdc-32db-4279-9c00-ef21bbea0552"
      },
      "outputs": [
        {
          "output_type": "display_data",
          "data": {
            "text/html": [
              "<style scoped>\n",
              "  .ansiout {\n",
              "    display: block;\n",
              "    unicode-bidi: embed;\n",
              "    white-space: pre-wrap;\n",
              "    word-wrap: break-word;\n",
              "    word-break: break-all;\n",
              "    font-family: \"Menlo\", \"Monaco\", \"Consolas\", \"Ubuntu Mono\", \"Source Code Pro\", monospace;\n",
              "    font-size: 13px;\n",
              "    color: #555;\n",
              "    margin-left: 4px;\n",
              "    line-height: 19px;\n",
              "  }\n",
              "</style>"
            ]
          },
          "metadata": {
            "application/vnd.databricks.v1+output": {
              "arguments": {},
              "data": "",
              "errorSummary": "Command skipped",
              "errorTraceType": "html",
              "metadata": {},
              "type": "ipynbError"
            }
          }
        }
      ],
      "source": [
        "spark.read.format(\"json\")\\\n",
        "          .option(\"inferschema\", \"true\")\\\n",
        "          .option(\"mode\", \"PERMISSIVE\")\\\n",
        "          .option(\"multiline\", \"true\")\\\n",
        "          .load(\"/FileStore/tables/multiline_incorrect.json\").show(truncate=False)"
      ]
    },
    {
      "cell_type": "code",
      "execution_count": null,
      "metadata": {
        "application/vnd.databricks.v1+cell": {
          "cellMetadata": {
            "byteLimit": 2048000,
            "rowLimit": 10000
          },
          "inputWidgets": {},
          "nuid": "e9d54af8-782b-4c2b-b7ec-af174533be3e",
          "showTitle": false,
          "tableResultSettingsMap": {},
          "title": ""
        },
        "id": "JwIczf4TyV1h",
        "outputId": "4eb47000-7609-4657-ba1e-b70d7299fc0b"
      },
      "outputs": [
        {
          "output_type": "display_data",
          "data": {
            "text/html": [
              "<style scoped>\n",
              "  .ansiout {\n",
              "    display: block;\n",
              "    unicode-bidi: embed;\n",
              "    white-space: pre-wrap;\n",
              "    word-wrap: break-word;\n",
              "    word-break: break-all;\n",
              "    font-family: \"Menlo\", \"Monaco\", \"Consolas\", \"Ubuntu Mono\", \"Source Code Pro\", monospace;\n",
              "    font-size: 13px;\n",
              "    color: #555;\n",
              "    margin-left: 4px;\n",
              "    line-height: 19px;\n",
              "  }\n",
              "</style>"
            ]
          },
          "metadata": {
            "application/vnd.databricks.v1+output": {
              "arguments": {},
              "data": "",
              "errorSummary": "Command skipped",
              "errorTraceType": "html",
              "metadata": {},
              "type": "ipynbError"
            }
          }
        }
      ],
      "source": [
        "spark.read.format(\"json\")\\\n",
        "          .option(\"inferschema\", \"true\")\\\n",
        "          .option(\"mode\", \"PERMISSIVE\")\\\n",
        "          .load(\"/FileStore/tables/corrupted.json\").show(truncate=False)"
      ]
    },
    {
      "cell_type": "markdown",
      "metadata": {
        "application/vnd.databricks.v1+cell": {
          "cellMetadata": {
            "byteLimit": 2048000,
            "rowLimit": 10000
          },
          "inputWidgets": {},
          "nuid": "03036fd7-78c0-4e45-8e72-490ce5792fdd",
          "showTitle": false,
          "tableResultSettingsMap": {},
          "title": ""
        },
        "id": "882NE0abyV1i"
      },
      "source": [
        "## 5. Reading Parquet in Spark\n",
        "\n",
        "\n",
        "What is Parquet?\n",
        "* Columnar based file format -> data is filled in the tables in a column-wise fashion. That is, all entries of col1, followed by col2.. etc\n",
        "* In big data, we are required to **write data once, read data many times.** So if we have a row based file format(CSV, JSON, Text files), the data stored in the continuous memory location will be `row1col1_val, row1col2_val, row1col3_val,..., row2col1_val, row2col2_val, row2col3_val,...`, while in columnar based file format, the data is stored like `col1_row1_val, col1_row2, ..., col2_row1_val, col2_row2, ...,`. Thus, all the data associated with one specific column is present in contiguous manner. So, less time and load in retreival will be taken.\n",
        "* Data is present in a abinary file format, which isn't human-readable.\n",
        "\n",
        "If we have so much processing time wasted in row based file format, then why do we need it?\n",
        "* OLAP - Online Analytical Processing. When we need to only read data of few columns, we use columnar based file formatting.\n",
        "* OLTP - Online Transactional Processing. When we need to write data(insert, update, delete) in the file, it will be easy to write the values if for each row, the data can be stored contiguously. So, in such a case, we use OLTP.\n",
        "\n",
        "**Note:** Our aim is:\n",
        "1. Cost reduce\n",
        "2. Time for lookup reduce\n",
        "3. Performance increase\n",
        "\n",
        "**We don't need to provide any info related to inferschema, etc. because it has enough metadata on its own.**"
      ]
    },
    {
      "cell_type": "code",
      "execution_count": null,
      "metadata": {
        "application/vnd.databricks.v1+cell": {
          "cellMetadata": {
            "byteLimit": 2048000,
            "rowLimit": 10000
          },
          "inputWidgets": {},
          "nuid": "ceb345a8-2b97-4d71-8974-0f9ee79366ea",
          "showTitle": false,
          "tableResultSettingsMap": {},
          "title": ""
        },
        "id": "ukKvyOT-yV1i",
        "outputId": "19c069d9-aeda-47ec-df9e-0a5e280c1e9f"
      },
      "outputs": [
        {
          "output_type": "display_data",
          "data": {
            "text/html": [
              "<style scoped>\n",
              "  .ansiout {\n",
              "    display: block;\n",
              "    unicode-bidi: embed;\n",
              "    white-space: pre-wrap;\n",
              "    word-wrap: break-word;\n",
              "    word-break: break-all;\n",
              "    font-family: \"Menlo\", \"Monaco\", \"Consolas\", \"Ubuntu Mono\", \"Source Code Pro\", monospace;\n",
              "    font-size: 13px;\n",
              "    color: #555;\n",
              "    margin-left: 4px;\n",
              "    line-height: 19px;\n",
              "  }\n",
              "</style>"
            ]
          },
          "metadata": {
            "application/vnd.databricks.v1+output": {
              "arguments": {},
              "data": "",
              "errorSummary": "Command skipped",
              "errorTraceType": "html",
              "metadata": {},
              "type": "ipynbError"
            }
          }
        }
      ],
      "source": [
        "df = spark.read.format(\"parquet\").load(\"/FileStore/tables/flight_data.parquet\")\n",
        "df.show()"
      ]
    },
    {
      "cell_type": "markdown",
      "metadata": {
        "application/vnd.databricks.v1+cell": {
          "cellMetadata": {
            "byteLimit": 2048000,
            "rowLimit": 10000
          },
          "inputWidgets": {},
          "nuid": "aa4b56df-119d-4193-9a75-9e1a372576a7",
          "showTitle": false,
          "tableResultSettingsMap": {},
          "title": ""
        },
        "id": "7NSzEFa7yV1i"
      },
      "source": [
        "## 6. How to  write dataframe to disk in Spark?\n",
        "\n",
        "Syntax - `DataFrameWriter.format().option().partitionBy().bucketBy().save()`\n",
        "\n",
        "**Note:** We can provide the path location in `.save()` or in `.option()`.\n",
        "\n",
        "Modes in DataframeWriter API\n",
        "* Append - adds the new file to the location\n",
        "* Overwrite - deletes the older file and adds the current file\n",
        "* errorIfExists -  If file is already found in the location, it will return an error that we won't be able to write in the same location since the file already exists.\n",
        "* ignore - ignores the older file and doesn't write anything about the current file sent to be saved in that location."
      ]
    },
    {
      "cell_type": "code",
      "execution_count": null,
      "metadata": {
        "application/vnd.databricks.v1+cell": {
          "cellMetadata": {
            "byteLimit": 2048000,
            "rowLimit": 10000
          },
          "inputWidgets": {},
          "nuid": "fc7e4715-9604-4f90-a6dc-7b3b15829eaa",
          "showTitle": false,
          "tableResultSettingsMap": {},
          "title": ""
        },
        "id": "5Ollx8ZIyV1i",
        "outputId": "1e5555a5-1198-470a-faa9-ecd2ca61727e"
      },
      "outputs": [
        {
          "output_type": "display_data",
          "data": {
            "text/html": [
              "<style scoped>\n",
              "  .ansiout {\n",
              "    display: block;\n",
              "    unicode-bidi: embed;\n",
              "    white-space: pre-wrap;\n",
              "    word-wrap: break-word;\n",
              "    word-break: break-all;\n",
              "    font-family: \"Menlo\", \"Monaco\", \"Consolas\", \"Ubuntu Mono\", \"Source Code Pro\", monospace;\n",
              "    font-size: 13px;\n",
              "    color: #555;\n",
              "    margin-left: 4px;\n",
              "    line-height: 19px;\n",
              "  }\n",
              "</style>"
            ]
          },
          "metadata": {
            "application/vnd.databricks.v1+output": {
              "arguments": {},
              "data": "",
              "errorSummary": "Command skipped",
              "errorTraceType": "html",
              "metadata": {},
              "type": "ipynbError"
            }
          }
        }
      ],
      "source": [
        "df = spark.read.format(\"csv\").option(\"header\", \"true\").load(\"/FileStore/tables/employee_write_data.csv\")\n",
        "\n",
        "df.show()"
      ]
    },
    {
      "cell_type": "code",
      "execution_count": null,
      "metadata": {
        "application/vnd.databricks.v1+cell": {
          "cellMetadata": {
            "byteLimit": 2048000,
            "rowLimit": 10000
          },
          "inputWidgets": {},
          "nuid": "6844b176-156d-49b7-881e-f0d640c05611",
          "showTitle": false,
          "tableResultSettingsMap": {},
          "title": ""
        },
        "id": "yiiKpXHiyV1j",
        "outputId": "fb1a12fc-4681-42fe-b58f-444a4d56cb89"
      },
      "outputs": [
        {
          "output_type": "display_data",
          "data": {
            "text/html": [
              "<style scoped>\n",
              "  .ansiout {\n",
              "    display: block;\n",
              "    unicode-bidi: embed;\n",
              "    white-space: pre-wrap;\n",
              "    word-wrap: break-word;\n",
              "    word-break: break-all;\n",
              "    font-family: \"Menlo\", \"Monaco\", \"Consolas\", \"Ubuntu Mono\", \"Source Code Pro\", monospace;\n",
              "    font-size: 13px;\n",
              "    color: #555;\n",
              "    margin-left: 4px;\n",
              "    line-height: 19px;\n",
              "  }\n",
              "</style>"
            ]
          },
          "metadata": {
            "application/vnd.databricks.v1+output": {
              "arguments": {},
              "data": "",
              "errorSummary": "Command skipped",
              "errorTraceType": "html",
              "metadata": {},
              "type": "ipynbError"
            }
          }
        }
      ],
      "source": [
        "df.write.format(\"csv\")\\\n",
        "        .option(\"header\", \"true\")\\\n",
        "        .option(\"mode\", \"overwrite\")\\\n",
        "        .option(\"path\", \"/FileStore/tables/csv_write\")\\\n",
        "        .save()"
      ]
    },
    {
      "cell_type": "code",
      "execution_count": null,
      "metadata": {
        "application/vnd.databricks.v1+cell": {
          "cellMetadata": {
            "byteLimit": 2048000,
            "rowLimit": 10000
          },
          "inputWidgets": {},
          "nuid": "a1eb1550-d8fc-4ba4-808f-92de8c2bb954",
          "showTitle": false,
          "tableResultSettingsMap": {},
          "title": ""
        },
        "id": "UIQqW-6MyV1j",
        "outputId": "bf73ddbd-c44a-48b4-c803-aaa98b8e3551"
      },
      "outputs": [
        {
          "output_type": "display_data",
          "data": {
            "text/html": [
              "<style scoped>\n",
              "  .ansiout {\n",
              "    display: block;\n",
              "    unicode-bidi: embed;\n",
              "    white-space: pre-wrap;\n",
              "    word-wrap: break-word;\n",
              "    word-break: break-all;\n",
              "    font-family: \"Menlo\", \"Monaco\", \"Consolas\", \"Ubuntu Mono\", \"Source Code Pro\", monospace;\n",
              "    font-size: 13px;\n",
              "    color: #555;\n",
              "    margin-left: 4px;\n",
              "    line-height: 19px;\n",
              "  }\n",
              "</style>"
            ]
          },
          "metadata": {
            "application/vnd.databricks.v1+output": {
              "arguments": {},
              "data": "",
              "errorSummary": "Command skipped",
              "errorTraceType": "html",
              "metadata": {},
              "type": "ipynbError"
            }
          }
        }
      ],
      "source": [
        "# Check if the file is present\n",
        "dbutils.fs.ls(\"/FileStore/tables/csv_write/\")"
      ]
    },
    {
      "cell_type": "markdown",
      "metadata": {
        "application/vnd.databricks.v1+cell": {
          "cellMetadata": {
            "byteLimit": 2048000,
            "rowLimit": 10000
          },
          "inputWidgets": {},
          "nuid": "62d35b5b-b8c8-48e1-ad40-cb9068db4fb3",
          "showTitle": false,
          "tableResultSettingsMap": {},
          "title": ""
        },
        "id": "AXwanGofyV1k"
      },
      "source": [
        "### Repartition\n",
        "In this, we will write the file in 3 separate partitions"
      ]
    },
    {
      "cell_type": "code",
      "execution_count": null,
      "metadata": {
        "application/vnd.databricks.v1+cell": {
          "cellMetadata": {
            "byteLimit": 2048000,
            "rowLimit": 10000
          },
          "inputWidgets": {},
          "nuid": "e1dd13f1-091c-4f0f-b6bd-c4fb8bed739d",
          "showTitle": false,
          "tableResultSettingsMap": {},
          "title": ""
        },
        "id": "0WlqzI7AyV1k",
        "outputId": "0dfb87b5-6832-472a-a32d-8e1dca6f0cc1"
      },
      "outputs": [
        {
          "output_type": "display_data",
          "data": {
            "text/html": [
              "<style scoped>\n",
              "  .ansiout {\n",
              "    display: block;\n",
              "    unicode-bidi: embed;\n",
              "    white-space: pre-wrap;\n",
              "    word-wrap: break-word;\n",
              "    word-break: break-all;\n",
              "    font-family: \"Menlo\", \"Monaco\", \"Consolas\", \"Ubuntu Mono\", \"Source Code Pro\", monospace;\n",
              "    font-size: 13px;\n",
              "    color: #555;\n",
              "    margin-left: 4px;\n",
              "    line-height: 19px;\n",
              "  }\n",
              "</style>"
            ]
          },
          "metadata": {
            "application/vnd.databricks.v1+output": {
              "arguments": {},
              "data": "",
              "errorSummary": "Command skipped",
              "errorTraceType": "html",
              "metadata": {},
              "type": "ipynbError"
            }
          }
        }
      ],
      "source": [
        "df.repartition(3).write.format(\"csv\")\\\n",
        "        .option(\"header\", \"true\")\\\n",
        "        .option(\"mode\", \"overwrite\")\\\n",
        "        .option(\"path\", \"/FileStore/tables/csv_write_repartition\")\\\n",
        "        .save()"
      ]
    },
    {
      "cell_type": "code",
      "execution_count": null,
      "metadata": {
        "application/vnd.databricks.v1+cell": {
          "cellMetadata": {
            "byteLimit": 2048000,
            "rowLimit": 10000
          },
          "inputWidgets": {},
          "nuid": "621e88ce-6455-46ac-80fb-1891435e4539",
          "showTitle": false,
          "tableResultSettingsMap": {},
          "title": ""
        },
        "id": "UWDso5h-yV1k",
        "outputId": "485bb9e0-c48d-4a35-fece-9384bcec08f9"
      },
      "outputs": [
        {
          "output_type": "display_data",
          "data": {
            "text/html": [
              "<style scoped>\n",
              "  .ansiout {\n",
              "    display: block;\n",
              "    unicode-bidi: embed;\n",
              "    white-space: pre-wrap;\n",
              "    word-wrap: break-word;\n",
              "    word-break: break-all;\n",
              "    font-family: \"Menlo\", \"Monaco\", \"Consolas\", \"Ubuntu Mono\", \"Source Code Pro\", monospace;\n",
              "    font-size: 13px;\n",
              "    color: #555;\n",
              "    margin-left: 4px;\n",
              "    line-height: 19px;\n",
              "  }\n",
              "</style>"
            ]
          },
          "metadata": {
            "application/vnd.databricks.v1+output": {
              "arguments": {},
              "data": "",
              "errorSummary": "Command skipped",
              "errorTraceType": "html",
              "metadata": {},
              "type": "ipynbError"
            }
          }
        }
      ],
      "source": [
        "dbutils.fs.ls(\"/FileStore/tables/csv_write_repartition\")"
      ]
    },
    {
      "cell_type": "markdown",
      "metadata": {
        "application/vnd.databricks.v1+cell": {
          "cellMetadata": {
            "byteLimit": 2048000,
            "rowLimit": 10000
          },
          "inputWidgets": {},
          "nuid": "15a00efe-210d-44bf-9f47-6871803bb2f9",
          "showTitle": false,
          "tableResultSettingsMap": {},
          "title": ""
        },
        "id": "ajU2XReZyV1l"
      },
      "source": [
        "We can thus see, that 3 separate files are created."
      ]
    },
    {
      "cell_type": "markdown",
      "metadata": {
        "application/vnd.databricks.v1+cell": {
          "cellMetadata": {
            "byteLimit": 2048000,
            "rowLimit": 10000
          },
          "inputWidgets": {},
          "nuid": "7b64aab8-b6ca-4804-8c0f-c6078baca259",
          "showTitle": false,
          "tableResultSettingsMap": {},
          "title": ""
        },
        "id": "x4NTM8fVyV1l"
      },
      "source": [
        "## 7. Partitioning\n",
        "\n",
        "Partitioning is a technique using which we can partition data into different files based up on a columns value. For eg., we need to store data for all `INDIANS` in one file, `RUSSIANS` in another, etc. This is useful for cases when we have t filter data and work on a specific section of dataset only.\n",
        "\n",
        "If we partition a data on the value of column having only unique values,\n",
        "`# of partitions == # of rows`\n",
        "\n",
        "**Note:** The order in which the partiitonBy values are written matters."
      ]
    },
    {
      "cell_type": "code",
      "execution_count": null,
      "metadata": {
        "application/vnd.databricks.v1+cell": {
          "cellMetadata": {
            "byteLimit": 2048000,
            "rowLimit": 10000
          },
          "inputWidgets": {},
          "nuid": "37ef954e-8be6-4a68-b235-25a8694e8b05",
          "showTitle": false,
          "tableResultSettingsMap": {},
          "title": ""
        },
        "id": "m7LP-eNuyV1x",
        "outputId": "bda9c677-fadf-4fec-e2d6-780ac09566aa"
      },
      "outputs": [
        {
          "output_type": "display_data",
          "data": {
            "text/html": [
              "<style scoped>\n",
              "  .ansiout {\n",
              "    display: block;\n",
              "    unicode-bidi: embed;\n",
              "    white-space: pre-wrap;\n",
              "    word-wrap: break-word;\n",
              "    word-break: break-all;\n",
              "    font-family: \"Menlo\", \"Monaco\", \"Consolas\", \"Ubuntu Mono\", \"Source Code Pro\", monospace;\n",
              "    font-size: 13px;\n",
              "    color: #555;\n",
              "    margin-left: 4px;\n",
              "    line-height: 19px;\n",
              "  }\n",
              "</style>"
            ]
          },
          "metadata": {
            "application/vnd.databricks.v1+output": {
              "arguments": {},
              "data": "",
              "errorSummary": "Command skipped",
              "errorTraceType": "html",
              "metadata": {},
              "type": "ipynbError"
            }
          }
        }
      ],
      "source": [
        "df.write.format(\"csv\")\\\n",
        "        .option(\"header\", \"true\")\\\n",
        "        .option(\"path\", \"/FileStore/tables/partition_by_gender_address\")\\\n",
        "        .option(\"mode\", \"overwrite\")\\\n",
        "        .partitionBy(\"gender\", \"address\")\\\n",
        "        .save()"
      ]
    },
    {
      "cell_type": "code",
      "execution_count": null,
      "metadata": {
        "application/vnd.databricks.v1+cell": {
          "cellMetadata": {
            "byteLimit": 2048000,
            "rowLimit": 10000
          },
          "inputWidgets": {},
          "nuid": "eb3d98c3-eddb-4b30-889e-8ba33cc3c02b",
          "showTitle": false,
          "tableResultSettingsMap": {},
          "title": ""
        },
        "id": "wMnkcSDgyV1y",
        "outputId": "7585def4-444b-4067-e29f-3265fedf86f3"
      },
      "outputs": [
        {
          "output_type": "display_data",
          "data": {
            "text/html": [
              "<style scoped>\n",
              "  .ansiout {\n",
              "    display: block;\n",
              "    unicode-bidi: embed;\n",
              "    white-space: pre-wrap;\n",
              "    word-wrap: break-word;\n",
              "    word-break: break-all;\n",
              "    font-family: \"Menlo\", \"Monaco\", \"Consolas\", \"Ubuntu Mono\", \"Source Code Pro\", monospace;\n",
              "    font-size: 13px;\n",
              "    color: #555;\n",
              "    margin-left: 4px;\n",
              "    line-height: 19px;\n",
              "  }\n",
              "</style>"
            ]
          },
          "metadata": {
            "application/vnd.databricks.v1+output": {
              "arguments": {},
              "data": "",
              "errorSummary": "Command skipped",
              "errorTraceType": "html",
              "metadata": {},
              "type": "ipynbError"
            }
          }
        }
      ],
      "source": [
        "dbutils.fs.ls(\"/FileStore/tables/partition_by_gender_address\")"
      ]
    },
    {
      "cell_type": "code",
      "execution_count": null,
      "metadata": {
        "application/vnd.databricks.v1+cell": {
          "cellMetadata": {
            "byteLimit": 2048000,
            "rowLimit": 10000
          },
          "inputWidgets": {},
          "nuid": "dffdff23-84c8-4e31-bbdb-032f974d7940",
          "showTitle": false,
          "tableResultSettingsMap": {},
          "title": ""
        },
        "id": "x1AqUBsVyV1y",
        "outputId": "7e978243-e48b-4ac4-8c69-f88594020a01"
      },
      "outputs": [
        {
          "output_type": "display_data",
          "data": {
            "text/html": [
              "<style scoped>\n",
              "  .ansiout {\n",
              "    display: block;\n",
              "    unicode-bidi: embed;\n",
              "    white-space: pre-wrap;\n",
              "    word-wrap: break-word;\n",
              "    word-break: break-all;\n",
              "    font-family: \"Menlo\", \"Monaco\", \"Consolas\", \"Ubuntu Mono\", \"Source Code Pro\", monospace;\n",
              "    font-size: 13px;\n",
              "    color: #555;\n",
              "    margin-left: 4px;\n",
              "    line-height: 19px;\n",
              "  }\n",
              "</style>"
            ]
          },
          "metadata": {
            "application/vnd.databricks.v1+output": {
              "arguments": {},
              "data": "",
              "errorSummary": "Command skipped",
              "errorTraceType": "html",
              "metadata": {},
              "type": "ipynbError"
            }
          }
        }
      ],
      "source": [
        "dbutils.fs.ls(\"/FileStore/tables/partition_by_gender_address/gender=f/\")"
      ]
    },
    {
      "cell_type": "markdown",
      "metadata": {
        "application/vnd.databricks.v1+cell": {
          "cellMetadata": {
            "byteLimit": 2048000,
            "rowLimit": 10000
          },
          "inputWidgets": {},
          "nuid": "6bacbd4b-0236-458e-a23b-22db57face33",
          "showTitle": false,
          "tableResultSettingsMap": {},
          "title": ""
        },
        "id": "CBHNkE5-yV1z"
      },
      "source": [
        "## 8. Bucketing in Spark\n",
        "\n",
        "Bucket is used to divide and store the data in equal size chunks.\n",
        "\n",
        "In cases where partitioning does not help, for eg., when `# of partitions = # of rows` (the column is unique), we can instead do bucketing.\n",
        "\n",
        "**Note:** if we use `.save()`, we will get error: `AnalysisException: 'save' does not support bucketBy right now.`. So, instead of `.save()` we do: `.saveAsTable(name=\"__name__\")`."
      ]
    },
    {
      "cell_type": "code",
      "execution_count": null,
      "metadata": {
        "application/vnd.databricks.v1+cell": {
          "cellMetadata": {
            "byteLimit": 2048000,
            "rowLimit": 10000
          },
          "inputWidgets": {},
          "nuid": "fefb2032-fad0-440f-9871-c10e302fd6cb",
          "showTitle": false,
          "tableResultSettingsMap": {},
          "title": ""
        },
        "id": "JbzyaVwzyV1z",
        "outputId": "597c1f38-3bda-48f6-81af-c0af5a6844e4"
      },
      "outputs": [
        {
          "output_type": "display_data",
          "data": {
            "text/html": [
              "<style scoped>\n",
              "  .ansiout {\n",
              "    display: block;\n",
              "    unicode-bidi: embed;\n",
              "    white-space: pre-wrap;\n",
              "    word-wrap: break-word;\n",
              "    word-break: break-all;\n",
              "    font-family: \"Menlo\", \"Monaco\", \"Consolas\", \"Ubuntu Mono\", \"Source Code Pro\", monospace;\n",
              "    font-size: 13px;\n",
              "    color: #555;\n",
              "    margin-left: 4px;\n",
              "    line-height: 19px;\n",
              "  }\n",
              "</style>"
            ]
          },
          "metadata": {
            "application/vnd.databricks.v1+output": {
              "arguments": {},
              "data": "",
              "errorSummary": "Command skipped",
              "errorTraceType": "html",
              "metadata": {},
              "type": "ipynbError"
            }
          }
        }
      ],
      "source": [
        "df.write.format(\"csv\")\\\n",
        "        .option(\"header\", \"true\")\\\n",
        "        .option(\"path\", \"/FileStore/tables/bucket_by_id\")\\\n",
        "        .bucketBy(3, \"id\")\\\n",
        "        .saveAsTable(name=\"bucket_by_id_table\")"
      ]
    },
    {
      "cell_type": "code",
      "execution_count": null,
      "metadata": {
        "application/vnd.databricks.v1+cell": {
          "cellMetadata": {
            "byteLimit": 2048000,
            "rowLimit": 10000
          },
          "inputWidgets": {},
          "nuid": "8554fd68-61d4-4419-823c-ab67347e52fc",
          "showTitle": false,
          "tableResultSettingsMap": {},
          "title": ""
        },
        "id": "dZ-yXdtXyV10",
        "outputId": "43cfbeda-8a4b-401f-bdb4-fbd7d49a3208"
      },
      "outputs": [
        {
          "output_type": "display_data",
          "data": {
            "text/html": [
              "<style scoped>\n",
              "  .ansiout {\n",
              "    display: block;\n",
              "    unicode-bidi: embed;\n",
              "    white-space: pre-wrap;\n",
              "    word-wrap: break-word;\n",
              "    word-break: break-all;\n",
              "    font-family: \"Menlo\", \"Monaco\", \"Consolas\", \"Ubuntu Mono\", \"Source Code Pro\", monospace;\n",
              "    font-size: 13px;\n",
              "    color: #555;\n",
              "    margin-left: 4px;\n",
              "    line-height: 19px;\n",
              "  }\n",
              "</style>"
            ]
          },
          "metadata": {
            "application/vnd.databricks.v1+output": {
              "arguments": {},
              "data": "",
              "errorSummary": "Command skipped",
              "errorTraceType": "html",
              "metadata": {},
              "type": "ipynbError"
            }
          }
        }
      ],
      "source": [
        "dbutils.fs.ls(\"/FileStore/tables/bucket_by_id\")"
      ]
    },
    {
      "cell_type": "markdown",
      "metadata": {
        "application/vnd.databricks.v1+cell": {
          "cellMetadata": {
            "byteLimit": 2048000,
            "rowLimit": 10000
          },
          "inputWidgets": {},
          "nuid": "7543a750-b57c-4f77-86bc-0322df951612",
          "showTitle": false,
          "tableResultSettingsMap": {},
          "title": ""
        },
        "id": "64URU2kWyV10"
      },
      "source": [
        "## 9. Create DataFrame in Spark\n",
        "\n",
        "**Schema** is defined as **Column Name** + **Column Datatype**"
      ]
    },
    {
      "cell_type": "code",
      "execution_count": null,
      "metadata": {
        "application/vnd.databricks.v1+cell": {
          "cellMetadata": {
            "byteLimit": 2048000,
            "rowLimit": 10000
          },
          "inputWidgets": {},
          "nuid": "55a96c46-829c-4b13-bcc5-0dbc56695eb6",
          "showTitle": false,
          "tableResultSettingsMap": {},
          "title": ""
        },
        "id": "V0FvxSIgyV11",
        "outputId": "0b0c5979-a862-406a-b705-13db9df78263"
      },
      "outputs": [
        {
          "output_type": "display_data",
          "data": {
            "text/html": [
              "<style scoped>\n",
              "  .ansiout {\n",
              "    display: block;\n",
              "    unicode-bidi: embed;\n",
              "    white-space: pre-wrap;\n",
              "    word-wrap: break-word;\n",
              "    word-break: break-all;\n",
              "    font-family: \"Menlo\", \"Monaco\", \"Consolas\", \"Ubuntu Mono\", \"Source Code Pro\", monospace;\n",
              "    font-size: 13px;\n",
              "    color: #555;\n",
              "    margin-left: 4px;\n",
              "    line-height: 19px;\n",
              "  }\n",
              "</style>"
            ]
          },
          "metadata": {
            "application/vnd.databricks.v1+output": {
              "arguments": {},
              "data": "",
              "errorSummary": "Command skipped",
              "errorTraceType": "html",
              "metadata": {},
              "type": "ipynbError"
            }
          }
        }
      ],
      "source": [
        "data = [\n",
        "  (1, \"Tia\"),\n",
        "  (2, \"Ria\")\n",
        "]\n",
        "\n",
        "schema = [\"id\", \"name\"]\n",
        "\n",
        "my_df = spark.createDataFrame(data=data, schema=schema)\n",
        "my_df.show()"
      ]
    },
    {
      "cell_type": "markdown",
      "metadata": {
        "application/vnd.databricks.v1+cell": {
          "cellMetadata": {
            "byteLimit": 2048000,
            "rowLimit": 10000
          },
          "inputWidgets": {},
          "nuid": "77bf9567-1af4-4793-afbc-cfbb2ed3a495",
          "showTitle": false,
          "tableResultSettingsMap": {},
          "title": ""
        },
        "id": "LSrI9Yi5yV11"
      },
      "source": [
        "## 10. DataFrame Transformations in Spark"
      ]
    },
    {
      "cell_type": "code",
      "execution_count": null,
      "metadata": {
        "application/vnd.databricks.v1+cell": {
          "cellMetadata": {
            "byteLimit": 2048000,
            "rowLimit": 10000
          },
          "inputWidgets": {},
          "nuid": "f4ab8d7d-9ba1-4360-836d-3e92ba61dd02",
          "showTitle": false,
          "tableResultSettingsMap": {},
          "title": ""
        },
        "id": "xIdphi1UyV11",
        "outputId": "3201d888-48da-4e1a-b573-73c3dbefed87"
      },
      "outputs": [
        {
          "output_type": "display_data",
          "data": {
            "text/html": [
              "<style scoped>\n",
              "  .ansiout {\n",
              "    display: block;\n",
              "    unicode-bidi: embed;\n",
              "    white-space: pre-wrap;\n",
              "    word-wrap: break-word;\n",
              "    word-break: break-all;\n",
              "    font-family: \"Menlo\", \"Monaco\", \"Consolas\", \"Ubuntu Mono\", \"Source Code Pro\", monospace;\n",
              "    font-size: 13px;\n",
              "    color: #555;\n",
              "    margin-left: 4px;\n",
              "    line-height: 19px;\n",
              "  }\n",
              "</style>"
            ]
          },
          "metadata": {
            "application/vnd.databricks.v1+output": {
              "arguments": {},
              "data": "",
              "errorSummary": "Command skipped",
              "errorTraceType": "html",
              "metadata": {},
              "type": "ipynbError"
            }
          }
        }
      ],
      "source": [
        "from pyspark.sql.types import *\n",
        "\n",
        "emp_schema = StructType([\n",
        "  StructField(\"id\", IntegerType(), True),\n",
        "  StructField(\"name\", StringType(), True),\n",
        "  StructField(\"age\", IntegerType(), True),\n",
        "  StructField(\"salary\", IntegerType(), True),\n",
        "  StructField(\"address\", StringType(), True),\n",
        "  StructField(\"nominee\", StringType(), True),\n",
        "  StructField(\"_corrupt_record\", StringType(), True),\n",
        "])\n",
        "\n",
        "employee_df = spark.read.format(\"csv\")\\\n",
        "                        .option(\"inferschema\", \"true\")\\\n",
        "                        .option(\"header\", \"true\")\\\n",
        "                        .option(\"mode\", \"PERMISSIVE\")\\\n",
        "                        .schema(emp_schema)\\\n",
        "                        .load(\"/FileStore/tables/employee.csv\")\n",
        "\n",
        "employee_df.show()"
      ]
    },
    {
      "cell_type": "markdown",
      "metadata": {
        "application/vnd.databricks.v1+cell": {
          "cellMetadata": {
            "byteLimit": 2048000,
            "rowLimit": 10000
          },
          "inputWidgets": {},
          "nuid": "c41d82ef-ffd6-4537-a8d7-54198a91b0a5",
          "showTitle": false,
          "tableResultSettingsMap": {},
          "title": ""
        },
        "id": "dsj4XMXfyV12"
      },
      "source": [
        "**Note:** The dataframe so formed is being stored in the memory in the object type `Row()`. `Row()` type object means that each of the entire row is being converted into Byte type and being stored in the memory."
      ]
    },
    {
      "cell_type": "code",
      "execution_count": null,
      "metadata": {
        "application/vnd.databricks.v1+cell": {
          "cellMetadata": {
            "byteLimit": 2048000,
            "rowLimit": 10000
          },
          "inputWidgets": {},
          "nuid": "4e216503-fc06-44bb-8597-2c4d52db4857",
          "showTitle": false,
          "tableResultSettingsMap": {},
          "title": ""
        },
        "id": "frn6QsbyyV12",
        "outputId": "3507b5c0-b682-4515-a9d6-450d8778c936"
      },
      "outputs": [
        {
          "output_type": "display_data",
          "data": {
            "text/html": [
              "<style scoped>\n",
              "  .ansiout {\n",
              "    display: block;\n",
              "    unicode-bidi: embed;\n",
              "    white-space: pre-wrap;\n",
              "    word-wrap: break-word;\n",
              "    word-break: break-all;\n",
              "    font-family: \"Menlo\", \"Monaco\", \"Consolas\", \"Ubuntu Mono\", \"Source Code Pro\", monospace;\n",
              "    font-size: 13px;\n",
              "    color: #555;\n",
              "    margin-left: 4px;\n",
              "    line-height: 19px;\n",
              "  }\n",
              "</style>"
            ]
          },
          "metadata": {
            "application/vnd.databricks.v1+output": {
              "arguments": {},
              "data": "",
              "errorSummary": "Command skipped",
              "errorTraceType": "html",
              "metadata": {},
              "type": "ipynbError"
            }
          }
        }
      ],
      "source": [
        "# Creating a row\n",
        "from pyspark.sql import Row\n",
        "\n",
        "row = Row(\"6\", \"Tia\", \"21\", \"100000\", \"Allahabad\", \"nominee3\")"
      ]
    },
    {
      "cell_type": "markdown",
      "metadata": {
        "application/vnd.databricks.v1+cell": {
          "cellMetadata": {
            "byteLimit": 2048000,
            "rowLimit": 10000
          },
          "inputWidgets": {},
          "nuid": "895a567f-c42d-4fe3-a2f6-7a00dabfcb0e",
          "showTitle": false,
          "tableResultSettingsMap": {},
          "title": ""
        },
        "id": "bU1rh9dJyV12"
      },
      "source": [
        "### Multiple ways of selecting columns\n",
        "\n",
        "\n",
        "**Notes:**\n",
        "* Columns are expressions.\n",
        "* Columns are, thus, set of transformations on one or more than one values in a record."
      ]
    },
    {
      "cell_type": "code",
      "execution_count": null,
      "metadata": {
        "application/vnd.databricks.v1+cell": {
          "cellMetadata": {
            "byteLimit": 2048000,
            "rowLimit": 10000
          },
          "inputWidgets": {},
          "nuid": "1fccc202-8bc5-4a5e-9236-43073f37f142",
          "showTitle": false,
          "tableResultSettingsMap": {},
          "title": ""
        },
        "id": "4FTI1RouyV13",
        "outputId": "168c18cb-df98-47f7-e56c-ba74121ca9c3"
      },
      "outputs": [
        {
          "output_type": "display_data",
          "data": {
            "text/html": [
              "<style scoped>\n",
              "  .ansiout {\n",
              "    display: block;\n",
              "    unicode-bidi: embed;\n",
              "    white-space: pre-wrap;\n",
              "    word-wrap: break-word;\n",
              "    word-break: break-all;\n",
              "    font-family: \"Menlo\", \"Monaco\", \"Consolas\", \"Ubuntu Mono\", \"Source Code Pro\", monospace;\n",
              "    font-size: 13px;\n",
              "    color: #555;\n",
              "    margin-left: 4px;\n",
              "    line-height: 19px;\n",
              "  }\n",
              "</style>"
            ]
          },
          "metadata": {
            "application/vnd.databricks.v1+output": {
              "arguments": {},
              "data": "",
              "errorSummary": "Command skipped",
              "errorTraceType": "html",
              "metadata": {},
              "type": "ipynbError"
            }
          }
        }
      ],
      "source": [
        "# Simply viewing a columns\n",
        "employee_df.select('id').show()"
      ]
    },
    {
      "cell_type": "code",
      "execution_count": null,
      "metadata": {
        "application/vnd.databricks.v1+cell": {
          "cellMetadata": {
            "byteLimit": 2048000,
            "rowLimit": 10000
          },
          "inputWidgets": {},
          "nuid": "b84b4810-9fa8-43be-8bb5-a97eb3a51312",
          "showTitle": false,
          "tableResultSettingsMap": {},
          "title": ""
        },
        "id": "rPlmiwRTyV13",
        "outputId": "43bd9596-cdad-41a2-96d0-a1ebb00fb329"
      },
      "outputs": [
        {
          "output_type": "display_data",
          "data": {
            "text/html": [
              "<style scoped>\n",
              "  .ansiout {\n",
              "    display: block;\n",
              "    unicode-bidi: embed;\n",
              "    white-space: pre-wrap;\n",
              "    word-wrap: break-word;\n",
              "    word-break: break-all;\n",
              "    font-family: \"Menlo\", \"Monaco\", \"Consolas\", \"Ubuntu Mono\", \"Source Code Pro\", monospace;\n",
              "    font-size: 13px;\n",
              "    color: #555;\n",
              "    margin-left: 4px;\n",
              "    line-height: 19px;\n",
              "  }\n",
              "</style>"
            ]
          },
          "metadata": {
            "application/vnd.databricks.v1+output": {
              "arguments": {},
              "data": "",
              "errorSummary": "Command skipped",
              "errorTraceType": "html",
              "metadata": {},
              "type": "ipynbError"
            }
          }
        }
      ],
      "source": [
        "# Change values of a column\n",
        "from pyspark.sql.functions import *\n",
        "from pyspark.sql.types import *\n",
        "\n",
        "employee_df.select(col(\"id\")+5).show()"
      ]
    },
    {
      "cell_type": "code",
      "execution_count": null,
      "metadata": {
        "application/vnd.databricks.v1+cell": {
          "cellMetadata": {
            "byteLimit": 2048000,
            "rowLimit": 10000
          },
          "inputWidgets": {},
          "nuid": "f83a6237-e068-4e9b-884b-7d6b0c2a3ebd",
          "showTitle": false,
          "tableResultSettingsMap": {},
          "title": ""
        },
        "id": "60qmRNgqyV14",
        "outputId": "1433b765-13e5-48aa-c36d-8f8a4bce2447"
      },
      "outputs": [
        {
          "output_type": "display_data",
          "data": {
            "text/html": [
              "<style scoped>\n",
              "  .ansiout {\n",
              "    display: block;\n",
              "    unicode-bidi: embed;\n",
              "    white-space: pre-wrap;\n",
              "    word-wrap: break-word;\n",
              "    word-break: break-all;\n",
              "    font-family: \"Menlo\", \"Monaco\", \"Consolas\", \"Ubuntu Mono\", \"Source Code Pro\", monospace;\n",
              "    font-size: 13px;\n",
              "    color: #555;\n",
              "    margin-left: 4px;\n",
              "    line-height: 19px;\n",
              "  }\n",
              "</style>"
            ]
          },
          "metadata": {
            "application/vnd.databricks.v1+output": {
              "arguments": {},
              "data": "",
              "errorSummary": "Command skipped",
              "errorTraceType": "html",
              "metadata": {},
              "type": "ipynbError"
            }
          }
        }
      ],
      "source": [
        "# Select multiple columns\n",
        "employee_df.select(\"id\", \"name\", \"age\").show()\n",
        "\n",
        "employee_df.select(\"*\").show()\n",
        "\n",
        "#--------COMBINING ALL METHODS-------\n",
        "employee_df.select(col(\"id\"), col(\"name\"), employee_df[\"age\"], employee_df.address).show()"
      ]
    },
    {
      "cell_type": "markdown",
      "metadata": {
        "application/vnd.databricks.v1+cell": {
          "cellMetadata": {
            "byteLimit": 2048000,
            "rowLimit": 10000
          },
          "inputWidgets": {},
          "nuid": "5f3fbff2-1896-430e-91c7-629ab85b46d9",
          "showTitle": false,
          "tableResultSettingsMap": {},
          "title": ""
        },
        "id": "kX9fhTikyV14"
      },
      "source": [
        "### Expressions\n",
        "\n",
        "All the **sql** statements can be written inside of **expressions**."
      ]
    },
    {
      "cell_type": "code",
      "execution_count": null,
      "metadata": {
        "application/vnd.databricks.v1+cell": {
          "cellMetadata": {
            "byteLimit": 2048000,
            "rowLimit": 10000
          },
          "inputWidgets": {},
          "nuid": "498247ee-747c-4d80-94af-f9120ea281c0",
          "showTitle": false,
          "tableResultSettingsMap": {},
          "title": ""
        },
        "id": "lRT0zM4oyV14",
        "outputId": "b8221111-8c4c-4202-b949-98a614a45fba"
      },
      "outputs": [
        {
          "output_type": "display_data",
          "data": {
            "text/html": [
              "<style scoped>\n",
              "  .ansiout {\n",
              "    display: block;\n",
              "    unicode-bidi: embed;\n",
              "    white-space: pre-wrap;\n",
              "    word-wrap: break-word;\n",
              "    word-break: break-all;\n",
              "    font-family: \"Menlo\", \"Monaco\", \"Consolas\", \"Ubuntu Mono\", \"Source Code Pro\", monospace;\n",
              "    font-size: 13px;\n",
              "    color: #555;\n",
              "    margin-left: 4px;\n",
              "    line-height: 19px;\n",
              "  }\n",
              "</style>"
            ]
          },
          "metadata": {
            "application/vnd.databricks.v1+output": {
              "arguments": {},
              "data": "",
              "errorSummary": "Command skipped",
              "errorTraceType": "html",
              "metadata": {},
              "type": "ipynbError"
            }
          }
        }
      ],
      "source": [
        "employee_df.select(expr(\"id + 5\")).show()\n",
        "\n",
        "# SQL statements\n",
        "employee_df.select(expr(\"id as employee_id\"), expr(\"name as employee_name\"), expr(\"concat(age, address)\")).show()"
      ]
    },
    {
      "cell_type": "markdown",
      "metadata": {
        "application/vnd.databricks.v1+cell": {
          "cellMetadata": {
            "byteLimit": 2048000,
            "rowLimit": 10000
          },
          "inputWidgets": {},
          "nuid": "f690c843-69ce-4e6d-ab7d-9fe9612f6578",
          "showTitle": false,
          "tableResultSettingsMap": {},
          "title": ""
        },
        "id": "J_QqYWGcyV15"
      },
      "source": [
        "### SparkSQL\n",
        "\n",
        "SparkSQL is basically SQL only. We need to convert the **`Dataframe`** into a **`TempView`**"
      ]
    },
    {
      "cell_type": "code",
      "execution_count": null,
      "metadata": {
        "application/vnd.databricks.v1+cell": {
          "cellMetadata": {
            "byteLimit": 2048000,
            "rowLimit": 10000
          },
          "inputWidgets": {},
          "nuid": "63f08fcd-6552-4eff-b306-0198ae92af22",
          "showTitle": false,
          "tableResultSettingsMap": {},
          "title": ""
        },
        "id": "YL6j6fP3yV15",
        "outputId": "538c3297-617f-4d6b-c5a5-1682f1a5093d"
      },
      "outputs": [
        {
          "output_type": "display_data",
          "data": {
            "text/html": [
              "<style scoped>\n",
              "  .ansiout {\n",
              "    display: block;\n",
              "    unicode-bidi: embed;\n",
              "    white-space: pre-wrap;\n",
              "    word-wrap: break-word;\n",
              "    word-break: break-all;\n",
              "    font-family: \"Menlo\", \"Monaco\", \"Consolas\", \"Ubuntu Mono\", \"Source Code Pro\", monospace;\n",
              "    font-size: 13px;\n",
              "    color: #555;\n",
              "    margin-left: 4px;\n",
              "    line-height: 19px;\n",
              "  }\n",
              "</style>"
            ]
          },
          "metadata": {
            "application/vnd.databricks.v1+output": {
              "arguments": {},
              "data": "",
              "errorSummary": "Command skipped",
              "errorTraceType": "html",
              "metadata": {},
              "type": "ipynbError"
            }
          }
        }
      ],
      "source": [
        "# Create a virtual view of the DataFrame\n",
        "employee_df.createOrReplaceTempView(\"employee_table\")"
      ]
    },
    {
      "cell_type": "code",
      "execution_count": null,
      "metadata": {
        "application/vnd.databricks.v1+cell": {
          "cellMetadata": {
            "byteLimit": 2048000,
            "rowLimit": 10000
          },
          "inputWidgets": {},
          "nuid": "a0eb893d-5512-4c86-92b8-09ed1744eaa2",
          "showTitle": false,
          "tableResultSettingsMap": {},
          "title": ""
        },
        "id": "GNUgMiylyV16",
        "outputId": "0aca82f9-6d37-4378-9f73-e8d00789da3e"
      },
      "outputs": [
        {
          "output_type": "display_data",
          "data": {
            "text/html": [
              "<style scoped>\n",
              "  .ansiout {\n",
              "    display: block;\n",
              "    unicode-bidi: embed;\n",
              "    white-space: pre-wrap;\n",
              "    word-wrap: break-word;\n",
              "    word-break: break-all;\n",
              "    font-family: \"Menlo\", \"Monaco\", \"Consolas\", \"Ubuntu Mono\", \"Source Code Pro\", monospace;\n",
              "    font-size: 13px;\n",
              "    color: #555;\n",
              "    margin-left: 4px;\n",
              "    line-height: 19px;\n",
              "  }\n",
              "</style>"
            ]
          },
          "metadata": {
            "application/vnd.databricks.v1+output": {
              "arguments": {},
              "data": "",
              "errorSummary": "Command skipped",
              "errorTraceType": "html",
              "metadata": {},
              "type": "ipynbError"
            }
          }
        }
      ],
      "source": [
        "spark.sql(\n",
        "    \"\"\"\n",
        "    SELECT * FROM employee_table\n",
        "    \"\"\"\n",
        ").show(truncate=False)"
      ]
    },
    {
      "cell_type": "markdown",
      "metadata": {
        "application/vnd.databricks.v1+cell": {
          "cellMetadata": {
            "byteLimit": 2048000,
            "rowLimit": 10000
          },
          "inputWidgets": {},
          "nuid": "82d79746-e036-4c11-8100-0eaef4b32ba7",
          "showTitle": false,
          "tableResultSettingsMap": {},
          "title": ""
        },
        "id": "rN70rUUeyV16"
      },
      "source": [
        "### Operations\n",
        "1. Aliasing - `alias()`\n",
        "2. Filter/Where - `.filter()` `.where()`\n",
        "3. Literal - `lit()`\n",
        "4. Adding Columns - using `withColumn()`. If column is there, data is overwritten, if not there, then a new column is cerated\n",
        "5. Renaming Columns - `withColumnRenamed()`\n",
        "6. Casting Data Types - `withColumn()` and `.cast()`\n",
        "7. Removing Columns - `.drop()`\n",
        "8. Union & UnionAll\n",
        "9. If-Else - `.when()` - `.otherwise()` in spark, `case when` - `then`\n",
        "10. Find Unique - `.distinct()`\n",
        "11. Drop Duplicates - `.drop_duplicates()`\n",
        "\n",
        "\n",
        "**Note:**\n",
        "* `.distinct()` - Removes duplicate rows based on all columns in the DataFrame.\n",
        "* `.dropDuplicates()` - Removes duplicate rows based on selected subset of columns (can also work on all columns).\n",
        "12. Sort data - `.sort(col(\"salary\").asc())` | .asc or .desc"
      ]
    },
    {
      "cell_type": "code",
      "execution_count": null,
      "metadata": {
        "application/vnd.databricks.v1+cell": {
          "cellMetadata": {
            "byteLimit": 2048000,
            "rowLimit": 10000
          },
          "inputWidgets": {},
          "nuid": "863f7279-f5c7-4d10-81b0-4d53453c416a",
          "showTitle": false,
          "tableResultSettingsMap": {},
          "title": ""
        },
        "id": "cLGbzI3zyV17",
        "outputId": "e64f8ea1-cb9d-4102-8985-30e988d2600c"
      },
      "outputs": [
        {
          "output_type": "display_data",
          "data": {
            "text/html": [
              "<style scoped>\n",
              "  .ansiout {\n",
              "    display: block;\n",
              "    unicode-bidi: embed;\n",
              "    white-space: pre-wrap;\n",
              "    word-wrap: break-word;\n",
              "    word-break: break-all;\n",
              "    font-family: \"Menlo\", \"Monaco\", \"Consolas\", \"Ubuntu Mono\", \"Source Code Pro\", monospace;\n",
              "    font-size: 13px;\n",
              "    color: #555;\n",
              "    margin-left: 4px;\n",
              "    line-height: 19px;\n",
              "  }\n",
              "</style>"
            ]
          },
          "metadata": {
            "application/vnd.databricks.v1+output": {
              "arguments": {},
              "data": "",
              "errorSummary": "Command skipped",
              "errorTraceType": "html",
              "metadata": {},
              "type": "ipynbError"
            }
          }
        }
      ],
      "source": [
        "# Alias\n",
        "employee_df.select(col(\"id\").alias(\"emp_id\"), \"name\").show()"
      ]
    },
    {
      "cell_type": "code",
      "execution_count": null,
      "metadata": {
        "application/vnd.databricks.v1+cell": {
          "cellMetadata": {
            "byteLimit": 2048000,
            "rowLimit": 10000
          },
          "inputWidgets": {},
          "nuid": "d10e8b75-3ff3-43af-8b2b-86d3afa4713c",
          "showTitle": false,
          "tableResultSettingsMap": {},
          "title": ""
        },
        "id": "g5JZYzH_yV17",
        "outputId": "4db85508-a809-4786-ebd3-050cd8a5ef7d"
      },
      "outputs": [
        {
          "output_type": "display_data",
          "data": {
            "text/html": [
              "<style scoped>\n",
              "  .ansiout {\n",
              "    display: block;\n",
              "    unicode-bidi: embed;\n",
              "    white-space: pre-wrap;\n",
              "    word-wrap: break-word;\n",
              "    word-break: break-all;\n",
              "    font-family: \"Menlo\", \"Monaco\", \"Consolas\", \"Ubuntu Mono\", \"Source Code Pro\", monospace;\n",
              "    font-size: 13px;\n",
              "    color: #555;\n",
              "    margin-left: 4px;\n",
              "    line-height: 19px;\n",
              "  }\n",
              "</style>"
            ]
          },
          "metadata": {
            "application/vnd.databricks.v1+output": {
              "arguments": {},
              "data": "",
              "errorSummary": "Command skipped",
              "errorTraceType": "html",
              "metadata": {},
              "type": "ipynbError"
            }
          }
        }
      ],
      "source": [
        "# Filter\n",
        "# Find Salary above 1.5Lakhs\n",
        "employee_df.filter((col(\"salary\")>150000) & (col(\"age\")<18)).show()"
      ]
    },
    {
      "cell_type": "code",
      "execution_count": null,
      "metadata": {
        "application/vnd.databricks.v1+cell": {
          "cellMetadata": {
            "byteLimit": 2048000,
            "rowLimit": 10000
          },
          "inputWidgets": {},
          "nuid": "4f6e778a-44f9-4647-bf8a-eb4936b7cd05",
          "showTitle": false,
          "tableResultSettingsMap": {},
          "title": ""
        },
        "id": "3N9hECaByV17",
        "outputId": "b5b16a38-81c3-4879-cc5a-7d7aef79911d"
      },
      "outputs": [
        {
          "output_type": "display_data",
          "data": {
            "text/html": [
              "<style scoped>\n",
              "  .ansiout {\n",
              "    display: block;\n",
              "    unicode-bidi: embed;\n",
              "    white-space: pre-wrap;\n",
              "    word-wrap: break-word;\n",
              "    word-break: break-all;\n",
              "    font-family: \"Menlo\", \"Monaco\", \"Consolas\", \"Ubuntu Mono\", \"Source Code Pro\", monospace;\n",
              "    font-size: 13px;\n",
              "    color: #555;\n",
              "    margin-left: 4px;\n",
              "    line-height: 19px;\n",
              "  }\n",
              "</style>"
            ]
          },
          "metadata": {
            "application/vnd.databricks.v1+output": {
              "arguments": {},
              "data": "",
              "errorSummary": "Command skipped",
              "errorTraceType": "html",
              "metadata": {},
              "type": "ipynbError"
            }
          }
        }
      ],
      "source": [
        "# Add a column of `last_name` with default value of `null`\n",
        "employee_df.select(\"*\", lit(\"null\").alias(\"last_name\")).show()"
      ]
    },
    {
      "cell_type": "code",
      "execution_count": null,
      "metadata": {
        "application/vnd.databricks.v1+cell": {
          "cellMetadata": {
            "byteLimit": 2048000,
            "rowLimit": 10000
          },
          "inputWidgets": {},
          "nuid": "25ae1c64-6807-46f8-a7fc-24d0d767a44a",
          "showTitle": false,
          "tableResultSettingsMap": {},
          "title": ""
        },
        "id": "-h-IdDBqyV18",
        "outputId": "dcbd6038-9c2b-46b1-dcdd-24f9465a150c"
      },
      "outputs": [
        {
          "output_type": "display_data",
          "data": {
            "text/html": [
              "<style scoped>\n",
              "  .ansiout {\n",
              "    display: block;\n",
              "    unicode-bidi: embed;\n",
              "    white-space: pre-wrap;\n",
              "    word-wrap: break-word;\n",
              "    word-break: break-all;\n",
              "    font-family: \"Menlo\", \"Monaco\", \"Consolas\", \"Ubuntu Mono\", \"Source Code Pro\", monospace;\n",
              "    font-size: 13px;\n",
              "    color: #555;\n",
              "    margin-left: 4px;\n",
              "    line-height: 19px;\n",
              "  }\n",
              "</style>"
            ]
          },
          "metadata": {
            "application/vnd.databricks.v1+output": {
              "arguments": {},
              "data": "",
              "errorSummary": "Command skipped",
              "errorTraceType": "html",
              "metadata": {},
              "type": "ipynbError"
            }
          }
        }
      ],
      "source": [
        "# Add a column\n",
        "employee_df.withColumn(\"Last_Name\", lit(\"null\")).show()"
      ]
    },
    {
      "cell_type": "code",
      "execution_count": null,
      "metadata": {
        "application/vnd.databricks.v1+cell": {
          "cellMetadata": {
            "byteLimit": 2048000,
            "rowLimit": 10000
          },
          "inputWidgets": {},
          "nuid": "bf307e89-9447-4a7a-bff2-5ce0d9bced95",
          "showTitle": false,
          "tableResultSettingsMap": {},
          "title": ""
        },
        "id": "HL20NceOyV18",
        "outputId": "b6a519d5-492a-4fcf-d2dc-e1c3786e0e3a"
      },
      "outputs": [
        {
          "output_type": "display_data",
          "data": {
            "text/html": [
              "<style scoped>\n",
              "  .ansiout {\n",
              "    display: block;\n",
              "    unicode-bidi: embed;\n",
              "    white-space: pre-wrap;\n",
              "    word-wrap: break-word;\n",
              "    word-break: break-all;\n",
              "    font-family: \"Menlo\", \"Monaco\", \"Consolas\", \"Ubuntu Mono\", \"Source Code Pro\", monospace;\n",
              "    font-size: 13px;\n",
              "    color: #555;\n",
              "    margin-left: 4px;\n",
              "    line-height: 19px;\n",
              "  }\n",
              "</style>"
            ]
          },
          "metadata": {
            "application/vnd.databricks.v1+output": {
              "arguments": {},
              "data": "",
              "errorSummary": "Command skipped",
              "errorTraceType": "html",
              "metadata": {},
              "type": "ipynbError"
            }
          }
        }
      ],
      "source": [
        "# Rename column - rename id --> emp_id\n",
        "employee_df.withColumnRenamed(\"id\", \"emp_id\").show()"
      ]
    },
    {
      "cell_type": "code",
      "execution_count": null,
      "metadata": {
        "application/vnd.databricks.v1+cell": {
          "cellMetadata": {
            "byteLimit": 2048000,
            "rowLimit": 10000
          },
          "inputWidgets": {},
          "nuid": "93bc65a5-ceed-4dd7-89b9-f3f631afdbce",
          "showTitle": false,
          "tableResultSettingsMap": {},
          "title": ""
        },
        "id": "sgme-xt_yV19",
        "outputId": "5578da1d-fd88-4e38-e81b-89c171691312"
      },
      "outputs": [
        {
          "output_type": "display_data",
          "data": {
            "text/html": [
              "<style scoped>\n",
              "  .ansiout {\n",
              "    display: block;\n",
              "    unicode-bidi: embed;\n",
              "    white-space: pre-wrap;\n",
              "    word-wrap: break-word;\n",
              "    word-break: break-all;\n",
              "    font-family: \"Menlo\", \"Monaco\", \"Consolas\", \"Ubuntu Mono\", \"Source Code Pro\", monospace;\n",
              "    font-size: 13px;\n",
              "    color: #555;\n",
              "    margin-left: 4px;\n",
              "    line-height: 19px;\n",
              "  }\n",
              "</style>"
            ]
          },
          "metadata": {
            "application/vnd.databricks.v1+output": {
              "arguments": {},
              "data": "",
              "errorSummary": "Command skipped",
              "errorTraceType": "html",
              "metadata": {},
              "type": "ipynbError"
            }
          }
        }
      ],
      "source": [
        "# Casting - chnage data type of a column from one to another\n",
        "employee_df.withColumn(\"id\", col(\"id\").cast(\"string\")).withColumn(\"salary\", col(\"salary\").cast(\"long\")).printSchema()"
      ]
    },
    {
      "cell_type": "code",
      "execution_count": null,
      "metadata": {
        "application/vnd.databricks.v1+cell": {
          "cellMetadata": {
            "byteLimit": 2048000,
            "rowLimit": 10000
          },
          "inputWidgets": {},
          "nuid": "4ccc39e0-b981-45eb-a81b-b2bb1e747cd1",
          "showTitle": false,
          "tableResultSettingsMap": {},
          "title": ""
        },
        "id": "ZwESOJbqyV19",
        "outputId": "b6ee81bf-fea4-4555-9eaf-b2da962be3b0"
      },
      "outputs": [
        {
          "output_type": "display_data",
          "data": {
            "text/html": [
              "<style scoped>\n",
              "  .ansiout {\n",
              "    display: block;\n",
              "    unicode-bidi: embed;\n",
              "    white-space: pre-wrap;\n",
              "    word-wrap: break-word;\n",
              "    word-break: break-all;\n",
              "    font-family: \"Menlo\", \"Monaco\", \"Consolas\", \"Ubuntu Mono\", \"Source Code Pro\", monospace;\n",
              "    font-size: 13px;\n",
              "    color: #555;\n",
              "    margin-left: 4px;\n",
              "    line-height: 19px;\n",
              "  }\n",
              "</style>"
            ]
          },
          "metadata": {
            "application/vnd.databricks.v1+output": {
              "arguments": {},
              "data": "",
              "errorSummary": "Command skipped",
              "errorTraceType": "html",
              "metadata": {},
              "type": "ipynbError"
            }
          }
        }
      ],
      "source": [
        "# Remove columns\n",
        "employee_df.drop(\"age\", col(\"address\")).show"
      ]
    },
    {
      "cell_type": "markdown",
      "metadata": {
        "application/vnd.databricks.v1+cell": {
          "cellMetadata": {
            "byteLimit": 2048000,
            "rowLimit": 10000
          },
          "inputWidgets": {},
          "nuid": "b6bb76ec-ed2c-4002-aeab-56dc33879c17",
          "showTitle": false,
          "tableResultSettingsMap": {},
          "title": ""
        },
        "id": "tlT6i6khyV19"
      },
      "source": [
        "All the above operations can be done using SQL as well."
      ]
    },
    {
      "cell_type": "code",
      "execution_count": null,
      "metadata": {
        "application/vnd.databricks.v1+cell": {
          "cellMetadata": {
            "byteLimit": 2048000,
            "rowLimit": 10000
          },
          "inputWidgets": {},
          "nuid": "b5466680-f819-438c-a060-6b46c3a4bc04",
          "showTitle": false,
          "tableResultSettingsMap": {},
          "title": ""
        },
        "id": "tqsfCbH8yV1-",
        "outputId": "bc70dc23-3e94-4309-95cc-a5834c9c5e49"
      },
      "outputs": [
        {
          "output_type": "display_data",
          "data": {
            "text/html": [
              "<style scoped>\n",
              "  .ansiout {\n",
              "    display: block;\n",
              "    unicode-bidi: embed;\n",
              "    white-space: pre-wrap;\n",
              "    word-wrap: break-word;\n",
              "    word-break: break-all;\n",
              "    font-family: \"Menlo\", \"Monaco\", \"Consolas\", \"Ubuntu Mono\", \"Source Code Pro\", monospace;\n",
              "    font-size: 13px;\n",
              "    color: #555;\n",
              "    margin-left: 4px;\n",
              "    line-height: 19px;\n",
              "  }\n",
              "</style>"
            ]
          },
          "metadata": {
            "application/vnd.databricks.v1+output": {
              "arguments": {},
              "data": "",
              "errorSummary": "Command skipped",
              "errorTraceType": "html",
              "metadata": {},
              "type": "ipynbError"
            }
          }
        }
      ],
      "source": [
        "spark.sql(\"\"\"\n",
        "          select *, \"Saxena\" as last_name, concat(name, last_name) as full_name, cast(id as string) from employee_table where age < 18 and salary > 150000\n",
        "          \"\"\").show()\n",
        "\n",
        "spark.sql(\"\"\"\n",
        "          select *, \"Saxena\" as last_name, concat(name, last_name) as full_name, cast(id as string) from employee_table where age < 18 and salary > 150000\n",
        "          \"\"\").printSchema()"
      ]
    },
    {
      "cell_type": "code",
      "execution_count": null,
      "metadata": {
        "application/vnd.databricks.v1+cell": {
          "cellMetadata": {
            "byteLimit": 2048000,
            "rowLimit": 10000
          },
          "inputWidgets": {},
          "nuid": "f572c130-893c-4662-b757-c0978f5300b0",
          "showTitle": false,
          "tableResultSettingsMap": {},
          "title": ""
        },
        "id": "uiG0XkXhyV1-",
        "outputId": "8020c407-b73c-4a70-e009-4e636c7595c6"
      },
      "outputs": [
        {
          "output_type": "display_data",
          "data": {
            "text/html": [
              "<style scoped>\n",
              "  .ansiout {\n",
              "    display: block;\n",
              "    unicode-bidi: embed;\n",
              "    white-space: pre-wrap;\n",
              "    word-wrap: break-word;\n",
              "    word-break: break-all;\n",
              "    font-family: \"Menlo\", \"Monaco\", \"Consolas\", \"Ubuntu Mono\", \"Source Code Pro\", monospace;\n",
              "    font-size: 13px;\n",
              "    color: #555;\n",
              "    margin-left: 4px;\n",
              "    line-height: 19px;\n",
              "  }\n",
              "</style>"
            ]
          },
          "metadata": {
            "application/vnd.databricks.v1+output": {
              "arguments": {},
              "data": "",
              "errorSummary": "Command skipped",
              "errorTraceType": "html",
              "metadata": {},
              "type": "ipynbError"
            }
          }
        }
      ],
      "source": [
        "data=[(10 ,'Anil',50000, 18),\n",
        "(11 ,'Vikas',75000,  16),\n",
        "(12 ,'Nisha',40000,  18),\n",
        "(13 ,'Nidhi',60000,  17),\n",
        "(14 ,'Priya',80000,  18),\n",
        "(15 ,'Mohit',45000,  18),\n",
        "(16 ,'Rajesh',90000, 10),\n",
        "(17 ,'Raman',55000, 16),\n",
        "(18 ,'Sam',65000,   17)]\n",
        "\n",
        "schema = [\"id\", \"name\", \"salary\", \"mngr_id\"]\n",
        "\n",
        "manager_df = spark.createDataFrame(data, schema)\n",
        "\n",
        "manager_df.show()"
      ]
    },
    {
      "cell_type": "code",
      "execution_count": null,
      "metadata": {
        "application/vnd.databricks.v1+cell": {
          "cellMetadata": {
            "byteLimit": 2048000,
            "rowLimit": 10000
          },
          "inputWidgets": {},
          "nuid": "aa0f2461-cd1e-43ea-acc5-3a339b4a3da6",
          "showTitle": false,
          "tableResultSettingsMap": {},
          "title": ""
        },
        "id": "n5gqP4KIyV1_",
        "outputId": "30a958c8-6372-4a73-ffda-fffb75e1a34c"
      },
      "outputs": [
        {
          "output_type": "display_data",
          "data": {
            "text/html": [
              "<style scoped>\n",
              "  .ansiout {\n",
              "    display: block;\n",
              "    unicode-bidi: embed;\n",
              "    white-space: pre-wrap;\n",
              "    word-wrap: break-word;\n",
              "    word-break: break-all;\n",
              "    font-family: \"Menlo\", \"Monaco\", \"Consolas\", \"Ubuntu Mono\", \"Source Code Pro\", monospace;\n",
              "    font-size: 13px;\n",
              "    color: #555;\n",
              "    margin-left: 4px;\n",
              "    line-height: 19px;\n",
              "  }\n",
              "</style>"
            ]
          },
          "metadata": {
            "application/vnd.databricks.v1+output": {
              "arguments": {},
              "data": "",
              "errorSummary": "Command skipped",
              "errorTraceType": "html",
              "metadata": {},
              "type": "ipynbError"
            }
          }
        }
      ],
      "source": [
        "manager_df.count()"
      ]
    },
    {
      "cell_type": "code",
      "execution_count": null,
      "metadata": {
        "application/vnd.databricks.v1+cell": {
          "cellMetadata": {
            "byteLimit": 2048000,
            "rowLimit": 10000
          },
          "inputWidgets": {},
          "nuid": "06fe619c-4bfe-4467-9a01-68987eab5f1d",
          "showTitle": false,
          "tableResultSettingsMap": {},
          "title": ""
        },
        "id": "BiBque5FyV1_",
        "outputId": "85ed385d-1280-4c3c-d3a8-b2309ff5fa7d"
      },
      "outputs": [
        {
          "output_type": "display_data",
          "data": {
            "text/html": [
              "<style scoped>\n",
              "  .ansiout {\n",
              "    display: block;\n",
              "    unicode-bidi: embed;\n",
              "    white-space: pre-wrap;\n",
              "    word-wrap: break-word;\n",
              "    word-break: break-all;\n",
              "    font-family: \"Menlo\", \"Monaco\", \"Consolas\", \"Ubuntu Mono\", \"Source Code Pro\", monospace;\n",
              "    font-size: 13px;\n",
              "    color: #555;\n",
              "    margin-left: 4px;\n",
              "    line-height: 19px;\n",
              "  }\n",
              "</style>"
            ]
          },
          "metadata": {
            "application/vnd.databricks.v1+output": {
              "arguments": {},
              "data": "",
              "errorSummary": "Command skipped",
              "errorTraceType": "html",
              "metadata": {},
              "type": "ipynbError"
            }
          }
        }
      ],
      "source": [
        "data1=[(19 ,'Sohan',50000, 18),\n",
        "(20 ,'Sima',75000,  17),\n",
        "(17 ,'Raman',55000, 16),\n",
        "(18 ,'Sam',65000,   17)]\n",
        "\n",
        "manager_df1 = spark.createDataFrame(data1, schema)\n",
        "\n",
        "manager_df1.show()"
      ]
    },
    {
      "cell_type": "code",
      "execution_count": null,
      "metadata": {
        "application/vnd.databricks.v1+cell": {
          "cellMetadata": {
            "byteLimit": 2048000,
            "rowLimit": 10000
          },
          "inputWidgets": {},
          "nuid": "72156f51-416d-41f5-a1f9-0078a374d3d4",
          "showTitle": false,
          "tableResultSettingsMap": {},
          "title": ""
        },
        "id": "DoDIK0vtyV2A",
        "outputId": "c7645dcd-a8d5-4978-a092-7d79e783dcbe"
      },
      "outputs": [
        {
          "output_type": "display_data",
          "data": {
            "text/html": [
              "<style scoped>\n",
              "  .ansiout {\n",
              "    display: block;\n",
              "    unicode-bidi: embed;\n",
              "    white-space: pre-wrap;\n",
              "    word-wrap: break-word;\n",
              "    word-break: break-all;\n",
              "    font-family: \"Menlo\", \"Monaco\", \"Consolas\", \"Ubuntu Mono\", \"Source Code Pro\", monospace;\n",
              "    font-size: 13px;\n",
              "    color: #555;\n",
              "    margin-left: 4px;\n",
              "    line-height: 19px;\n",
              "  }\n",
              "</style>"
            ]
          },
          "metadata": {
            "application/vnd.databricks.v1+output": {
              "arguments": {},
              "data": "",
              "errorSummary": "Command skipped",
              "errorTraceType": "html",
              "metadata": {},
              "type": "ipynbError"
            }
          }
        }
      ],
      "source": [
        "manager_df.union(manager_df1).show() # adds the UNIQUE records of table 2 at the bottom of table 1\n",
        "manager_df.unionAll(manager_df1).show() # add ALL the records of table 2 at the bottom of table 1"
      ]
    },
    {
      "cell_type": "code",
      "execution_count": null,
      "metadata": {
        "application/vnd.databricks.v1+cell": {
          "cellMetadata": {
            "byteLimit": 2048000,
            "rowLimit": 10000
          },
          "inputWidgets": {},
          "nuid": "87a39994-c529-4fe1-b137-374d2fb78bf2",
          "showTitle": false,
          "tableResultSettingsMap": {},
          "title": ""
        },
        "id": "VrBXsDcbyV2A",
        "outputId": "3b63e571-60fa-4718-973c-b1c163a5b33c"
      },
      "outputs": [
        {
          "output_type": "display_data",
          "data": {
            "text/html": [
              "<style scoped>\n",
              "  .ansiout {\n",
              "    display: block;\n",
              "    unicode-bidi: embed;\n",
              "    white-space: pre-wrap;\n",
              "    word-wrap: break-word;\n",
              "    word-break: break-all;\n",
              "    font-family: \"Menlo\", \"Monaco\", \"Consolas\", \"Ubuntu Mono\", \"Source Code Pro\", monospace;\n",
              "    font-size: 13px;\n",
              "    color: #555;\n",
              "    margin-left: 4px;\n",
              "    line-height: 19px;\n",
              "  }\n",
              "</style>"
            ]
          },
          "metadata": {
            "application/vnd.databricks.v1+output": {
              "arguments": {},
              "data": "",
              "errorSummary": "Command skipped",
              "errorTraceType": "html",
              "metadata": {},
              "type": "ipynbError"
            }
          }
        }
      ],
      "source": [
        "manager_df.union(manager_df).distinct().show()"
      ]
    },
    {
      "cell_type": "markdown",
      "metadata": {
        "application/vnd.databricks.v1+cell": {
          "cellMetadata": {
            "byteLimit": 2048000,
            "rowLimit": 10000
          },
          "inputWidgets": {},
          "nuid": "cbb835ec-a37f-4478-a159-0e24b6d53258",
          "showTitle": false,
          "tableResultSettingsMap": {},
          "title": ""
        },
        "id": "60biZqNwyV2B"
      },
      "source": [
        "**Note:** Thus is PySpark **`union()`** and **`unionAll()`** behave the same. To consider distinct rows, use **`.distinct()`**."
      ]
    },
    {
      "cell_type": "code",
      "execution_count": null,
      "metadata": {
        "application/vnd.databricks.v1+cell": {
          "cellMetadata": {
            "byteLimit": 2048000,
            "rowLimit": 10000
          },
          "inputWidgets": {},
          "nuid": "c944dd62-849c-438b-9bf7-68fd27c20598",
          "showTitle": false,
          "tableResultSettingsMap": {},
          "title": ""
        },
        "id": "BZD6kIOzyV2B",
        "outputId": "4f4b042b-d5a9-496b-a30c-ee1676b3f3f0"
      },
      "outputs": [
        {
          "output_type": "display_data",
          "data": {
            "text/html": [
              "<style scoped>\n",
              "  .ansiout {\n",
              "    display: block;\n",
              "    unicode-bidi: embed;\n",
              "    white-space: pre-wrap;\n",
              "    word-wrap: break-word;\n",
              "    word-break: break-all;\n",
              "    font-family: \"Menlo\", \"Monaco\", \"Consolas\", \"Ubuntu Mono\", \"Source Code Pro\", monospace;\n",
              "    font-size: 13px;\n",
              "    color: #555;\n",
              "    margin-left: 4px;\n",
              "    line-height: 19px;\n",
              "  }\n",
              "</style>"
            ]
          },
          "metadata": {
            "application/vnd.databricks.v1+output": {
              "arguments": {},
              "data": "",
              "errorSummary": "Command skipped",
              "errorTraceType": "html",
              "metadata": {},
              "type": "ipynbError"
            }
          }
        }
      ],
      "source": [
        "wrong_column_data=[(19 ,50000, 18,'Sohan'),\n",
        "(20 ,75000,  17,'Sima')]\n",
        "\n",
        "new_schema = [\"id\", \"salary\", \"mngr_id\", \"name\"]\n",
        "\n",
        "wrong_df = spark.createDataFrame(wrong_column_data, new_schema)\n",
        "\n",
        "manager_df.union(wrong_df).show()"
      ]
    },
    {
      "cell_type": "code",
      "execution_count": null,
      "metadata": {
        "application/vnd.databricks.v1+cell": {
          "cellMetadata": {
            "byteLimit": 2048000,
            "rowLimit": 10000
          },
          "inputWidgets": {},
          "nuid": "6727b154-47e0-4deb-8e51-04876adb78de",
          "showTitle": false,
          "tableResultSettingsMap": {},
          "title": ""
        },
        "id": "sLkaB7mXyV2C",
        "outputId": "0c080bca-56cb-4a69-d254-20202d42029e"
      },
      "outputs": [
        {
          "output_type": "display_data",
          "data": {
            "text/html": [
              "<style scoped>\n",
              "  .ansiout {\n",
              "    display: block;\n",
              "    unicode-bidi: embed;\n",
              "    white-space: pre-wrap;\n",
              "    word-wrap: break-word;\n",
              "    word-break: break-all;\n",
              "    font-family: \"Menlo\", \"Monaco\", \"Consolas\", \"Ubuntu Mono\", \"Source Code Pro\", monospace;\n",
              "    font-size: 13px;\n",
              "    color: #555;\n",
              "    margin-left: 4px;\n",
              "    line-height: 19px;\n",
              "  }\n",
              "</style>"
            ]
          },
          "metadata": {
            "application/vnd.databricks.v1+output": {
              "arguments": {},
              "data": "",
              "errorSummary": "Command skipped",
              "errorTraceType": "html",
              "metadata": {},
              "type": "ipynbError"
            }
          }
        }
      ],
      "source": [
        "manager_df.union(wrong_df).show()\n",
        "manager_df.unionAll(wrong_df).show()"
      ]
    },
    {
      "cell_type": "markdown",
      "metadata": {
        "application/vnd.databricks.v1+cell": {
          "cellMetadata": {
            "byteLimit": 2048000,
            "rowLimit": 10000
          },
          "inputWidgets": {},
          "nuid": "b66e9ab8-b5a9-46fe-94f7-0cd2e544e9e5",
          "showTitle": false,
          "tableResultSettingsMap": {},
          "title": ""
        },
        "id": "e_4JevpyyV2D"
      },
      "source": [
        "**Thus, while combining with wrong data, `union()` and `unionAll()` does'nt give any error. However, if we want to match the columns, then we must use `unionByName()`**"
      ]
    },
    {
      "cell_type": "code",
      "execution_count": null,
      "metadata": {
        "application/vnd.databricks.v1+cell": {
          "cellMetadata": {
            "byteLimit": 2048000,
            "rowLimit": 10000
          },
          "inputWidgets": {},
          "nuid": "980d2eb1-8594-4e36-8a7c-2d3e0c0a7451",
          "showTitle": false,
          "tableResultSettingsMap": {},
          "title": ""
        },
        "id": "es9ZP0dOyV2D",
        "outputId": "d8562cba-c025-46f0-e768-a59c7ed91167"
      },
      "outputs": [
        {
          "output_type": "display_data",
          "data": {
            "text/html": [
              "<style scoped>\n",
              "  .ansiout {\n",
              "    display: block;\n",
              "    unicode-bidi: embed;\n",
              "    white-space: pre-wrap;\n",
              "    word-wrap: break-word;\n",
              "    word-break: break-all;\n",
              "    font-family: \"Menlo\", \"Monaco\", \"Consolas\", \"Ubuntu Mono\", \"Source Code Pro\", monospace;\n",
              "    font-size: 13px;\n",
              "    color: #555;\n",
              "    margin-left: 4px;\n",
              "    line-height: 19px;\n",
              "  }\n",
              "</style>"
            ]
          },
          "metadata": {
            "application/vnd.databricks.v1+output": {
              "arguments": {},
              "data": "",
              "errorSummary": "Command skipped",
              "errorTraceType": "html",
              "metadata": {},
              "type": "ipynbError"
            }
          }
        }
      ],
      "source": [
        "manager_df.unionByName(wrong_df).show()"
      ]
    },
    {
      "cell_type": "code",
      "execution_count": null,
      "metadata": {
        "application/vnd.databricks.v1+cell": {
          "cellMetadata": {
            "byteLimit": 2048000,
            "rowLimit": 10000
          },
          "inputWidgets": {},
          "nuid": "cb5c6f23-a48d-4431-9dc8-6ed1ec8ea786",
          "showTitle": false,
          "tableResultSettingsMap": {},
          "title": ""
        },
        "id": "1u-ZFdYJyV2E",
        "outputId": "4fbee135-73a9-4339-da33-48c564425fe1"
      },
      "outputs": [
        {
          "output_type": "display_data",
          "data": {
            "text/html": [
              "<style scoped>\n",
              "  .ansiout {\n",
              "    display: block;\n",
              "    unicode-bidi: embed;\n",
              "    white-space: pre-wrap;\n",
              "    word-wrap: break-word;\n",
              "    word-break: break-all;\n",
              "    font-family: \"Menlo\", \"Monaco\", \"Consolas\", \"Ubuntu Mono\", \"Source Code Pro\", monospace;\n",
              "    font-size: 13px;\n",
              "    color: #555;\n",
              "    margin-left: 4px;\n",
              "    line-height: 19px;\n",
              "  }\n",
              "</style>"
            ]
          },
          "metadata": {
            "application/vnd.databricks.v1+output": {
              "arguments": {},
              "data": "",
              "errorSummary": "Command skipped",
              "errorTraceType": "html",
              "metadata": {},
              "type": "ipynbError"
            }
          }
        }
      ],
      "source": [
        "# If-else\n",
        "emp_data = [\n",
        "(1,'manish',26,20000,'india','IT'),\n",
        "(2,'rahul',None,40000,'germany','engineering'),\n",
        "(3,'pawan',12,60000,'india','sales'),\n",
        "(4,'roshini',44,None,'uk','engineering'),\n",
        "(5,'raushan',35,70000,'india','sales'),\n",
        "(6,None,29,200000,'uk','IT'),\n",
        "(7,'adam',37,65000,'us','IT'),\n",
        "(8,'chris',16,40000,'us','sales'),\n",
        "(None,None,None,None,None,None),\n",
        "(7,'adam',37,65000,'us','IT')\n",
        "]\n",
        "schema = [\"id\", \"name\", \"age\", \"salary\", \"location\", \"field\"]\n",
        "\n",
        "employee_df = spark.createDataFrame(emp_data, schema=schema)\n",
        "employee_df.withColumn(\"adult\", when(col(\"age\") > 18, \"Yes\").when(col(\"age\") < 18, \"No\").otherwise(\"Novalue\")).show()"
      ]
    },
    {
      "cell_type": "code",
      "execution_count": null,
      "metadata": {
        "application/vnd.databricks.v1+cell": {
          "cellMetadata": {
            "byteLimit": 2048000,
            "rowLimit": 10000
          },
          "inputWidgets": {},
          "nuid": "5c542759-99a0-4628-8df5-6cdea58a2919",
          "showTitle": false,
          "tableResultSettingsMap": {},
          "title": ""
        },
        "id": "y0HCSGNlyV2E",
        "outputId": "25c63ce8-caf1-4bd0-d148-14019d54584e"
      },
      "outputs": [
        {
          "output_type": "display_data",
          "data": {
            "text/html": [
              "<style scoped>\n",
              "  .ansiout {\n",
              "    display: block;\n",
              "    unicode-bidi: embed;\n",
              "    white-space: pre-wrap;\n",
              "    word-wrap: break-word;\n",
              "    word-break: break-all;\n",
              "    font-family: \"Menlo\", \"Monaco\", \"Consolas\", \"Ubuntu Mono\", \"Source Code Pro\", monospace;\n",
              "    font-size: 13px;\n",
              "    color: #555;\n",
              "    margin-left: 4px;\n",
              "    line-height: 19px;\n",
              "  }\n",
              "</style>"
            ]
          },
          "metadata": {
            "application/vnd.databricks.v1+output": {
              "arguments": {},
              "data": "",
              "errorSummary": "Command skipped",
              "errorTraceType": "html",
              "metadata": {},
              "type": "ipynbError"
            }
          }
        }
      ],
      "source": [
        "table = employee_df.createTempView(\"temp_table\")\n",
        "\n",
        "spark.sql(\"\"\"\n",
        "          select *,\n",
        "          case when age < 18 then \"minor\"\n",
        "          when age > 18 then \"major\"\n",
        "          else \"no-value\"\n",
        "          end as adult\n",
        "          from temp_table\n",
        "          \"\"\").show()\n"
      ]
    },
    {
      "cell_type": "code",
      "execution_count": null,
      "metadata": {
        "application/vnd.databricks.v1+cell": {
          "cellMetadata": {
            "byteLimit": 2048000,
            "rowLimit": 10000
          },
          "inputWidgets": {},
          "nuid": "80434611-5c17-4762-8038-7ad2d55cf27f",
          "showTitle": false,
          "tableResultSettingsMap": {},
          "title": ""
        },
        "id": "gEbP1KhGyV2F",
        "outputId": "0e46e7e0-f386-4afa-a8b0-f1f3beda5d7f"
      },
      "outputs": [
        {
          "output_type": "display_data",
          "data": {
            "text/html": [
              "<style scoped>\n",
              "  .ansiout {\n",
              "    display: block;\n",
              "    unicode-bidi: embed;\n",
              "    white-space: pre-wrap;\n",
              "    word-wrap: break-word;\n",
              "    word-break: break-all;\n",
              "    font-family: \"Menlo\", \"Monaco\", \"Consolas\", \"Ubuntu Mono\", \"Source Code Pro\", monospace;\n",
              "    font-size: 13px;\n",
              "    color: #555;\n",
              "    margin-left: 4px;\n",
              "    line-height: 19px;\n",
              "  }\n",
              "</style>"
            ]
          },
          "metadata": {
            "application/vnd.databricks.v1+output": {
              "arguments": {},
              "data": "",
              "errorSummary": "Command skipped",
              "errorTraceType": "html",
              "metadata": {},
              "type": "ipynbError"
            }
          }
        }
      ],
      "source": [
        "data=[(10 ,'Anil',50000, 18),\n",
        "(11 ,'Vikas',75000,  16),\n",
        "(12 ,'Nisha',40000,  18),\n",
        "(13 ,'Nidhi',60000,  17),\n",
        "(14 ,'Priya',80000,  18),\n",
        "(15 ,'Mohit',45000,  18),\n",
        "(16 ,'Rajesh',90000, 10),\n",
        "(17 ,'Raman',55000, 16),\n",
        "(18 ,'Sam',65000,   17),\n",
        "(15 ,'Mohit',45000,  18),\n",
        "(13 ,'Nidhi',60000,  17),\n",
        "(14 ,'Priya',90000,  18),\n",
        "(18 ,'Sam',65000,   17)\n",
        "     ]\n",
        "\n",
        "emp_df = spark.createDataFrame(data, [\"id\", \"name\", \"salary\", \"mngr_id\"])\n",
        "emp_df.show()"
      ]
    },
    {
      "cell_type": "code",
      "execution_count": null,
      "metadata": {
        "application/vnd.databricks.v1+cell": {
          "cellMetadata": {
            "byteLimit": 2048000,
            "rowLimit": 10000
          },
          "inputWidgets": {},
          "nuid": "fcd478dd-02ac-4fe6-a8c3-c97ee1ad4bc9",
          "showTitle": false,
          "tableResultSettingsMap": {},
          "title": ""
        },
        "id": "QRDx4RB8yV2F",
        "outputId": "1cd1007e-37e6-44e6-d615-a803249b554b"
      },
      "outputs": [
        {
          "output_type": "display_data",
          "data": {
            "text/html": [
              "<style scoped>\n",
              "  .ansiout {\n",
              "    display: block;\n",
              "    unicode-bidi: embed;\n",
              "    white-space: pre-wrap;\n",
              "    word-wrap: break-word;\n",
              "    word-break: break-all;\n",
              "    font-family: \"Menlo\", \"Monaco\", \"Consolas\", \"Ubuntu Mono\", \"Source Code Pro\", monospace;\n",
              "    font-size: 13px;\n",
              "    color: #555;\n",
              "    margin-left: 4px;\n",
              "    line-height: 19px;\n",
              "  }\n",
              "</style>"
            ]
          },
          "metadata": {
            "application/vnd.databricks.v1+output": {
              "arguments": {},
              "data": "",
              "errorSummary": "Command skipped",
              "errorTraceType": "html",
              "metadata": {},
              "type": "ipynbError"
            }
          }
        }
      ],
      "source": [
        "emp_df.count()"
      ]
    },
    {
      "cell_type": "code",
      "execution_count": null,
      "metadata": {
        "application/vnd.databricks.v1+cell": {
          "cellMetadata": {
            "byteLimit": 2048000,
            "rowLimit": 10000
          },
          "inputWidgets": {},
          "nuid": "bba2d8df-1128-4d06-b8ba-f4b50470f196",
          "showTitle": false,
          "tableResultSettingsMap": {},
          "title": ""
        },
        "id": "vqSlcsnyyV2G",
        "outputId": "0ef1f45d-9080-4839-df20-cf101b6663a4"
      },
      "outputs": [
        {
          "output_type": "display_data",
          "data": {
            "text/html": [
              "<style scoped>\n",
              "  .ansiout {\n",
              "    display: block;\n",
              "    unicode-bidi: embed;\n",
              "    white-space: pre-wrap;\n",
              "    word-wrap: break-word;\n",
              "    word-break: break-all;\n",
              "    font-family: \"Menlo\", \"Monaco\", \"Consolas\", \"Ubuntu Mono\", \"Source Code Pro\", monospace;\n",
              "    font-size: 13px;\n",
              "    color: #555;\n",
              "    margin-left: 4px;\n",
              "    line-height: 19px;\n",
              "  }\n",
              "</style>"
            ]
          },
          "metadata": {
            "application/vnd.databricks.v1+output": {
              "arguments": {},
              "data": "",
              "errorSummary": "Command skipped",
              "errorTraceType": "html",
              "metadata": {},
              "type": "ipynbError"
            }
          }
        }
      ],
      "source": [
        "# Unique\n",
        "emp_df.distinct().count()"
      ]
    },
    {
      "cell_type": "code",
      "execution_count": null,
      "metadata": {
        "application/vnd.databricks.v1+cell": {
          "cellMetadata": {
            "byteLimit": 2048000,
            "rowLimit": 10000
          },
          "inputWidgets": {},
          "nuid": "ecdaf6dc-0877-4ea0-9e53-a34aae82432b",
          "showTitle": false,
          "tableResultSettingsMap": {},
          "title": ""
        },
        "id": "b4WC3VOhyV2G",
        "outputId": "9931d84c-ca7e-4f01-b348-9f52bfec794b"
      },
      "outputs": [
        {
          "output_type": "display_data",
          "data": {
            "text/html": [
              "<style scoped>\n",
              "  .ansiout {\n",
              "    display: block;\n",
              "    unicode-bidi: embed;\n",
              "    white-space: pre-wrap;\n",
              "    word-wrap: break-word;\n",
              "    word-break: break-all;\n",
              "    font-family: \"Menlo\", \"Monaco\", \"Consolas\", \"Ubuntu Mono\", \"Source Code Pro\", monospace;\n",
              "    font-size: 13px;\n",
              "    color: #555;\n",
              "    margin-left: 4px;\n",
              "    line-height: 19px;\n",
              "  }\n",
              "</style>"
            ]
          },
          "metadata": {
            "application/vnd.databricks.v1+output": {
              "arguments": {},
              "data": "",
              "errorSummary": "Command skipped",
              "errorTraceType": "html",
              "metadata": {},
              "type": "ipynbError"
            }
          }
        }
      ],
      "source": [
        "# find distinct records on the bases of specific column\n",
        "emp_df.select(\"name\", \"id\").distinct().show()"
      ]
    },
    {
      "cell_type": "code",
      "execution_count": null,
      "metadata": {
        "application/vnd.databricks.v1+cell": {
          "cellMetadata": {
            "byteLimit": 2048000,
            "rowLimit": 10000
          },
          "inputWidgets": {},
          "nuid": "6ddf66fe-9eb7-45fe-9d16-c0bb6c43e61b",
          "showTitle": false,
          "tableResultSettingsMap": {},
          "title": ""
        },
        "id": "oYm_MfxayV2G",
        "outputId": "315ea410-2a78-4444-8daa-b738df8408c5"
      },
      "outputs": [
        {
          "output_type": "display_data",
          "data": {
            "text/html": [
              "<style scoped>\n",
              "  .ansiout {\n",
              "    display: block;\n",
              "    unicode-bidi: embed;\n",
              "    white-space: pre-wrap;\n",
              "    word-wrap: break-word;\n",
              "    word-break: break-all;\n",
              "    font-family: \"Menlo\", \"Monaco\", \"Consolas\", \"Ubuntu Mono\", \"Source Code Pro\", monospace;\n",
              "    font-size: 13px;\n",
              "    color: #555;\n",
              "    margin-left: 4px;\n",
              "    line-height: 19px;\n",
              "  }\n",
              "</style>"
            ]
          },
          "metadata": {
            "application/vnd.databricks.v1+output": {
              "arguments": {},
              "data": "",
              "errorSummary": "Command skipped",
              "errorTraceType": "html",
              "metadata": {},
              "type": "ipynbError"
            }
          }
        }
      ],
      "source": [
        "# Drop duplicates\n",
        "drop_dup_emp_df = emp_df.drop_duplicates([\"id\", \"name\", \"salary\", \"mngr_id\"])\n",
        "drop_dup_emp_df.count()"
      ]
    },
    {
      "cell_type": "code",
      "execution_count": null,
      "metadata": {
        "application/vnd.databricks.v1+cell": {
          "cellMetadata": {
            "byteLimit": 2048000,
            "rowLimit": 10000
          },
          "inputWidgets": {},
          "nuid": "61f41427-ad3d-456f-b511-e7f1379d0384",
          "showTitle": false,
          "tableResultSettingsMap": {},
          "title": ""
        },
        "id": "iepf5UETyV2H",
        "outputId": "dd3a6a1c-b86e-4571-d2a3-f78369bb9b05"
      },
      "outputs": [
        {
          "output_type": "display_data",
          "data": {
            "text/html": [
              "<style scoped>\n",
              "  .ansiout {\n",
              "    display: block;\n",
              "    unicode-bidi: embed;\n",
              "    white-space: pre-wrap;\n",
              "    word-wrap: break-word;\n",
              "    word-break: break-all;\n",
              "    font-family: \"Menlo\", \"Monaco\", \"Consolas\", \"Ubuntu Mono\", \"Source Code Pro\", monospace;\n",
              "    font-size: 13px;\n",
              "    color: #555;\n",
              "    margin-left: 4px;\n",
              "    line-height: 19px;\n",
              "  }\n",
              "</style>"
            ]
          },
          "metadata": {
            "application/vnd.databricks.v1+output": {
              "arguments": {},
              "data": "",
              "errorSummary": "Command skipped",
              "errorTraceType": "html",
              "metadata": {},
              "type": "ipynbError"
            }
          }
        }
      ],
      "source": [
        "manager_df.sort(col(\"salary\").asc(), col(\"name\").desc()).show() # order matters"
      ]
    },
    {
      "cell_type": "markdown",
      "metadata": {
        "application/vnd.databricks.v1+cell": {
          "cellMetadata": {
            "byteLimit": 2048000,
            "rowLimit": 10000
          },
          "inputWidgets": {},
          "nuid": "6be4bd90-fab2-437f-a676-480344886dae",
          "showTitle": false,
          "tableResultSettingsMap": {},
          "title": ""
        },
        "id": "5A8KyuPvyV2H"
      },
      "source": [
        "### Aggregation Functions\n",
        "\n",
        "All agggregation functions must be written inside of **`.select()`**\n",
        "1. Count - `.count()` skips all the `null` values\n",
        "2. Min\n",
        "3. Max\n",
        "4. Avg\n",
        "5. Sum\n",
        "\n",
        "**Note:** `**.count**` is **action** and **transformation** both, depending on how it is used.\n",
        "1. .count(\"col) - action\n",
        "2. .select(count(\"col)) - transformation --> this will not create any **job** til the time action like **.show()** is not hit."
      ]
    },
    {
      "cell_type": "code",
      "execution_count": null,
      "metadata": {
        "application/vnd.databricks.v1+cell": {
          "cellMetadata": {
            "byteLimit": 2048000,
            "rowLimit": 10000
          },
          "inputWidgets": {},
          "nuid": "5de088a9-767e-44e2-bbdb-5bd4d1588022",
          "showTitle": false,
          "tableResultSettingsMap": {},
          "title": ""
        },
        "id": "JizRuQ_qyV2I",
        "outputId": "84227685-6b5b-4d21-fc83-f4803eebaafc"
      },
      "outputs": [
        {
          "output_type": "display_data",
          "data": {
            "text/html": [
              "<style scoped>\n",
              "  .ansiout {\n",
              "    display: block;\n",
              "    unicode-bidi: embed;\n",
              "    white-space: pre-wrap;\n",
              "    word-wrap: break-word;\n",
              "    word-break: break-all;\n",
              "    font-family: \"Menlo\", \"Monaco\", \"Consolas\", \"Ubuntu Mono\", \"Source Code Pro\", monospace;\n",
              "    font-size: 13px;\n",
              "    color: #555;\n",
              "    margin-left: 4px;\n",
              "    line-height: 19px;\n",
              "  }\n",
              "</style>"
            ]
          },
          "metadata": {
            "application/vnd.databricks.v1+output": {
              "arguments": {},
              "data": "",
              "errorSummary": "Command skipped",
              "errorTraceType": "html",
              "metadata": {},
              "type": "ipynbError"
            }
          }
        }
      ],
      "source": [
        "emp_data = [\n",
        "(1,'manish',26,20000,'india','IT'),\n",
        "(2,'rahul',None,40000,'germany','engineering'),\n",
        "(3,'pawan',12,60000,'india','sales'),\n",
        "(4,'roshini',44,None,'uk','engineering'),\n",
        "(5,'raushan',35,70000,'india','sales'),\n",
        "(6,None,29,200000,'uk','IT'),\n",
        "(7,'adam',37,65000,'us','IT'),\n",
        "(8,'chris',16,40000,'us','sales'),\n",
        "(None,None,None,None,None,None),\n",
        "(7,'adam',37,65000,'us','IT')\n",
        "]\n",
        "\n",
        "emp_df = spark.createDataFrame(emp_data, [\"id\", \"name\", \"age\", \"salary\", \"location\", \"field\"])"
      ]
    },
    {
      "cell_type": "code",
      "execution_count": null,
      "metadata": {
        "application/vnd.databricks.v1+cell": {
          "cellMetadata": {
            "byteLimit": 2048000,
            "rowLimit": 10000
          },
          "inputWidgets": {},
          "nuid": "1ef6f311-f3ba-45a7-99d7-c8fa0060c65d",
          "showTitle": false,
          "tableResultSettingsMap": {},
          "title": ""
        },
        "id": "H7kW3jo8yV2I",
        "outputId": "3b69c092-2b72-42c2-e1df-4cb98f6d9e5e"
      },
      "outputs": [
        {
          "output_type": "display_data",
          "data": {
            "text/html": [
              "<style scoped>\n",
              "  .ansiout {\n",
              "    display: block;\n",
              "    unicode-bidi: embed;\n",
              "    white-space: pre-wrap;\n",
              "    word-wrap: break-word;\n",
              "    word-break: break-all;\n",
              "    font-family: \"Menlo\", \"Monaco\", \"Consolas\", \"Ubuntu Mono\", \"Source Code Pro\", monospace;\n",
              "    font-size: 13px;\n",
              "    color: #555;\n",
              "    margin-left: 4px;\n",
              "    line-height: 19px;\n",
              "  }\n",
              "</style>"
            ]
          },
          "metadata": {
            "application/vnd.databricks.v1+output": {
              "arguments": {},
              "data": "",
              "errorSummary": "Command skipped",
              "errorTraceType": "html",
              "metadata": {},
              "type": "ipynbError"
            }
          }
        }
      ],
      "source": [
        "emp_df.count()"
      ]
    },
    {
      "cell_type": "code",
      "execution_count": null,
      "metadata": {
        "application/vnd.databricks.v1+cell": {
          "cellMetadata": {
            "byteLimit": 2048000,
            "rowLimit": 10000
          },
          "inputWidgets": {},
          "nuid": "d5812a95-9fda-4612-9730-1daef858e2d9",
          "showTitle": false,
          "tableResultSettingsMap": {},
          "title": ""
        },
        "id": "-NzQPoo-yV2I",
        "outputId": "ddbdb67b-7210-4ea8-eb3d-45e15737d07f"
      },
      "outputs": [
        {
          "output_type": "display_data",
          "data": {
            "text/html": [
              "<style scoped>\n",
              "  .ansiout {\n",
              "    display: block;\n",
              "    unicode-bidi: embed;\n",
              "    white-space: pre-wrap;\n",
              "    word-wrap: break-word;\n",
              "    word-break: break-all;\n",
              "    font-family: \"Menlo\", \"Monaco\", \"Consolas\", \"Ubuntu Mono\", \"Source Code Pro\", monospace;\n",
              "    font-size: 13px;\n",
              "    color: #555;\n",
              "    margin-left: 4px;\n",
              "    line-height: 19px;\n",
              "  }\n",
              "</style>"
            ]
          },
          "metadata": {
            "application/vnd.databricks.v1+output": {
              "arguments": {},
              "data": "",
              "errorSummary": "Command skipped",
              "errorTraceType": "html",
              "metadata": {},
              "type": "ipynbError"
            }
          }
        }
      ],
      "source": [
        "emp_df.select(count(\"name\")).show() # skips the null values"
      ]
    },
    {
      "cell_type": "code",
      "execution_count": null,
      "metadata": {
        "application/vnd.databricks.v1+cell": {
          "cellMetadata": {
            "byteLimit": 2048000,
            "rowLimit": 10000
          },
          "inputWidgets": {},
          "nuid": "29b674c3-0066-447d-8ba6-4bfc691f2bdb",
          "showTitle": false,
          "tableResultSettingsMap": {},
          "title": ""
        },
        "id": "JWPX9WyeyV2J",
        "outputId": "6b5a8ce6-83b0-4f56-9391-9dc9b47a2d34"
      },
      "outputs": [
        {
          "output_type": "display_data",
          "data": {
            "text/html": [
              "<style scoped>\n",
              "  .ansiout {\n",
              "    display: block;\n",
              "    unicode-bidi: embed;\n",
              "    white-space: pre-wrap;\n",
              "    word-wrap: break-word;\n",
              "    word-break: break-all;\n",
              "    font-family: \"Menlo\", \"Monaco\", \"Consolas\", \"Ubuntu Mono\", \"Source Code Pro\", monospace;\n",
              "    font-size: 13px;\n",
              "    color: #555;\n",
              "    margin-left: 4px;\n",
              "    line-height: 19px;\n",
              "  }\n",
              "</style>"
            ]
          },
          "metadata": {
            "application/vnd.databricks.v1+output": {
              "arguments": {},
              "data": "",
              "errorSummary": "Command skipped",
              "errorTraceType": "html",
              "metadata": {},
              "type": "ipynbError"
            }
          }
        }
      ],
      "source": [
        "# Max, Min, Sum, Avg\n",
        "emp_df.select(sum(\"salary\").alias(\"Total Salary\"), max(\"salary\").alias(\"Max Salary\"), min(\"salary\"), avg(\"salary\").cast(\"int\")).show()"
      ]
    },
    {
      "cell_type": "markdown",
      "metadata": {
        "application/vnd.databricks.v1+cell": {
          "cellMetadata": {
            "byteLimit": 2048000,
            "rowLimit": 10000
          },
          "inputWidgets": {},
          "nuid": "da77a2e0-c075-470a-8f7d-290cc47e9811",
          "showTitle": false,
          "tableResultSettingsMap": {},
          "title": ""
        },
        "id": "JQFzyLDJyV2J"
      },
      "source": [
        "### GroupBy\n",
        "\n",
        "Groups records based on specific column with similar values.\n",
        "\n",
        "Ques\n",
        "1. Total salary given to its employee\n",
        "2. Total salary per department wise\n",
        "3. Total salary per dpt and per country wise\n",
        "4. all column name with one extra column where total salary of each dpt is mentioned\n",
        "5. %age of salary given to each employee per dpt"
      ]
    },
    {
      "cell_type": "code",
      "execution_count": null,
      "metadata": {
        "application/vnd.databricks.v1+cell": {
          "cellMetadata": {
            "byteLimit": 2048000,
            "rowLimit": 10000
          },
          "inputWidgets": {},
          "nuid": "6d025749-86ea-4335-a044-0af3f40bfd54",
          "showTitle": false,
          "tableResultSettingsMap": {},
          "title": ""
        },
        "id": "YqkxG5mTyV2J",
        "outputId": "6f21310b-9132-4992-c447-c8a5e455b82a"
      },
      "outputs": [
        {
          "output_type": "display_data",
          "data": {
            "text/html": [
              "<style scoped>\n",
              "  .ansiout {\n",
              "    display: block;\n",
              "    unicode-bidi: embed;\n",
              "    white-space: pre-wrap;\n",
              "    word-wrap: break-word;\n",
              "    word-break: break-all;\n",
              "    font-family: \"Menlo\", \"Monaco\", \"Consolas\", \"Ubuntu Mono\", \"Source Code Pro\", monospace;\n",
              "    font-size: 13px;\n",
              "    color: #555;\n",
              "    margin-left: 4px;\n",
              "    line-height: 19px;\n",
              "  }\n",
              "</style>"
            ]
          },
          "metadata": {
            "application/vnd.databricks.v1+output": {
              "arguments": {},
              "data": "",
              "errorSummary": "Command skipped",
              "errorTraceType": "html",
              "metadata": {},
              "type": "ipynbError"
            }
          }
        }
      ],
      "source": [
        "emp_data = [(1,'manish',50000,'IT'),\n",
        "(2,'vikash',60000,'sales'),\n",
        "(3,'raushan',70000,'marketing'),\n",
        "(4,'mukesh',80000,'IT'),\n",
        "(5,'pritam',90000,'sales'),\n",
        "(6,'nikita',45000,'marketing'),\n",
        "(7,'ragini',55000,'marketing'),\n",
        "(8,'rakesh',100000,'IT'),\n",
        "(9,'aditya',65000,'IT'),\n",
        "(10,'rahul',50000,'marketing')]\n",
        "\n",
        "emp_df = spark.createDataFrame(emp_data, ['id', 'name', 'salary', 'department'])\n",
        "emp_df.show()"
      ]
    },
    {
      "cell_type": "code",
      "execution_count": null,
      "metadata": {
        "application/vnd.databricks.v1+cell": {
          "cellMetadata": {
            "byteLimit": 2048000,
            "rowLimit": 10000
          },
          "inputWidgets": {},
          "nuid": "f8b3b95f-e7d5-489a-b552-9747fb41768d",
          "showTitle": false,
          "tableResultSettingsMap": {},
          "title": ""
        },
        "id": "8q4xxyg3yV2K",
        "outputId": "1dc7658a-84b3-4cbd-b52e-ffe92666001e"
      },
      "outputs": [
        {
          "output_type": "display_data",
          "data": {
            "text/html": [
              "<style scoped>\n",
              "  .ansiout {\n",
              "    display: block;\n",
              "    unicode-bidi: embed;\n",
              "    white-space: pre-wrap;\n",
              "    word-wrap: break-word;\n",
              "    word-break: break-all;\n",
              "    font-family: \"Menlo\", \"Monaco\", \"Consolas\", \"Ubuntu Mono\", \"Source Code Pro\", monospace;\n",
              "    font-size: 13px;\n",
              "    color: #555;\n",
              "    margin-left: 4px;\n",
              "    line-height: 19px;\n",
              "  }\n",
              "</style>"
            ]
          },
          "metadata": {
            "application/vnd.databricks.v1+output": {
              "arguments": {},
              "data": "",
              "errorSummary": "Command skipped",
              "errorTraceType": "html",
              "metadata": {},
              "type": "ipynbError"
            }
          }
        }
      ],
      "source": [
        "# 1. Total salary given to its employee\n",
        "emp_df.select(sum('salary')).show()"
      ]
    },
    {
      "cell_type": "code",
      "execution_count": null,
      "metadata": {
        "application/vnd.databricks.v1+cell": {
          "cellMetadata": {
            "byteLimit": 2048000,
            "rowLimit": 10000
          },
          "inputWidgets": {},
          "nuid": "5876dc2a-eff6-4aad-828e-09e7bc5e204b",
          "showTitle": false,
          "tableResultSettingsMap": {},
          "title": ""
        },
        "id": "z4IoVx5ryV2K",
        "outputId": "392ad271-6586-4d02-b792-ad0920486a93"
      },
      "outputs": [
        {
          "output_type": "display_data",
          "data": {
            "text/html": [
              "<style scoped>\n",
              "  .ansiout {\n",
              "    display: block;\n",
              "    unicode-bidi: embed;\n",
              "    white-space: pre-wrap;\n",
              "    word-wrap: break-word;\n",
              "    word-break: break-all;\n",
              "    font-family: \"Menlo\", \"Monaco\", \"Consolas\", \"Ubuntu Mono\", \"Source Code Pro\", monospace;\n",
              "    font-size: 13px;\n",
              "    color: #555;\n",
              "    margin-left: 4px;\n",
              "    line-height: 19px;\n",
              "  }\n",
              "</style>"
            ]
          },
          "metadata": {
            "application/vnd.databricks.v1+output": {
              "arguments": {},
              "data": "",
              "errorSummary": "Command skipped",
              "errorTraceType": "html",
              "metadata": {},
              "type": "ipynbError"
            }
          }
        }
      ],
      "source": [
        "# 2. Total salary given per department\n",
        "emp_df.groupBy('department')\\\n",
        "      .agg(sum(\"salary\")).show()"
      ]
    },
    {
      "cell_type": "markdown",
      "metadata": {
        "application/vnd.databricks.v1+cell": {
          "cellMetadata": {
            "byteLimit": 2048000,
            "rowLimit": 10000
          },
          "inputWidgets": {},
          "nuid": "754d39af-5207-43a8-b536-84d9189370a0",
          "showTitle": false,
          "tableResultSettingsMap": {},
          "title": ""
        },
        "id": "W2FANR3byV2L"
      },
      "source": [
        "Now, to the above result, if we want the table to include the name, dept, salary, sum(salary)....we will have to use:\n",
        "1. **join** - store the result of this data in a table and then join on `department`\n",
        "2. **window** function"
      ]
    },
    {
      "cell_type": "code",
      "execution_count": null,
      "metadata": {
        "application/vnd.databricks.v1+cell": {
          "cellMetadata": {
            "byteLimit": 2048000,
            "rowLimit": 10000
          },
          "inputWidgets": {},
          "nuid": "603f01cf-ce0d-4068-8f8d-bbe59a49f27c",
          "showTitle": false,
          "tableResultSettingsMap": {},
          "title": ""
        },
        "id": "NH5gwBYdyV2L",
        "outputId": "91b45ebd-7506-437d-fcaa-e546f1d7ab5c"
      },
      "outputs": [
        {
          "output_type": "display_data",
          "data": {
            "text/html": [
              "<style scoped>\n",
              "  .ansiout {\n",
              "    display: block;\n",
              "    unicode-bidi: embed;\n",
              "    white-space: pre-wrap;\n",
              "    word-wrap: break-word;\n",
              "    word-break: break-all;\n",
              "    font-family: \"Menlo\", \"Monaco\", \"Consolas\", \"Ubuntu Mono\", \"Source Code Pro\", monospace;\n",
              "    font-size: 13px;\n",
              "    color: #555;\n",
              "    margin-left: 4px;\n",
              "    line-height: 19px;\n",
              "  }\n",
              "</style>"
            ]
          },
          "metadata": {
            "application/vnd.databricks.v1+output": {
              "arguments": {},
              "data": "",
              "errorSummary": "Command skipped",
              "errorTraceType": "html",
              "metadata": {},
              "type": "ipynbError"
            }
          }
        }
      ],
      "source": [
        "# 3. Total salary per dpt and per country wise\n",
        "\n",
        "emp_data_with_country = [\n",
        "(1,'manish',50000,'IT','india'),\n",
        "(2,'vikash',60000,'sales','us'),\n",
        "(3,'raushan',70000,'marketing','india'),\n",
        "(4,'mukesh',80000,'IT','us'),\n",
        "(5,'pritam',90000,'sales','india'),\n",
        "(6,'nikita',45000,'marketing','us'),\n",
        "(7,'ragini',55000,'marketing','india'),\n",
        "(8,'rakesh',100000,'IT','us'),\n",
        "(9,'aditya',65000,'IT','india'),\n",
        "(10,'rahul',50000,'marketing','us'),\n",
        "]\n",
        "\n",
        "emp_df_with_country = spark.createDataFrame(emp_data_with_country, [\"id\", \"name\", \"salary\", \"department\", \"country\"])\n",
        "emp_df_with_country.groupBy(\"department\", \"country\")\\\n",
        "                   .agg(sum(\"salary\")).show()\n"
      ]
    },
    {
      "cell_type": "markdown",
      "metadata": {
        "application/vnd.databricks.v1+cell": {
          "cellMetadata": {
            "byteLimit": 2048000,
            "rowLimit": 10000
          },
          "inputWidgets": {},
          "nuid": "71509c03-d584-42c6-925e-7311870f8f46",
          "showTitle": false,
          "tableResultSettingsMap": {},
          "title": ""
        },
        "id": "FlT6TT0gyV2M"
      },
      "source": [
        "### Join in Spark\n",
        "\n",
        "* Condition to implement a join - **Atleast one column** should match in the corresponding tables.\n",
        "* It is an **expensive** operation since it causes **data shuffling.**\n",
        "* **Syntax** - `df1.join(df2, condition, join_type)`.\n",
        "* **Multiple Joins** - `.join( (join1), (join2), ....)`\n",
        "\n",
        "Types of joins:\n",
        "1. Inner join - Records found in both\n",
        "2. Left join - Left Table + Common b/w left & right(will set NULL in the required fields of right table)\n",
        "3. Right join - Right table + Common b/w left & right(will set NULL in the required fields of left table)\n",
        "4. Outer join - Left + right table\n",
        "5. Left Semi - Same as Inner join only\n",
        "6. Left Anti - Only Left - Common Part\n",
        "7. Cross Join - Very expensive operation. Returns the dot product of both the table. len(A cross_join B) == len(A) * len(B)"
      ]
    },
    {
      "cell_type": "code",
      "execution_count": null,
      "metadata": {
        "application/vnd.databricks.v1+cell": {
          "cellMetadata": {
            "byteLimit": 2048000,
            "rowLimit": 10000
          },
          "inputWidgets": {},
          "nuid": "637e66de-d272-4be0-a676-ed5c56b076df",
          "showTitle": false,
          "tableResultSettingsMap": {},
          "title": ""
        },
        "id": "O9t4shqoyV2M",
        "outputId": "920fad3d-21b4-457a-9262-dd644730f701"
      },
      "outputs": [
        {
          "output_type": "display_data",
          "data": {
            "text/html": [
              "<style scoped>\n",
              "  .ansiout {\n",
              "    display: block;\n",
              "    unicode-bidi: embed;\n",
              "    white-space: pre-wrap;\n",
              "    word-wrap: break-word;\n",
              "    word-break: break-all;\n",
              "    font-family: \"Menlo\", \"Monaco\", \"Consolas\", \"Ubuntu Mono\", \"Source Code Pro\", monospace;\n",
              "    font-size: 13px;\n",
              "    color: #555;\n",
              "    margin-left: 4px;\n",
              "    line-height: 19px;\n",
              "  }\n",
              "</style>"
            ]
          },
          "metadata": {
            "application/vnd.databricks.v1+output": {
              "arguments": {},
              "data": "",
              "errorSummary": "Command skipped",
              "errorTraceType": "html",
              "metadata": {},
              "type": "ipynbError"
            }
          }
        }
      ],
      "source": [
        "\n",
        "customer_data = [(1,'manish','patna',\"30-05-2022\"),\n",
        "(2,'vikash','kolkata',\"12-03-2023\"),\n",
        "(3,'nikita','delhi',\"25-06-2023\"),\n",
        "(4,'rahul','ranchi',\"24-03-2023\"),\n",
        "(5,'mahesh','jaipur',\"22-03-2023\"),\n",
        "(6,'prantosh','kolkata',\"18-10-2022\"),\n",
        "(7,'raman','patna',\"30-12-2022\"),\n",
        "(8,'prakash','ranchi',\"24-02-2023\"),\n",
        "(9,'ragini','kolkata',\"03-03-2023\"),\n",
        "(10,'raushan','jaipur',\"05-02-2023\")]\n",
        "\n",
        "customer_schema=['customer_id','customer_name','address','date_of_joining']\n",
        "\n",
        "\n",
        "sales_data = [(1,22,10,\"01-06-2022\"),\n",
        "(1,27,5,\"03-02-2023\"),\n",
        "(2,5,3,\"01-06-2023\"),\n",
        "(5,22,1,\"22-03-2023\"),\n",
        "(7,22,4,\"03-02-2023\"),\n",
        "(9,5,6,\"03-03-2023\"),\n",
        "(2,1,12,\"15-06-2023\"),\n",
        "(1,56,2,\"25-06-2023\"),\n",
        "(5,12,5,\"15-04-2023\"),\n",
        "(11,12,76,\"12-03-2023\")]\n",
        "\n",
        "sales_schema=['customer_id','product_id','quantity','date_of_purchase']\n",
        "\n",
        "\n",
        "product_data = [(1, 'fanta',20),\n",
        "(2, 'dew',22),\n",
        "(5, 'sprite',40),\n",
        "(7, 'redbull',100),\n",
        "(12,'mazza',45),\n",
        "(22,'coke',27),\n",
        "(25,'limca',21),\n",
        "(27,'pepsi',14),\n",
        "(56,'sting',10)]\n",
        "\n",
        "product_schema=['id','name','price']\n",
        "\n",
        "customer_df = spark.createDataFrame(customer_data, customer_schema)\n",
        "sales_df = spark.createDataFrame(sales_data, sales_schema)\n",
        "product_df = spark.createDataFrame(product_data, product_schema)"
      ]
    },
    {
      "cell_type": "code",
      "execution_count": null,
      "metadata": {
        "application/vnd.databricks.v1+cell": {
          "cellMetadata": {
            "byteLimit": 2048000,
            "rowLimit": 10000
          },
          "inputWidgets": {},
          "nuid": "c71f2fba-80b0-4deb-b9d0-35cd20471fee",
          "showTitle": false,
          "tableResultSettingsMap": {},
          "title": ""
        },
        "id": "IYluNUxdyV2M",
        "outputId": "778ae969-0401-48c8-9da8-0caa00ed7984"
      },
      "outputs": [
        {
          "output_type": "display_data",
          "data": {
            "text/html": [
              "<style scoped>\n",
              "  .ansiout {\n",
              "    display: block;\n",
              "    unicode-bidi: embed;\n",
              "    white-space: pre-wrap;\n",
              "    word-wrap: break-word;\n",
              "    word-break: break-all;\n",
              "    font-family: \"Menlo\", \"Monaco\", \"Consolas\", \"Ubuntu Mono\", \"Source Code Pro\", monospace;\n",
              "    font-size: 13px;\n",
              "    color: #555;\n",
              "    margin-left: 4px;\n",
              "    line-height: 19px;\n",
              "  }\n",
              "</style>"
            ]
          },
          "metadata": {
            "application/vnd.databricks.v1+output": {
              "arguments": {},
              "data": "",
              "errorSummary": "Command skipped",
              "errorTraceType": "html",
              "metadata": {},
              "type": "ipynbError"
            }
          }
        }
      ],
      "source": [
        "# Give the customers id of customers who came to our platform but did buy product/products\n",
        "customer_df.join(sales_df, customer_df[\"customer_id\"] == sales_df[\"customer_id\"], \"inner\").select(customer_df[\"customer_id\"]).distinct().show()\n"
      ]
    },
    {
      "cell_type": "code",
      "execution_count": null,
      "metadata": {
        "application/vnd.databricks.v1+cell": {
          "cellMetadata": {
            "byteLimit": 2048000,
            "rowLimit": 10000
          },
          "inputWidgets": {},
          "nuid": "3c411e37-7903-4afa-96a6-607b6b514db8",
          "showTitle": false,
          "tableResultSettingsMap": {},
          "title": ""
        },
        "id": "JrfH4R67yV2N",
        "outputId": "40e04211-b426-46f7-e237-efda43ee9538"
      },
      "outputs": [
        {
          "output_type": "display_data",
          "data": {
            "text/html": [
              "<style scoped>\n",
              "  .ansiout {\n",
              "    display: block;\n",
              "    unicode-bidi: embed;\n",
              "    white-space: pre-wrap;\n",
              "    word-wrap: break-word;\n",
              "    word-break: break-all;\n",
              "    font-family: \"Menlo\", \"Monaco\", \"Consolas\", \"Ubuntu Mono\", \"Source Code Pro\", monospace;\n",
              "    font-size: 13px;\n",
              "    color: #555;\n",
              "    margin-left: 4px;\n",
              "    line-height: 19px;\n",
              "  }\n",
              "</style>"
            ]
          },
          "metadata": {
            "application/vnd.databricks.v1+output": {
              "arguments": {},
              "data": "",
              "errorSummary": "Command skipped",
              "errorTraceType": "html",
              "metadata": {},
              "type": "ipynbError"
            }
          }
        }
      ],
      "source": [
        "# Give the name and customer id of all the customer who came to the site but did not shop anything.\n",
        "customer_df.join(sales_df, customer_df[\"customer_id\"] == sales_df[\"customer_id\"], \"left\")\\\n",
        "          .filter(sales_df[\"customer_id\"].isNull())\\\n",
        "          .select(customer_df[\"customer_id\"], customer_df[\"customer_name\"]).show()"
      ]
    },
    {
      "cell_type": "markdown",
      "metadata": {
        "application/vnd.databricks.v1+cell": {
          "cellMetadata": {
            "byteLimit": 2048000,
            "rowLimit": 10000
          },
          "inputWidgets": {},
          "nuid": "6e78aba8-f53e-479d-b283-03d8f1961198",
          "showTitle": false,
          "tableResultSettingsMap": {},
          "title": ""
        },
        "id": "QRSYZAIgyV2O"
      },
      "source": [
        "## 11. Window function in Spark\n",
        "\n",
        "A **window function** looks at a specific set of rows (called a *window*) and calculates something for each row based on that group. Unlike regular group functions (like `SUM` or `AVG`), which give just one result for the entire group, window functions give a result for every row in the group.\n",
        "\n",
        "For example:\n",
        "\n",
        "If you have a table of employees with their salaries, you could use a window function to calculate the **average salary** of all employees **but still show each individual employee's salary**.\n",
        "\n",
        "**Syntax:**\n",
        "`from pyspark.sql.window import Window`\n",
        "\n",
        "`window = Window.partitionby(\"col_name)`\n",
        "\n",
        "The above syntax will create windows for all the records as per the col_name provided.\n",
        "\n",
        "Key componenets:\n",
        "1. `partitionBy(\"col_name\")` : This is like splitting the data into small, manageable groups based on a specific column.\n",
        "2. `orderBy(\"col_name)`: This sorts the rows inside each partition, usually by a specific column.\n",
        "3. `window frame`: Defines the specific range of rows to look at for each calculation (e.g., all rows, just the previous row, etc.).\n",
        "\n",
        "Options: `UNBOUNDED PRECEDING` | `offset PRECEDING` | `CURRENT ROW` | `offset FOLLOWING` | `UNBOUNDED FOLLOWING`\n",
        "\n"
      ]
    },
    {
      "cell_type": "code",
      "execution_count": null,
      "metadata": {
        "application/vnd.databricks.v1+cell": {
          "cellMetadata": {
            "byteLimit": 2048000,
            "rowLimit": 10000
          },
          "inputWidgets": {},
          "nuid": "a394feaf-6e44-4685-92b9-27c15a6fe181",
          "showTitle": false,
          "tableResultSettingsMap": {},
          "title": ""
        },
        "id": "VHc3qAv2yV2P"
      },
      "outputs": [],
      "source": [
        "from pyspark.sql.functions import *\n",
        "from pyspark.sql.types import *"
      ]
    },
    {
      "cell_type": "code",
      "execution_count": null,
      "metadata": {
        "application/vnd.databricks.v1+cell": {
          "cellMetadata": {
            "byteLimit": 2048000,
            "rowLimit": 10000
          },
          "inputWidgets": {},
          "nuid": "52f5e7f0-13e8-43e1-ad1e-181c6f62d529",
          "showTitle": false,
          "tableResultSettingsMap": {},
          "title": ""
        },
        "id": "eMDAEINSyV2P",
        "outputId": "44e20da1-bd33-4f8e-bf95-d8ebe45af9ac"
      },
      "outputs": [
        {
          "output_type": "stream",
          "name": "stdout",
          "text": [
            "+---+--------+------+----------+------+\n| id|    name|salary|department|gender|\n+---+--------+------+----------+------+\n|  1|  manish| 50000|        IT|     m|\n|  2|  vikash| 60000|     sales|     m|\n|  3| raushan| 70000| marketing|     m|\n|  4|  mukesh| 80000|        IT|     m|\n|  5|   priti| 90000|     sales|     f|\n|  6|  nikita| 45000| marketing|     f|\n|  7|  ragini| 55000| marketing|     f|\n|  8|   rashi|100000|        IT|     f|\n|  9|  aditya| 65000|        IT|     m|\n| 10|   rahul| 50000| marketing|     m|\n| 11|   rakhi| 50000|        IT|     f|\n| 12|akhilesh| 90000|     sales|     m|\n+---+--------+------+----------+------+\n\n"
          ]
        }
      ],
      "source": [
        "emp_data = [(1,'manish',50000,'IT','m'),\n",
        "(2,'vikash',60000,'sales','m'),\n",
        "(3,'raushan',70000,'marketing','m'),\n",
        "(4,'mukesh',80000,'IT','m'),\n",
        "(5,'priti',90000,'sales','f'),\n",
        "(6,'nikita',45000,'marketing','f'),\n",
        "(7,'ragini',55000,'marketing','f'),\n",
        "(8,'rashi',100000,'IT','f'),\n",
        "(9,'aditya',65000,'IT','m'),\n",
        "(10,'rahul',50000,'marketing','m'),\n",
        "(11,'rakhi',50000,'IT','f'),\n",
        "(12,'akhilesh',90000,'sales','m')]\n",
        "\n",
        "emp_df = spark.createDataFrame(emp_data, [\"id\", \"name\", \"salary\", \"department\", \"gender\"])\n",
        "emp_df.show()"
      ]
    },
    {
      "cell_type": "code",
      "execution_count": null,
      "metadata": {
        "application/vnd.databricks.v1+cell": {
          "cellMetadata": {
            "byteLimit": 2048000,
            "rowLimit": 10000
          },
          "inputWidgets": {},
          "nuid": "e31f37b3-0e40-47b2-b859-18214bd3008b",
          "showTitle": false,
          "tableResultSettingsMap": {},
          "title": ""
        },
        "id": "vBbbCKR1yV2Q",
        "outputId": "0dd3a009-814c-4f99-a161-d3e154680f1b"
      },
      "outputs": [
        {
          "output_type": "stream",
          "name": "stdout",
          "text": [
            "The windows so created are: \n <pyspark.sql.window.WindowSpec object at 0x7f2c26af11f0>\n+---+--------+------+----------+------+------------+\n|id |name    |salary|department|gender|total_salary|\n+---+--------+------+----------+------+------------+\n|1  |manish  |50000 |IT        |m     |345000      |\n|4  |mukesh  |80000 |IT        |m     |345000      |\n|8  |rashi   |100000|IT        |f     |345000      |\n|9  |aditya  |65000 |IT        |m     |345000      |\n|11 |rakhi   |50000 |IT        |f     |345000      |\n|3  |raushan |70000 |marketing |m     |220000      |\n|6  |nikita  |45000 |marketing |f     |220000      |\n|7  |ragini  |55000 |marketing |f     |220000      |\n|10 |rahul   |50000 |marketing |m     |220000      |\n|2  |vikash  |60000 |sales     |m     |240000      |\n|5  |priti   |90000 |sales     |f     |240000      |\n|12 |akhilesh|90000 |sales     |m     |240000      |\n+---+--------+------+----------+------+------------+\n\n"
          ]
        }
      ],
      "source": [
        "# List all column name with one extra column where total salary of each dpt is mentioned\n",
        "from pyspark.sql.window import Window\n",
        "\n",
        "window = Window.partitionBy(\"department\")\n",
        "print(f\"The windows so created are: \\n {window}\")\n",
        "\n",
        "emp_df.withColumn(\"total_salary\", sum(col(\"salary\")).over(window)).show(truncate=False)"
      ]
    },
    {
      "cell_type": "markdown",
      "metadata": {
        "application/vnd.databricks.v1+cell": {
          "cellMetadata": {},
          "inputWidgets": {},
          "nuid": "62e7ecf7-058e-4281-bd4e-8a8d6f62b444",
          "showTitle": false,
          "tableResultSettingsMap": {},
          "title": ""
        },
        "id": "4w43-m_TyV2Q"
      },
      "source": [
        "### Row Number, Rank, Dense Rank\n",
        "\n",
        "Row Number - Assigns a **unique number** to each row, starting from 1, in the order specified. No ties are allowed; every row gets a different number.\n",
        "\n",
        "Rank - Assigns a rank based on the order, but rows with the **same value (ties) get the same rank**. After ties, the rank **skips numbers**.\n",
        "\n",
        "Dense Rank -  Similar to rank, but it **does not skip numbers after ties**. Rows with the same value still get the same rank."
      ]
    },
    {
      "cell_type": "code",
      "execution_count": null,
      "metadata": {
        "application/vnd.databricks.v1+cell": {
          "cellMetadata": {
            "byteLimit": 2048000,
            "rowLimit": 10000
          },
          "inputWidgets": {},
          "nuid": "4cd59e2d-058a-4289-b116-d2e7dba1b2d7",
          "showTitle": false,
          "tableResultSettingsMap": {},
          "title": ""
        },
        "id": "npR3OJmOyV2Q",
        "outputId": "88537020-3543-460e-a900-0b6350004468"
      },
      "outputs": [
        {
          "output_type": "stream",
          "name": "stdout",
          "text": [
            "+---+--------+------+----------+------+----------+----+----------+\n|id |name    |salary|department|gender|row number|rank|dense rank|\n+---+--------+------+----------+------+----------+----+----------+\n|1  |manish  |50000 |IT        |m     |1         |1   |1         |\n|11 |rakhi   |50000 |IT        |f     |2         |1   |1         |\n|9  |aditya  |65000 |IT        |m     |3         |3   |2         |\n|4  |mukesh  |80000 |IT        |m     |4         |4   |3         |\n|8  |rashi   |100000|IT        |f     |5         |5   |4         |\n|6  |nikita  |45000 |marketing |f     |1         |1   |1         |\n|10 |rahul   |50000 |marketing |m     |2         |2   |2         |\n|7  |ragini  |55000 |marketing |f     |3         |3   |3         |\n|3  |raushan |70000 |marketing |m     |4         |4   |4         |\n|2  |vikash  |60000 |sales     |m     |1         |1   |1         |\n|5  |priti   |90000 |sales     |f     |2         |2   |2         |\n|12 |akhilesh|90000 |sales     |m     |3         |2   |2         |\n+---+--------+------+----------+------+----------+----+----------+\n\n"
          ]
        }
      ],
      "source": [
        "# Give the row no., rank and dense rank for the window in asc order by salary over dept\n",
        "window = Window.partitionBy(\"department\").orderBy(\"salary\")\n",
        "\n",
        "emp_df.withColumn(\"row number\", row_number().over(window)).withColumn(\"rank\", rank().over(window)).withColumn(\"dense rank\", dense_rank().over(window)).show(truncate=False)"
      ]
    },
    {
      "cell_type": "code",
      "execution_count": null,
      "metadata": {
        "application/vnd.databricks.v1+cell": {
          "cellMetadata": {
            "byteLimit": 2048000,
            "rowLimit": 10000
          },
          "inputWidgets": {},
          "nuid": "86ced4d6-cd5e-4e6f-8fba-879b136856fd",
          "showTitle": false,
          "tableResultSettingsMap": {},
          "title": ""
        },
        "id": "5iZUaqadyV2R",
        "outputId": "2faae04d-ffef-49dd-f9c9-104bbdd6bbd0"
      },
      "outputs": [
        {
          "output_type": "stream",
          "name": "stdout",
          "text": [
            "+---+--------+------+----------+------+----------+----+----------+\n|id |name    |salary|department|gender|row number|rank|dense rank|\n+---+--------+------+----------+------+----------+----+----------+\n|11 |rakhi   |50000 |IT        |f     |1         |1   |1         |\n|8  |rashi   |100000|IT        |f     |2         |2   |2         |\n|1  |manish  |50000 |IT        |m     |1         |1   |1         |\n|9  |aditya  |65000 |IT        |m     |2         |2   |2         |\n|4  |mukesh  |80000 |IT        |m     |3         |3   |3         |\n|6  |nikita  |45000 |marketing |f     |1         |1   |1         |\n|7  |ragini  |55000 |marketing |f     |2         |2   |2         |\n|10 |rahul   |50000 |marketing |m     |1         |1   |1         |\n|3  |raushan |70000 |marketing |m     |2         |2   |2         |\n|5  |priti   |90000 |sales     |f     |1         |1   |1         |\n|2  |vikash  |60000 |sales     |m     |1         |1   |1         |\n|12 |akhilesh|90000 |sales     |m     |2         |2   |2         |\n+---+--------+------+----------+------+----------+----+----------+\n\n"
          ]
        }
      ],
      "source": [
        "# Give the row no., rank and dense rank for the window in asc order by salary, and gender over dept\n",
        "window = Window.partitionBy(\"department\", \"gender\").orderBy(\"salary\")\n",
        "\n",
        "emp_df.withColumn(\"row number\", row_number().over(window)).withColumn(\"rank\", rank().over(window)).withColumn(\"dense rank\", dense_rank().over(window)).show(truncate=False)"
      ]
    },
    {
      "cell_type": "code",
      "execution_count": null,
      "metadata": {
        "application/vnd.databricks.v1+cell": {
          "cellMetadata": {
            "byteLimit": 2048000,
            "rowLimit": 10000
          },
          "inputWidgets": {},
          "nuid": "6885e9ec-b6da-4013-ac82-9527d649c810",
          "showTitle": false,
          "tableResultSettingsMap": {},
          "title": ""
        },
        "id": "TjFP_d5xyV2R",
        "outputId": "5e3bb3e1-91ff-4718-fb2c-cbaaddf8e340"
      },
      "outputs": [
        {
          "output_type": "stream",
          "name": "stdout",
          "text": [
            "+---+--------+------+----------+------+----------+\n|id |name    |salary|department|gender|Dense Rank|\n+---+--------+------+----------+------+----------+\n|8  |rashi   |100000|IT        |f     |1         |\n|4  |mukesh  |80000 |IT        |m     |2         |\n|3  |raushan |70000 |marketing |m     |1         |\n|7  |ragini  |55000 |marketing |f     |2         |\n|5  |priti   |90000 |sales     |f     |1         |\n|12 |akhilesh|90000 |sales     |m     |1         |\n|2  |vikash  |60000 |sales     |m     |2         |\n+---+--------+------+----------+------+----------+\n\n"
          ]
        }
      ],
      "source": [
        "# Calculate the top 2 performers from each dpt\n",
        "window = Window.partitionBy(\"department\").orderBy(desc(\"salary\"))\n",
        "\n",
        "emp_df.withColumn(\"Dense Rank\", dense_rank().over(window)).filter(col(\"Dense Rank\") <= 2).show(truncate=False)"
      ]
    },
    {
      "cell_type": "markdown",
      "metadata": {
        "application/vnd.databricks.v1+cell": {
          "cellMetadata": {},
          "inputWidgets": {},
          "nuid": "baad355e-8d2c-4853-95c0-0893750a0bc5",
          "showTitle": false,
          "tableResultSettingsMap": {},
          "title": ""
        },
        "id": "Fcab1rF2yV2S"
      },
      "source": [
        "### Lead and Lag in Spark\n",
        "\n",
        "- **Lead**: Fetches the value from the **next row** in the same column within a partition.  \n",
        "- **Lag**: Fetches the value from the **previous row** in the same column within a partition.  "
      ]
    },
    {
      "cell_type": "code",
      "execution_count": null,
      "metadata": {
        "application/vnd.databricks.v1+cell": {
          "cellMetadata": {
            "byteLimit": 2048000,
            "rowLimit": 10000
          },
          "inputWidgets": {},
          "nuid": "0def000c-4ce0-487e-91f0-57733dcbab0c",
          "showTitle": false,
          "tableResultSettingsMap": {},
          "title": ""
        },
        "id": "wOV6TyFbyV2S",
        "outputId": "c6073ba1-7b19-4c2b-83b0-8130913ad646"
      },
      "outputs": [
        {
          "output_type": "stream",
          "name": "stdout",
          "text": [
            "+----------+------------+----------+-------+\n|product_id|product_name|sales_date|  sales|\n+----------+------------+----------+-------+\n|         1|      iphone|01-01-2023|1500000|\n|         2|     samsung|01-01-2023|1100000|\n|         3|     oneplus|01-01-2023|1100000|\n|         1|      iphone|01-02-2023|1300000|\n|         2|     samsung|01-02-2023|1120000|\n|         3|     oneplus|01-02-2023|1120000|\n|         1|      iphone|01-03-2023|1600000|\n|         2|     samsung|01-03-2023|1080000|\n|         3|     oneplus|01-03-2023|1160000|\n|         1|      iphone|01-04-2023|1700000|\n|         2|     samsung|01-04-2023|1800000|\n|         3|     oneplus|01-04-2023|1170000|\n|         1|      iphone|01-05-2023|1200000|\n|         2|     samsung|01-05-2023| 980000|\n|         3|     oneplus|01-05-2023|1175000|\n|         1|      iphone|01-06-2023|1100000|\n|         2|     samsung|01-06-2023|1100000|\n|         3|     oneplus|01-06-2023|1200000|\n+----------+------------+----------+-------+\n\n"
          ]
        }
      ],
      "source": [
        "product_data = [\n",
        "(1,\"iphone\",\"01-01-2023\",1500000),\n",
        "(2,\"samsung\",\"01-01-2023\",1100000),\n",
        "(3,\"oneplus\",\"01-01-2023\",1100000),\n",
        "(1,\"iphone\",\"01-02-2023\",1300000),\n",
        "(2,\"samsung\",\"01-02-2023\",1120000),\n",
        "(3,\"oneplus\",\"01-02-2023\",1120000),\n",
        "(1,\"iphone\",\"01-03-2023\",1600000),\n",
        "(2,\"samsung\",\"01-03-2023\",1080000),\n",
        "(3,\"oneplus\",\"01-03-2023\",1160000),\n",
        "(1,\"iphone\",\"01-04-2023\",1700000),\n",
        "(2,\"samsung\",\"01-04-2023\",1800000),\n",
        "(3,\"oneplus\",\"01-04-2023\",1170000),\n",
        "(1,\"iphone\",\"01-05-2023\",1200000),\n",
        "(2,\"samsung\",\"01-05-2023\",980000),\n",
        "(3,\"oneplus\",\"01-05-2023\",1175000),\n",
        "(1,\"iphone\",\"01-06-2023\",1100000),\n",
        "(2,\"samsung\",\"01-06-2023\",1100000),\n",
        "(3,\"oneplus\",\"01-06-2023\",1200000)\n",
        "]\n",
        "\n",
        "\n",
        "product_df = spark.createDataFrame(product_data, ['product_id', 'product_name', 'sales_date', 'sales'])\n",
        "product_df.show()"
      ]
    },
    {
      "cell_type": "code",
      "execution_count": null,
      "metadata": {
        "application/vnd.databricks.v1+cell": {
          "cellMetadata": {
            "byteLimit": 2048000,
            "rowLimit": 10000
          },
          "inputWidgets": {},
          "nuid": "459e1996-e0f9-4d15-ba96-bfb6793ec6fd",
          "showTitle": false,
          "tableResultSettingsMap": {},
          "title": ""
        },
        "id": "p7lSTzuWyV2S",
        "outputId": "be93d869-28e3-480e-fec3-b7d8c8c94703"
      },
      "outputs": [
        {
          "output_type": "stream",
          "name": "stdout",
          "text": [
            "+----------+------------+----------+-------+-------------------+--------------------+\n|product_id|product_name|sales_date|sales  |previous_month_sale|percentage_loss_gain|\n+----------+------------+----------+-------+-------------------+--------------------+\n|1         |iphone      |01-01-2023|1500000|null               |null                |\n|1         |iphone      |01-02-2023|1300000|1500000            |-15.38              |\n|1         |iphone      |01-03-2023|1600000|1300000            |18.75               |\n|1         |iphone      |01-04-2023|1700000|1600000            |5.88                |\n|1         |iphone      |01-05-2023|1200000|1700000            |-41.67              |\n|1         |iphone      |01-06-2023|1100000|1200000            |-9.09               |\n|3         |oneplus     |01-01-2023|1100000|null               |null                |\n|3         |oneplus     |01-02-2023|1120000|1100000            |1.79                |\n|3         |oneplus     |01-03-2023|1160000|1120000            |3.45                |\n|3         |oneplus     |01-04-2023|1170000|1160000            |0.85                |\n|3         |oneplus     |01-05-2023|1175000|1170000            |0.43                |\n|3         |oneplus     |01-06-2023|1200000|1175000            |2.08                |\n|2         |samsung     |01-01-2023|1100000|null               |null                |\n|2         |samsung     |01-02-2023|1120000|1100000            |1.79                |\n|2         |samsung     |01-03-2023|1080000|1120000            |-3.7                |\n|2         |samsung     |01-04-2023|1800000|1080000            |40.0                |\n|2         |samsung     |01-05-2023|980000 |1800000            |-83.67              |\n|2         |samsung     |01-06-2023|1100000|980000             |10.91               |\n+----------+------------+----------+-------+-------------------+--------------------+\n\n"
          ]
        }
      ],
      "source": [
        "# list the %age of loss/gain based on previous months sale\n",
        "\n",
        "window = Window.partitionBy(\"product_name\").orderBy('sales_date')\n",
        "\n",
        "product_df.withColumn('previous_month_sale', lag(col('sales'), 1).over(window))\\\n",
        "          .withColumn('percentage_loss_gain', round((col('sales') - col('previous_month_sale')) * 100 / col('sales'), 2))\\\n",
        "          .show(truncate=False)"
      ]
    },
    {
      "cell_type": "markdown",
      "metadata": {
        "application/vnd.databricks.v1+cell": {
          "cellMetadata": {},
          "inputWidgets": {},
          "nuid": "a90583f7-b647-4bec-8872-a94b1ad65d17",
          "showTitle": false,
          "tableResultSettingsMap": {},
          "title": ""
        },
        "id": "CR4iIPOuyV2T"
      },
      "source": [
        "### `Rows Between` and `Rows Between` in Spark\n",
        "\n",
        "* They solve the issues which are not solvable by Lead, Lag, Row number, Rank, Dense Rank\n",
        "\n",
        "Questions-\n",
        "1. Find out the difference in sales, of each product from their first month sales to latest month\n",
        "2. Send a mail to all the employees who have not completed 8 hours in office when they work from office\n",
        "3. Find out the performance of sales based on last 3 months average\n",
        "\n",
        "* **`UNBOUNDED_PRECEDING`** (**default**) - Refers to the first row in the partition, regardless of its position.\n",
        "\n",
        "Syntax: `.rowsBetween(Window.unboundedPreceding, Window.currentRow)`\n",
        "\n",
        "* **`UNBOUNDED FOLLOWING`** - Refers to the last row in the partition, regardless of its position.\n",
        "\n",
        "Syntax: `.rowsBetween(Window.currentRow, Window.unboundedFollowing)`\n",
        "\n",
        "* **`CURRENT ROW`** - Refers to the row being processed at the moment.\n",
        "\n",
        "Syntax: `.rowsBetween(Window.currentRow, Window.currentRow)`\n",
        "\n",
        "* **`ROWS BETWEEN`** - Defines a fixed range of rows to include around the current row based on row positions.\n",
        "\n",
        "Syntax: `.rowsBetween(start_offset, end_offset)`\n",
        "\n",
        "* **`RANGE BETWEEN`** - Defines a range of values (e.g., time or scores) to include around the current row based on ordered values.\n",
        "\n",
        "Syntax: `.rangeBetween(Window.unboundedPreceding, Window.currentRow)`\n",
        "\n",
        "\n",
        "**Note: ** For debugging and knowing the physical plan, we can use **`.explain()`** after the query."
      ]
    },
    {
      "cell_type": "code",
      "execution_count": null,
      "metadata": {
        "application/vnd.databricks.v1+cell": {
          "cellMetadata": {
            "byteLimit": 2048000,
            "rowLimit": 10000
          },
          "inputWidgets": {},
          "nuid": "dab4da74-e2a8-4f67-8b8b-be37f822090c",
          "showTitle": false,
          "tableResultSettingsMap": {},
          "title": ""
        },
        "id": "RVyWi29NyV2T",
        "outputId": "0f7bbfc9-bdf3-4022-e27e-e4a120e56830"
      },
      "outputs": [
        {
          "output_type": "stream",
          "name": "stdout",
          "text": [
            "+----------+------------+----------+-------+\n|product_id|product_name|sales_date|  sales|\n+----------+------------+----------+-------+\n|         2|     samsung|01-01-1995|  11000|\n|         1|      iphone|01-02-2023|1300000|\n|         2|     samsung|01-02-2023|1120000|\n|         3|     oneplus|01-02-2023|1120000|\n|         1|      iphone|01-03-2023|1600000|\n|         2|     samsung|01-03-2023|1080000|\n|         3|     oneplus|01-03-2023|1160000|\n|         1|      iphone|01-01-2006|  15000|\n|         1|      iphone|01-04-2023|1700000|\n|         2|     samsung|01-04-2023|1800000|\n|         3|     oneplus|01-04-2023|1170000|\n|         1|      iphone|01-05-2023|1200000|\n|         2|     samsung|01-05-2023| 980000|\n|         3|     oneplus|01-05-2023|1175000|\n|         1|      iphone|01-06-2023|1100000|\n|         3|     oneplus|01-01-2010|  23000|\n|         2|     samsung|01-06-2023|1100000|\n|         3|     oneplus|01-06-2023|1200000|\n+----------+------------+----------+-------+\n\n"
          ]
        }
      ],
      "source": [
        "# Data for Question 1\n",
        "product_data = [\n",
        "(2,\"samsung\",\"01-01-1995\",11000),\n",
        "(1,\"iphone\",\"01-02-2023\",1300000),\n",
        "(2,\"samsung\",\"01-02-2023\",1120000),\n",
        "(3,\"oneplus\",\"01-02-2023\",1120000),\n",
        "(1,\"iphone\",\"01-03-2023\",1600000),\n",
        "(2,\"samsung\",\"01-03-2023\",1080000),\n",
        "(3,\"oneplus\",\"01-03-2023\",1160000),\n",
        "(1,\"iphone\",\"01-01-2006\",15000),\n",
        "(1,\"iphone\",\"01-04-2023\",1700000),\n",
        "(2,\"samsung\",\"01-04-2023\",1800000),\n",
        "(3,\"oneplus\",\"01-04-2023\",1170000),\n",
        "(1,\"iphone\",\"01-05-2023\",1200000),\n",
        "(2,\"samsung\",\"01-05-2023\",980000),\n",
        "(3,\"oneplus\",\"01-05-2023\",1175000),\n",
        "(1,\"iphone\",\"01-06-2023\",1100000),\n",
        "(3,\"oneplus\",\"01-01-2010\",23000),\n",
        "(2,\"samsung\",\"01-06-2023\",1100000),\n",
        "(3,\"oneplus\",\"01-06-2023\",1200000)\n",
        "]\n",
        "\n",
        "product_schema=[\"product_id\",\"product_name\",\"sales_date\",\"sales\"]\n",
        "\n",
        "product_df = spark.createDataFrame(data=product_data,schema=product_schema)\n",
        "\n",
        "product_df.show()"
      ]
    },
    {
      "cell_type": "code",
      "execution_count": null,
      "metadata": {
        "application/vnd.databricks.v1+cell": {
          "cellMetadata": {
            "byteLimit": 2048000,
            "rowLimit": 10000
          },
          "inputWidgets": {},
          "nuid": "dc6746d8-9264-4807-9b45-fb43edc0a54e",
          "showTitle": false,
          "tableResultSettingsMap": {},
          "title": ""
        },
        "id": "RpqEtRKSyV2T",
        "outputId": "47a529df-1e96-48ff-9adc-17bfc0bb6cac"
      },
      "outputs": [
        {
          "output_type": "stream",
          "name": "stdout",
          "text": [
            "+----------+------------+------------------------------+\n|product_id|product_name|latest_minus_first_month_sales|\n+----------+------------+------------------------------+\n|         1|      iphone|                       1085000|\n|         3|     oneplus|                       1177000|\n|         2|     samsung|                       1089000|\n+----------+------------+------------------------------+\n\n"
          ]
        }
      ],
      "source": [
        "# 1. Find out the difference in sales, of each product from their first month sales to latest month\n",
        "window = Window.partitionBy(\"product_name\").orderBy(\"sales_date\").rowsBetween(Window.unboundedPreceding, Window.unboundedFollowing)\n",
        "\n",
        "product_df.withColumn(\"first_month_sale\", first(col(\"sales\")).over(window))\\\n",
        "          .withColumn(\"latest_month_sale\", last(col(\"sales\")).over(window))\\\n",
        "          .withColumn(\"latest_minus_first_month_sales\", col(\"latest_month_sale\") - col(\"first_month_sale\"))\\\n",
        "          .select(\"product_id\",\"product_name\", \"latest_minus_first_month_sales\").distinct().show()"
      ]
    },
    {
      "cell_type": "code",
      "execution_count": null,
      "metadata": {
        "application/vnd.databricks.v1+cell": {
          "cellMetadata": {
            "byteLimit": 2048000,
            "rowLimit": 10000
          },
          "inputWidgets": {},
          "nuid": "7d06f602-3859-4e7a-a4ca-26d6d4945635",
          "showTitle": false,
          "tableResultSettingsMap": {},
          "title": ""
        },
        "id": "PH22i44NyV2U",
        "outputId": "b278ca23-f83e-4609-c4f4-857367c088a0"
      },
      "outputs": [
        {
          "output_type": "stream",
          "name": "stdout",
          "text": [
            "+---+------+----------+-----+\n| id|  name|      date| time|\n+---+------+----------+-----+\n|  1|manish|11-07-2023|10:20|\n|  1|manish|11-07-2023|11:20|\n|  2|rajesh|11-07-2023|11:20|\n|  1|manish|11-07-2023|11:50|\n|  2|rajesh|11-07-2023|13:20|\n|  1|manish|11-07-2023|19:20|\n|  2|rajesh|11-07-2023|17:20|\n|  1|manish|12-07-2023|10:32|\n|  1|manish|12-07-2023|12:20|\n|  3|vikash|12-07-2023|09:12|\n|  1|manish|12-07-2023|16:23|\n|  3|vikash|12-07-2023|18:08|\n+---+------+----------+-----+\n\n"
          ]
        }
      ],
      "source": [
        "# Data for Question 2\n",
        "emp_data = [(1,\"manish\",\"11-07-2023\",\"10:20\"),\n",
        "        (1,\"manish\",\"11-07-2023\",\"11:20\"),\n",
        "        (2,\"rajesh\",\"11-07-2023\",\"11:20\"),\n",
        "        (1,\"manish\",\"11-07-2023\",\"11:50\"),\n",
        "        (2,\"rajesh\",\"11-07-2023\",\"13:20\"),\n",
        "        (1,\"manish\",\"11-07-2023\",\"19:20\"),\n",
        "        (2,\"rajesh\",\"11-07-2023\",\"17:20\"),\n",
        "        (1,\"manish\",\"12-07-2023\",\"10:32\"),\n",
        "        (1,\"manish\",\"12-07-2023\",\"12:20\"),\n",
        "        (3,\"vikash\",\"12-07-2023\",\"09:12\"),\n",
        "        (1,\"manish\",\"12-07-2023\",\"16:23\"),\n",
        "        (3,\"vikash\",\"12-07-2023\",\"18:08\")]\n",
        "\n",
        "emp_schema = [\"id\", \"name\", \"date\", \"time\"]\n",
        "emp_df = spark.createDataFrame(data=emp_data, schema=emp_schema)\n",
        "\n",
        "emp_df.show()"
      ]
    },
    {
      "cell_type": "code",
      "execution_count": null,
      "metadata": {
        "application/vnd.databricks.v1+cell": {
          "cellMetadata": {
            "byteLimit": 2048000,
            "rowLimit": 10000
          },
          "inputWidgets": {},
          "nuid": "8d0438af-f308-4bdc-aa18-9d55f8a8628b",
          "showTitle": false,
          "tableResultSettingsMap": {},
          "title": ""
        },
        "id": "PB9-IXasyV2U",
        "outputId": "f9402cb3-eac8-4d25-8b3f-2383f595d5f6"
      },
      "outputs": [
        {
          "output_type": "stream",
          "name": "stdout",
          "text": [
            "+---+------+----------+-----+-------------------+\n| id|  name|      date| time|          timestamp|\n+---+------+----------+-----+-------------------+\n|  1|manish|11-07-2023|10:20|2023-07-11 10:20:00|\n|  1|manish|11-07-2023|11:20|2023-07-11 11:20:00|\n|  2|rajesh|11-07-2023|11:20|2023-07-11 11:20:00|\n|  1|manish|11-07-2023|11:50|2023-07-11 11:50:00|\n|  2|rajesh|11-07-2023|13:20|2023-07-11 13:20:00|\n|  1|manish|11-07-2023|19:20|2023-07-11 19:20:00|\n|  2|rajesh|11-07-2023|17:20|2023-07-11 17:20:00|\n|  1|manish|12-07-2023|10:32|2023-07-12 10:32:00|\n|  1|manish|12-07-2023|12:20|2023-07-12 12:20:00|\n|  3|vikash|12-07-2023|09:12|2023-07-12 09:12:00|\n|  1|manish|12-07-2023|16:23|2023-07-12 16:23:00|\n|  3|vikash|12-07-2023|18:08|2023-07-12 18:08:00|\n+---+------+----------+-----+-------------------+\n\n"
          ]
        }
      ],
      "source": [
        "# 2. Send a mail to all the employees who have not completed 8 hours in office when they work from office\n",
        "\n",
        "# First we need to add a column for unix timestamp so that we can +/-, etc\n",
        "emp_df = emp_df.withColumn(\"timestamp\", from_unixtime(unix_timestamp(expr(\"CONCAT(date, ' ', time)\"), \"dd-MM-yyyy HH:mm\")))\n",
        "\n",
        "emp_df.show()"
      ]
    },
    {
      "cell_type": "code",
      "execution_count": null,
      "metadata": {
        "application/vnd.databricks.v1+cell": {
          "cellMetadata": {
            "byteLimit": 2048000,
            "rowLimit": 10000
          },
          "inputWidgets": {},
          "nuid": "c5e546ce-a732-4966-8c59-fbfa7d1ccd22",
          "showTitle": false,
          "tableResultSettingsMap": {},
          "title": ""
        },
        "id": "VXu2djs8yV2V",
        "outputId": "bd10ccb5-0230-41a7-e8e8-0c4dc613c890"
      },
      "outputs": [
        {
          "output_type": "stream",
          "name": "stdout",
          "text": [
            "+---+------+----------+-----+-------------------+-------------------+-------------------+------------------+----------------+\n|id |name  |date      |time |timestamp          |login              |logout             |total_time_seconds|total_time_hours|\n+---+------+----------+-----+-------------------+-------------------+-------------------+------------------+----------------+\n|1  |manish|11-07-2023|10:20|2023-07-11 10:20:00|2023-07-11 10:20:00|2023-07-11 19:20:00|32400             |9.0             |\n|1  |manish|11-07-2023|11:20|2023-07-11 11:20:00|2023-07-11 10:20:00|2023-07-11 19:20:00|32400             |9.0             |\n|1  |manish|11-07-2023|11:50|2023-07-11 11:50:00|2023-07-11 10:20:00|2023-07-11 19:20:00|32400             |9.0             |\n|1  |manish|11-07-2023|19:20|2023-07-11 19:20:00|2023-07-11 10:20:00|2023-07-11 19:20:00|32400             |9.0             |\n|1  |manish|12-07-2023|10:32|2023-07-12 10:32:00|2023-07-12 10:32:00|2023-07-12 16:23:00|21060             |5.85            |\n|1  |manish|12-07-2023|12:20|2023-07-12 12:20:00|2023-07-12 10:32:00|2023-07-12 16:23:00|21060             |5.85            |\n|1  |manish|12-07-2023|16:23|2023-07-12 16:23:00|2023-07-12 10:32:00|2023-07-12 16:23:00|21060             |5.85            |\n|2  |rajesh|11-07-2023|11:20|2023-07-11 11:20:00|2023-07-11 11:20:00|2023-07-11 17:20:00|21600             |6.0             |\n|2  |rajesh|11-07-2023|13:20|2023-07-11 13:20:00|2023-07-11 11:20:00|2023-07-11 17:20:00|21600             |6.0             |\n|2  |rajesh|11-07-2023|17:20|2023-07-11 17:20:00|2023-07-11 11:20:00|2023-07-11 17:20:00|21600             |6.0             |\n|3  |vikash|12-07-2023|09:12|2023-07-12 09:12:00|2023-07-12 09:12:00|2023-07-12 18:08:00|32160             |8.93            |\n|3  |vikash|12-07-2023|18:08|2023-07-12 18:08:00|2023-07-12 09:12:00|2023-07-12 18:08:00|32160             |8.93            |\n+---+------+----------+-----+-------------------+-------------------+-------------------+------------------+----------------+\n\n"
          ]
        }
      ],
      "source": [
        "window = Window.partitionBy('id', 'date').orderBy('date').rowsBetween(Window.unboundedPreceding, Window.unboundedFollowing)\n",
        "\n",
        "new_df = emp_df.withColumn('login', first('timestamp').over(window))\\\n",
        "               .withColumn('logout', last('timestamp').over(window))\\\n",
        "               .withColumn('login', to_timestamp('login', 'yyyy-MM-dd HH:mm:ss'))\\\n",
        "               .withColumn('logout', to_timestamp('logout', 'yyyy-MM-dd HH:mm:ss'))\\\n",
        "                .withColumn(\"total_time_seconds\", (unix_timestamp('logout') - unix_timestamp('login')))\\\n",
        "               .withColumn(\"total_time_hours\", round(col(\"total_time_seconds\") / 3600, 2))\n",
        "\n",
        "new_df.show(truncate=False)"
      ]
    },
    {
      "cell_type": "code",
      "execution_count": null,
      "metadata": {
        "application/vnd.databricks.v1+cell": {
          "cellMetadata": {
            "byteLimit": 2048000,
            "rowLimit": 10000
          },
          "inputWidgets": {},
          "nuid": "f08ecff0-1078-4b4b-8332-9351a95f5ede",
          "showTitle": false,
          "tableResultSettingsMap": {},
          "title": ""
        },
        "id": "PW7FBefnyV2V",
        "outputId": "a53432a5-4b0c-4ff7-ef67-c50a61e49131"
      },
      "outputs": [
        {
          "output_type": "stream",
          "name": "stdout",
          "text": [
            "+---+------+----------+----------------+\n| id|  name|      date|total_time_hours|\n+---+------+----------+----------------+\n|  1|manish|12-07-2023|            5.85|\n|  2|rajesh|11-07-2023|             6.0|\n+---+------+----------+----------------+\n\n"
          ]
        }
      ],
      "source": [
        "mailing_list = new_df.filter(col('total_time_hours') < 8).select(\"id\", \"name\", \"date\", \"total_time_hours\").distinct()\n",
        "mailing_list.show()"
      ]
    },
    {
      "cell_type": "code",
      "execution_count": null,
      "metadata": {
        "application/vnd.databricks.v1+cell": {
          "cellMetadata": {
            "byteLimit": 2048000,
            "rowLimit": 10000
          },
          "inputWidgets": {},
          "nuid": "c284bdbf-5791-40ed-9828-73e671bd9a20",
          "showTitle": false,
          "tableResultSettingsMap": {},
          "title": ""
        },
        "id": "9bWh5ACgyV2W",
        "outputId": "ff281e0e-a4e8-4527-adfe-377d025f948c"
      },
      "outputs": [
        {
          "output_type": "stream",
          "name": "stdout",
          "text": [
            "+----------+------------+----------+-------+\n|product_id|product_name|sales_date|  sales|\n+----------+------------+----------+-------+\n|         1|      iphone|01-01-2023|1500000|\n|         2|     samsung|01-01-2023|1100000|\n|         3|     oneplus|01-01-2023|1100000|\n|         1|      iphone|01-02-2023|1300000|\n|         2|     samsung|01-02-2023|1120000|\n|         3|     oneplus|01-02-2023|1120000|\n|         1|      iphone|01-03-2023|1600000|\n|         2|     samsung|01-03-2023|1080000|\n|         3|     oneplus|01-03-2023|1160000|\n|         1|      iphone|01-04-2023|1700000|\n|         2|     samsung|01-04-2023|1800000|\n|         3|     oneplus|01-04-2023|1170000|\n|         1|      iphone|01-05-2023|1200000|\n|         2|     samsung|01-05-2023| 980000|\n|         3|     oneplus|01-05-2023|1175000|\n|         1|      iphone|01-06-2023|1100000|\n|         2|     samsung|01-06-2023|1100000|\n|         3|     oneplus|01-06-2023|1200000|\n+----------+------------+----------+-------+\n\n"
          ]
        }
      ],
      "source": [
        "# Question 3 Data\n",
        "product_data = [\n",
        "(1,\"iphone\",\"01-01-2023\",1500000),\n",
        "(2,\"samsung\",\"01-01-2023\",1100000),\n",
        "(3,\"oneplus\",\"01-01-2023\",1100000),\n",
        "(1,\"iphone\",\"01-02-2023\",1300000),\n",
        "(2,\"samsung\",\"01-02-2023\",1120000),\n",
        "(3,\"oneplus\",\"01-02-2023\",1120000),\n",
        "(1,\"iphone\",\"01-03-2023\",1600000),\n",
        "(2,\"samsung\",\"01-03-2023\",1080000),\n",
        "(3,\"oneplus\",\"01-03-2023\",1160000),\n",
        "(1,\"iphone\",\"01-04-2023\",1700000),\n",
        "(2,\"samsung\",\"01-04-2023\",1800000),\n",
        "(3,\"oneplus\",\"01-04-2023\",1170000),\n",
        "(1,\"iphone\",\"01-05-2023\",1200000),\n",
        "(2,\"samsung\",\"01-05-2023\",980000),\n",
        "(3,\"oneplus\",\"01-05-2023\",1175000),\n",
        "(1,\"iphone\",\"01-06-2023\",1100000),\n",
        "(2,\"samsung\",\"01-06-2023\",1100000),\n",
        "(3,\"oneplus\",\"01-06-2023\",1200000)\n",
        "]\n",
        "\n",
        "product_schema=[\"product_id\",\"product_name\",\"sales_date\",\"sales\"]\n",
        "\n",
        "product_df = spark.createDataFrame(data=product_data,schema=product_schema)\n",
        "\n",
        "product_df.show()"
      ]
    },
    {
      "cell_type": "code",
      "execution_count": null,
      "metadata": {
        "application/vnd.databricks.v1+cell": {
          "cellMetadata": {
            "byteLimit": 2048000,
            "rowLimit": 10000
          },
          "inputWidgets": {},
          "nuid": "7e94a467-df00-4aaa-a0b7-c5ae9400bd98",
          "showTitle": false,
          "tableResultSettingsMap": {},
          "title": ""
        },
        "id": "pTApABYiyV2W",
        "outputId": "f4c0baa4-b1a6-489d-f207-8af6ce861b0d"
      },
      "outputs": [
        {
          "output_type": "stream",
          "name": "stdout",
          "text": [
            "+----------+------------+----------+-------+-----------+\n|product_id|product_name|sales_date|  sales|running_sum|\n+----------+------------+----------+-------+-----------+\n|         1|      iphone|01-01-2023|1500000|    1500000|\n|         1|      iphone|01-02-2023|1300000|    2800000|\n|         1|      iphone|01-03-2023|1600000|    4400000|\n|         1|      iphone|01-04-2023|1700000|    4600000|\n|         1|      iphone|01-05-2023|1200000|    4500000|\n|         1|      iphone|01-06-2023|1100000|    4000000|\n|         2|     samsung|01-01-2023|1100000|    1100000|\n|         2|     samsung|01-02-2023|1120000|    2220000|\n|         2|     samsung|01-03-2023|1080000|    3300000|\n|         2|     samsung|01-04-2023|1800000|    4000000|\n|         2|     samsung|01-05-2023| 980000|    3860000|\n|         2|     samsung|01-06-2023|1100000|    3880000|\n|         3|     oneplus|01-01-2023|1100000|    1100000|\n|         3|     oneplus|01-02-2023|1120000|    2220000|\n|         3|     oneplus|01-03-2023|1160000|    3380000|\n|         3|     oneplus|01-04-2023|1170000|    3450000|\n|         3|     oneplus|01-05-2023|1175000|    3505000|\n|         3|     oneplus|01-06-2023|1200000|    3545000|\n+----------+------------+----------+-------+-----------+\n\n"
          ]
        }
      ],
      "source": [
        "# 3. Find out the performance of sales based on last 3 months average\n",
        "# Note: We need to drop the data of January and February beacuse we want the last 3 months average\n",
        "\n",
        "# Define the window spec to look at the last 2 rows (including current row)\n",
        "window = Window.partitionBy(\"product_id\").orderBy(\"sales_date\").rowsBetween(-2, 0)\n",
        "\n",
        "product_df = product_df.withColumn(\"running_sum\", sum(\"sales\").over(window))\\\n",
        "\n",
        "product_df.show()"
      ]
    },
    {
      "cell_type": "code",
      "execution_count": null,
      "metadata": {
        "application/vnd.databricks.v1+cell": {
          "cellMetadata": {
            "byteLimit": 2048000,
            "rowLimit": 10000
          },
          "inputWidgets": {},
          "nuid": "9e1e3840-9964-43c8-b3f6-5cb63086ad5c",
          "showTitle": false,
          "tableResultSettingsMap": {},
          "title": ""
        },
        "id": "NpqRnsy8yV2X",
        "outputId": "0d8d5955-09eb-4116-e61d-d74a14a86c4e"
      },
      "outputs": [
        {
          "output_type": "stream",
          "name": "stdout",
          "text": [
            "+----------+------------+----------+-------+-----------+----------+\n|product_id|product_name|sales_date|  sales|running_sum|row_number|\n+----------+------------+----------+-------+-----------+----------+\n|         1|      iphone|01-01-2023|1500000|    1500000|         1|\n|         1|      iphone|01-02-2023|1300000|    2800000|         2|\n|         1|      iphone|01-03-2023|1600000|    4400000|         3|\n|         1|      iphone|01-04-2023|1700000|    4600000|         4|\n|         1|      iphone|01-05-2023|1200000|    4500000|         5|\n|         1|      iphone|01-06-2023|1100000|    4000000|         6|\n|         2|     samsung|01-01-2023|1100000|    1100000|         1|\n|         2|     samsung|01-02-2023|1120000|    2220000|         2|\n|         2|     samsung|01-03-2023|1080000|    3300000|         3|\n|         2|     samsung|01-04-2023|1800000|    4000000|         4|\n|         2|     samsung|01-05-2023| 980000|    3860000|         5|\n|         2|     samsung|01-06-2023|1100000|    3880000|         6|\n|         3|     oneplus|01-01-2023|1100000|    1100000|         1|\n|         3|     oneplus|01-02-2023|1120000|    2220000|         2|\n|         3|     oneplus|01-03-2023|1160000|    3380000|         3|\n|         3|     oneplus|01-04-2023|1170000|    3450000|         4|\n|         3|     oneplus|01-05-2023|1175000|    3505000|         5|\n|         3|     oneplus|01-06-2023|1200000|    3545000|         6|\n+----------+------------+----------+-------+-----------+----------+\n\n"
          ]
        }
      ],
      "source": [
        "product_df = product_df.withColumn(\"row_number\", row_number().over(Window.partitionBy(\"product_id\").orderBy(\"sales_date\")))\n",
        "product_df.show()"
      ]
    },
    {
      "cell_type": "code",
      "execution_count": null,
      "metadata": {
        "application/vnd.databricks.v1+cell": {
          "cellMetadata": {
            "byteLimit": 2048000,
            "rowLimit": 10000
          },
          "inputWidgets": {},
          "nuid": "3efafebf-b343-467b-b63c-3acb13056f4d",
          "showTitle": false,
          "tableResultSettingsMap": {},
          "title": ""
        },
        "id": "63MNcbZ0yV2X",
        "outputId": "88b08e42-d1e2-4cb5-f097-7c41fb97c542"
      },
      "outputs": [
        {
          "output_type": "stream",
          "name": "stdout",
          "text": [
            "+----------+------------+----------+-------+-----------+----------+\n|product_id|product_name|sales_date|  sales|running_sum|row_number|\n+----------+------------+----------+-------+-----------+----------+\n|         1|      iphone|01-03-2023|1600000|    4400000|         3|\n|         1|      iphone|01-04-2023|1700000|    4600000|         4|\n|         1|      iphone|01-05-2023|1200000|    4500000|         5|\n|         1|      iphone|01-06-2023|1100000|    4000000|         6|\n|         2|     samsung|01-03-2023|1080000|    3300000|         3|\n|         2|     samsung|01-04-2023|1800000|    4000000|         4|\n|         2|     samsung|01-05-2023| 980000|    3860000|         5|\n|         2|     samsung|01-06-2023|1100000|    3880000|         6|\n|         3|     oneplus|01-03-2023|1160000|    3380000|         3|\n|         3|     oneplus|01-04-2023|1170000|    3450000|         4|\n|         3|     oneplus|01-05-2023|1175000|    3505000|         5|\n|         3|     oneplus|01-06-2023|1200000|    3545000|         6|\n+----------+------------+----------+-------+-----------+----------+\n\n"
          ]
        }
      ],
      "source": [
        "product_df = product_df.filter(col(\"row_number\") > 2)\n",
        "\n",
        "product_df.show()\n"
      ]
    },
    {
      "cell_type": "code",
      "execution_count": null,
      "metadata": {
        "application/vnd.databricks.v1+cell": {
          "cellMetadata": {
            "byteLimit": 2048000,
            "rowLimit": 10000
          },
          "inputWidgets": {},
          "nuid": "21b17b67-4129-44fd-89a1-4fb2d6e2e01c",
          "showTitle": false,
          "tableResultSettingsMap": {},
          "title": ""
        },
        "id": "kIuxD3uMyV2X",
        "outputId": "9e4300b8-391e-4669-f3c3-77c8c5f246ef"
      },
      "outputs": [
        {
          "output_type": "stream",
          "name": "stdout",
          "text": [
            "+----------+------------+----------+-------+-----------+----------+-----------+\n|product_id|product_name|sales_date|  sales|running_sum|row_number|running_avg|\n+----------+------------+----------+-------+-----------+----------+-----------+\n|         1|      iphone|01-03-2023|1600000|    4400000|         3| 1466666.67|\n|         1|      iphone|01-04-2023|1700000|    4600000|         4| 1533333.33|\n|         1|      iphone|01-05-2023|1200000|    4500000|         5|  1500000.0|\n|         1|      iphone|01-06-2023|1100000|    4000000|         6| 1333333.33|\n|         2|     samsung|01-03-2023|1080000|    3300000|         3|  1100000.0|\n|         2|     samsung|01-04-2023|1800000|    4000000|         4| 1333333.33|\n|         2|     samsung|01-05-2023| 980000|    3860000|         5| 1286666.67|\n|         2|     samsung|01-06-2023|1100000|    3880000|         6| 1293333.33|\n|         3|     oneplus|01-03-2023|1160000|    3380000|         3| 1126666.67|\n|         3|     oneplus|01-04-2023|1170000|    3450000|         4|  1150000.0|\n|         3|     oneplus|01-05-2023|1175000|    3505000|         5| 1168333.33|\n|         3|     oneplus|01-06-2023|1200000|    3545000|         6| 1181666.67|\n+----------+------------+----------+-------+-----------+----------+-----------+\n\n"
          ]
        }
      ],
      "source": [
        "product_df.withColumn(\"running_avg\", round(col(\"running_sum\")/3, 2)).show()"
      ]
    },
    {
      "cell_type": "markdown",
      "metadata": {
        "application/vnd.databricks.v1+cell": {
          "cellMetadata": {},
          "inputWidgets": {},
          "nuid": "58742d24-7b90-41c5-b4b6-7bd431216095",
          "showTitle": false,
          "tableResultSettingsMap": {},
          "title": ""
        },
        "id": "OPMyLCXAyV2Y"
      },
      "source": [
        "## 12. Flatten nested JSON in Spark"
      ]
    },
    {
      "cell_type": "code",
      "execution_count": null,
      "metadata": {
        "application/vnd.databricks.v1+cell": {
          "cellMetadata": {
            "byteLimit": 2048000,
            "rowLimit": 10000
          },
          "inputWidgets": {},
          "nuid": "f3d75743-2043-4b86-9385-5076fc5eb6c6",
          "showTitle": false,
          "tableResultSettingsMap": {},
          "title": ""
        },
        "id": "snYl8yXNyV2Y",
        "outputId": "d687ef47-fb58-4d14-cabf-fa3d10782120"
      },
      "outputs": [
        {
          "output_type": "stream",
          "name": "stdout",
          "text": [
            "+----+-------+--------------------+-------------+-------------+-------------+------+\n|code|message|         restaurants|results_found|results_shown|results_start|status|\n+----+-------+--------------------+-------------+-------------+-------------+------+\n|null|   null|                  []|            0|            0|            1|  null|\n|null|   null|[{{{17066603}, b9...|         6835|           20|            1|  null|\n|null|   null|                  []|            0|            0|            1|  null|\n|null|   null|                  []|            0|            0|            1|  null|\n|null|   null|[{{{17093124}, b9...|         8680|           20|            1|  null|\n|null|   null|                  []|            0|            0|            1|  null|\n|null|   null|                  []|            0|            0|            1|  null|\n|null|   null|[{{{17580142}, b9...|          943|           20|            1|  null|\n|null|   null|                  []|            0|            0|            1|  null|\n|null|   null|                  []|            0|            0|            1|  null|\n|null|   null|[{{{17284158}, b9...|          257|           20|            1|  null|\n|null|   null|                  []|            0|            0|            1|  null|\n|null|   null|                  []|            0|            0|            1|  null|\n|null|   null|[{{{17678233}, b9...|          358|           20|            1|  null|\n|null|   null|                  []|            0|            0|            1|  null|\n|null|   null|                  []|            0|            0|            1|  null|\n|null|   null|[{{{17375047}, b9...|          641|           20|            1|  null|\n|null|   null|                  []|            0|            0|            1|  null|\n|null|   null|                  []|            0|            0|            1|  null|\n|null|   null|[{{{17616590}, b9...|         1613|           20|            1|  null|\n+----+-------+--------------------+-------------+-------------+-------------+------+\nonly showing top 20 rows\n\n"
          ]
        }
      ],
      "source": [
        "restaurant_df = spark.read.format(\"json\").option(\"multiline\", \"true\").option(\"inferschema\", \"true\").load(\"/FileStore/tables/resturant_json_data.json\")\n",
        "restaurant_df.show()"
      ]
    },
    {
      "cell_type": "code",
      "execution_count": null,
      "metadata": {
        "application/vnd.databricks.v1+cell": {
          "cellMetadata": {
            "byteLimit": 2048000,
            "rowLimit": 10000
          },
          "inputWidgets": {},
          "nuid": "c8042e90-8b87-4534-bc67-e4e3968fe164",
          "showTitle": false,
          "tableResultSettingsMap": {},
          "title": ""
        },
        "id": "d_MzUKXiyV2Z",
        "outputId": "ea82ad7a-9ce0-4392-b9a1-99c2e432325f"
      },
      "outputs": [
        {
          "output_type": "stream",
          "name": "stdout",
          "text": [
            "root\n |-- code: long (nullable = true)\n |-- message: string (nullable = true)\n |-- restaurants: array (nullable = true)\n |    |-- element: struct (containsNull = true)\n |    |    |-- restaurant: struct (nullable = true)\n |    |    |    |-- R: struct (nullable = true)\n |    |    |    |    |-- res_id: long (nullable = true)\n |    |    |    |-- apikey: string (nullable = true)\n |    |    |    |-- average_cost_for_two: long (nullable = true)\n |    |    |    |-- cuisines: string (nullable = true)\n |    |    |    |-- currency: string (nullable = true)\n |    |    |    |-- deeplink: string (nullable = true)\n |    |    |    |-- establishment_types: array (nullable = true)\n |    |    |    |    |-- element: string (containsNull = true)\n |    |    |    |-- events_url: string (nullable = true)\n |    |    |    |-- featured_image: string (nullable = true)\n |    |    |    |-- has_online_delivery: long (nullable = true)\n |    |    |    |-- has_table_booking: long (nullable = true)\n |    |    |    |-- id: string (nullable = true)\n |    |    |    |-- is_delivering_now: long (nullable = true)\n |    |    |    |-- location: struct (nullable = true)\n |    |    |    |    |-- address: string (nullable = true)\n |    |    |    |    |-- city: string (nullable = true)\n |    |    |    |    |-- city_id: long (nullable = true)\n |    |    |    |    |-- country_id: long (nullable = true)\n |    |    |    |    |-- latitude: string (nullable = true)\n |    |    |    |    |-- locality: string (nullable = true)\n |    |    |    |    |-- locality_verbose: string (nullable = true)\n |    |    |    |    |-- longitude: string (nullable = true)\n |    |    |    |    |-- zipcode: string (nullable = true)\n |    |    |    |-- menu_url: string (nullable = true)\n |    |    |    |-- name: string (nullable = true)\n |    |    |    |-- offers: array (nullable = true)\n |    |    |    |    |-- element: string (containsNull = true)\n |    |    |    |-- photos_url: string (nullable = true)\n |    |    |    |-- price_range: long (nullable = true)\n |    |    |    |-- switch_to_order_menu: long (nullable = true)\n |    |    |    |-- thumb: string (nullable = true)\n |    |    |    |-- url: string (nullable = true)\n |    |    |    |-- user_rating: struct (nullable = true)\n |    |    |    |    |-- aggregate_rating: string (nullable = true)\n |    |    |    |    |-- rating_color: string (nullable = true)\n |    |    |    |    |-- rating_text: string (nullable = true)\n |    |    |    |    |-- votes: string (nullable = true)\n |-- results_found: long (nullable = true)\n |-- results_shown: long (nullable = true)\n |-- results_start: string (nullable = true)\n |-- status: string (nullable = true)\n\n"
          ]
        }
      ],
      "source": [
        "restaurant_df.printSchema()"
      ]
    },
    {
      "cell_type": "markdown",
      "metadata": {
        "application/vnd.databricks.v1+cell": {
          "cellMetadata": {},
          "inputWidgets": {},
          "nuid": "8fe7181f-1ed5-4f12-8e2e-e43c85dddb6d",
          "showTitle": false,
          "tableResultSettingsMap": {},
          "title": ""
        },
        "id": "A02MGPNmyV2Z"
      },
      "source": [
        "- We have to thus, flatten **array** and **struct** type. For array type, we **`explode()`** and for struct type, we will use **`.(dot)`** to access children.\n",
        "\n",
        "\n",
        "When we explode, if the value stored is `null`, then the records are dropped. In such a case, we use **`explode_outer`**"
      ]
    },
    {
      "cell_type": "code",
      "execution_count": null,
      "metadata": {
        "application/vnd.databricks.v1+cell": {
          "cellMetadata": {
            "byteLimit": 2048000,
            "rowLimit": 10000
          },
          "inputWidgets": {},
          "nuid": "82720f21-2f31-4927-af6f-a8a6afdae72c",
          "showTitle": false,
          "tableResultSettingsMap": {},
          "title": ""
        },
        "id": "Wj7MZziXyV2Z",
        "outputId": "9bfa6338-81c2-48c2-b334-f32d310832c0"
      },
      "outputs": [
        {
          "output_type": "stream",
          "name": "stdout",
          "text": [
            "+----+-------+-------------+-------------+-------------+------+---------------------+--------+-----------------------------+\n|code|message|results_found|results_shown|results_start|status|flattened_restaurants|  res_id|flattened_establishment_types|\n+----+-------+-------------+-------------+-------------+------+---------------------+--------+-----------------------------+\n|null|   null|         6835|           20|            1|  null| {{{17066603}, b90...|17066603|                         null|\n|null|   null|         6835|           20|            1|  null| {{{17059541}, b90...|17059541|                         null|\n|null|   null|         6835|           20|            1|  null| {{{17064405}, b90...|17064405|                         null|\n|null|   null|         6835|           20|            1|  null| {{{17057797}, b90...|17057797|                         null|\n|null|   null|         6835|           20|            1|  null| {{{17057591}, b90...|17057591|                         null|\n|null|   null|         6835|           20|            1|  null| {{{17064266}, b90...|17064266|                         null|\n|null|   null|         6835|           20|            1|  null| {{{17060516}, b90...|17060516|                         null|\n|null|   null|         6835|           20|            1|  null| {{{17060320}, b90...|17060320|                         null|\n|null|   null|         6835|           20|            1|  null| {{{17059060}, b90...|17059060|                         null|\n|null|   null|         6835|           20|            1|  null| {{{17059012}, b90...|17059012|                         null|\n|null|   null|         6835|           20|            1|  null| {{{17060869}, b90...|17060869|                         null|\n|null|   null|         6835|           20|            1|  null| {{{17061231}, b90...|17061231|                         null|\n|null|   null|         6835|           20|            1|  null| {{{17058534}, b90...|17058534|                         null|\n|null|   null|         6835|           20|            1|  null| {{{17057925}, b90...|17057925|                         null|\n|null|   null|         6835|           20|            1|  null| {{{17064031}, b90...|17064031|                         null|\n|null|   null|         6835|           20|            1|  null| {{{17061237}, b90...|17061237|                         null|\n|null|   null|         6835|           20|            1|  null| {{{17061253}, b90...|17061253|                         null|\n|null|   null|         6835|           20|            1|  null| {{{17061296}, b90...|17061296|                         null|\n|null|   null|         6835|           20|            1|  null| {{{17061205}, b90...|17061205|                         null|\n|null|   null|         6835|           20|            1|  null| {{{17057397}, b90...|17057397|                         null|\n+----+-------+-------------+-------------+-------------+------+---------------------+--------+-----------------------------+\nonly showing top 20 rows\n\n"
          ]
        }
      ],
      "source": [
        "restaurant_df.select(\"*\", explode(\"restaurants\").alias(\"flattened_restaurants\"))\\\n",
        "            .drop(\"restaurants\")\\\n",
        "            .select(\"*\", \"flattened_restaurants.restaurant.R.res_id\",\n",
        "                explode_outer(\"flattened_restaurants.restaurant.establishment_types\").alias(\"flattened_establishment_types\"))\\\n",
        "            .drop(\"flattened_restaurants.restaurant.establishment_types\")\\\n",
        "            .show()"
      ]
    }
  ],
  "metadata": {
    "application/vnd.databricks.v1+notebook": {
      "dashboards": [],
      "environmentMetadata": null,
      "language": "python",
      "notebookMetadata": {
        "mostRecentlyExecutedCommandWithImplicitDF": {
          "commandId": 2636093781425859,
          "dataframes": [
            "_sqldf"
          ]
        },
        "pythonIndentUnit": 4
      },
      "notebookName": "Spark",
      "widgets": {}
    },
    "colab": {
      "provenance": [],
      "include_colab_link": true
    },
    "language_info": {
      "name": "python"
    },
    "kernelspec": {
      "name": "python3",
      "display_name": "Python 3"
    }
  },
  "nbformat": 4,
  "nbformat_minor": 0
}